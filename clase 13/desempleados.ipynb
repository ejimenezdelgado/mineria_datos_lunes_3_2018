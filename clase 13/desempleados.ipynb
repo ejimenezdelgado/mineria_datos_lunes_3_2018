{
 "cells": [
  {
   "cell_type": "markdown",
   "metadata": {},
   "source": [
    "# Serie de tiempo\n",
    "Una serie temporal o cronológica es una secuencia de datos, observaciones o valores, medidos en determinados momentos y ordenados cronológicamente. Los datos pueden estar espaciados a intervalos iguales (como la temperatura en un observatorio meteorológico en días sucesivos al mediodía) o desiguales (como el peso de una persona en sucesivas mediciones en el consultorio médico, la farmacia, etc.)\n",
    "\n",
    "### Autores\n",
    "   * Efrén Jiménez\n",
    "\n",
    "## Análisis del Problema\n",
    "\n",
    "##### Breve historia del empleo en los Estados Unidos.\n",
    "\n",
    "Durante la década de 1940, el Departamento de Trabajo de los EE. UU., Específicamente la Oficina de Estadísticas Laborales (BLS), comenzó a recopilar información sobre el empleo a través de encuestas de hogares mensuales. Otras series de datos están disponibles hasta 1912. La tasa de desempleo varió desde un 1% durante la Primera Guerra Mundial hasta un 25% durante la Gran Depresión (en la mayoría de los países comenzó en 1929 y duró hasta 1941). la depresión más larga, profunda y extendida del siglo XX). Más recientemente, alcanzó un máximo de 10.8% en noviembre de 1982 y 10.0% en octubre de 2009. El desempleo tiende a aumentar durante las recesiones y cae durante las expansiones. De 1948 a 2015, el desempleo promedió alrededor del 5,8%. Los Estados Unidos han experimentado 11 recesiones desde el final de la posguerra en 1948.\n",
    "\n",
    "![work](img/dataset-cover.jpg)\n"
   ]
  },
  {
   "cell_type": "markdown",
   "metadata": {},
   "source": [
    "##### Algunas definiciones básicas\n",
    "\n",
    "La Oficina de Estadísticas Laborales de los Estados Unidos ha definido los conceptos básicos de empleo de la siguiente manera:\n",
    "\n",
    "- Las personas con empleo son * empleadas *.\n",
    "- Las personas que están desempleadas, en busca de empleo y disponibles para trabajar están * desempleadas *.\n",
    "- Las personas que no están empleadas ni desempleadas no están en la fuerza laboral.\n",
    "\n",
    "¿Quién no está en la fuerza laboral?\n",
    "\n",
    "- La fuerza laboral está formada por personas empleadas y desempleadas que tienen 16 años o más.\n",
    "- El resto, aquellos que no tienen trabajo y no están buscando uno, se cuentan como \"no en la fuerza laboral\". Muchos de los que no están en la fuerza laboral van a la escuela o están jubilados. Las responsabilidades familiares mantienen a otros fuera de la fuerza laboral.\n",
    "- Las personas confinadas a instituciones como las prisiones o en servicio activo en las Fuerzas Armadas están excluidas de los cálculos de la fuerza laboral.\n",
    "\n",
    "#####  Tasas de desempleo\n",
    "\n",
    "Hay una variedad de medidas utilizadas para rastrear el estado del mercado laboral de los Estados Unidos. Cada uno proporciona una visión de los factores que afectan el empleo. A continuación se presentan algunos de los más comunes:\n",
    "\n",
    "- Siempre hay algo de desempleo, con personas que cambian de trabajo y nuevos participantes en la fuerza laboral que buscan trabajo. Esto se conoce como desempleo friccional. Por este motivo, la Reserva Federal apunta a la ** tasa natural de desempleo o NAIRU **, que fue de alrededor del 5% en 2015.\n",
    "- ** La tasa de desempleo (U-3) **, medida como el número de personas desempleadas dividida por la fuerza laboral civil, aumentó de 5.0% en diciembre de 2007 a un máximo de 10.0% en octubre de 2009, antes de caer al nivel bajo del 4,7% en mayo de 2016. Esta medida excluye a las personas que no están en la fuerza laboral, lo que puede distorsionar su interpretación si un gran número de personas en edad de trabajar se desanime y deja de buscar trabajo.\n",
    "- ** La tasa de desempleo (U-6) ** es una medida más amplia del desempleo, que trata a los trabajadores adicionales como desempleados (por ejemplo, los empleados a tiempo parcial por razones económicas, etc.). La tasa U-6 aumentó de 8.8% en diciembre de 2007 a un máximo de 17.1% en noviembre de 2009, antes de caer constantemente a 9.7% en mayo de 2016.\n",
    "\n",
    "#####  Resumen de los datos utilizados\n",
    "\n",
    "Los datos utilizados a los fines de este informe representan las estadísticas de desempleo en el área local desde enero de 1990 hasta diciembre de 2016, desglosadas por estado y mes. La versión formateada de los datos en formato CSV para los fines de este análisis se obtuvo de [Kaggle] (https://www.kaggle.com/jayrav13/unemployment-by-county-us). Los datos sin formato sin procesar están disponibles aquí en el [sitio web de la Oficina de Estadísticas Laborales de los Estados Unidos] (https://data.bls.gov/map/MapToolServlet?survey=la&map=county&seasonal=u).\n",
    "\n",
    "** Nota: ** Estas tasas de desempleo son tasas generales mensuales U-3 y no están ajustadas por temporada ni categorizadas por edad, sexo, nivel de educación, etc. Tenga en cuenta que en realidad, las tasas de desempleo que se reportan generalmente se ajustan por estacionalidad. (El ajuste estacional es una técnica estadística que intenta medir y eliminar las influencias de patrones estacionales predecibles para revelar cómo el empleo y el desempleo cambian de un mes a otro)."
   ]
  },
  {
   "cell_type": "markdown",
   "metadata": {},
   "source": [
    "## Entendimiento de los Datos\n",
    "\n",
    "Con el fin de analizar y tratar de predecir el desempleo en Estados Unidos se obtuvieron 885548 observaciones y 5 variables. Los siguientes datos fueron extraidos de diferentes estudios durante 27 años \n",
    "\n",
    "\n",
    "- Year  : numérica, con un rango de 9 a 46.60.\n",
    "- Month : categórica ordinal  \"February\" \"February\" \"February\" \"February\" ...\n",
    "- State : categórica ordinal  \"Mississippi\" \"Mississippi\" \"Mississippi\" \"Mississippi\" ...\n",
    "- County: categórica ordinal  \"Newton County\" \"Panola County\" \"Monroe County\" \"Hinds County\" ...\n",
    "- Rate  : numérica  6.1 9.4 7.9 6.1 10.6 6.9 7.9 14.3 4.5 11.1 ...\n"
   ]
  },
  {
   "cell_type": "markdown",
   "metadata": {},
   "source": [
    "## Exploración de los Datos"
   ]
  },
  {
   "cell_type": "code",
   "execution_count": 3,
   "metadata": {},
   "outputs": [
    {
     "name": "stdout",
     "output_type": "stream",
     "text": [
      "'data.frame':\t885548 obs. of  5 variables:\n",
      " $ Year  : int  2015 2015 2015 2015 2015 2015 2015 2015 2015 2015 ...\n",
      " $ Month : chr  \"February\" \"February\" \"February\" \"February\" ...\n",
      " $ State : chr  \"Mississippi\" \"Mississippi\" \"Mississippi\" \"Mississippi\" ...\n",
      " $ County: chr  \"Newton County\" \"Panola County\" \"Monroe County\" \"Hinds County\" ...\n",
      " $ Rate  : num  6.1 9.4 7.9 6.1 10.6 6.9 7.9 14.3 4.5 11.1 ...\n"
     ]
    },
    {
     "data": {
      "image/png": "[encoded data removed]",
      "text/plain": [
       "Plot with title \"Tasa media anual de desempleo en Estados Unidos\""
      ]
     },
     "metadata": {},
     "output_type": "display_data"
    }
   ],
   "source": [
    "## Lee el archivo csv\n",
    "unemp.data <- read.csv('output.csv', header = TRUE, stringsAsFactors = FALSE)\n",
    "# Obtener información general sobre el conjunto de datos \n",
    "str(unemp.data)\n",
    "# Tasa de desempleo anual para los Estados Unidos desde 1990 hasta 2016\n",
    "Annual.rate <- sapply(split(unemp.data$Rate, unemp.data$Year), mean)\n",
    "Year = c(1990:2016)\n",
    "plot(Year, Annual.rate,  main = \"Tasa media anual de desempleo en Estados Unidos\")\n",
    "lines(Year, Annual.rate)"
   ]
  },
  {
   "cell_type": "markdown",
   "metadata": {},
   "source": [
    "Este conjunto de datos abarca más de 3 recesiones. El país pasó por una recesión en 1990. El colapso de la burbuja de Internet y los ataques del 11 de septiembre empujaron al país a otra recesión en 2001, poco después de que George W. Bush asumiera el cargo. La crisis financiera de 2007 a 2009 dio lugar a una tercera recesión. Podemos ver el aumento correspondiente en las tasas de desempleo para estos períodos de tiempo en el gráfico anterior, el más marcado es el que muestra la reciente crisis financiera."
   ]
  },
  {
   "cell_type": "markdown",
   "metadata": {},
   "source": [
    "### Preparación del conjunto de datos para su análisis.\n",
    "Este conjunto de datos tiene casi 900 mil observaciones con aproximadamente 3 mil observaciones por cada mes de cada año desde 1990 hasta 2016. A continuación, encontremos la tasa mensual promedio de desempleo para cada uno de los 27 años. Tendremos 12 observaciones por cada año de esta manera. Crearemos un conjunto de datos abreviado con estas tasas medias mensuales."
   ]
  },
  {
   "cell_type": "code",
   "execution_count": 12,
   "metadata": {},
   "outputs": [],
   "source": [
    "# Dividir en conjuntos de datos más pequeños clasificados por año\n",
    "sub.1990 <- subset(unemp.data, unemp.data[,1] == 1990)\n",
    "sub.1991 <- subset(unemp.data, unemp.data[,1] == 1991)\n",
    "sub.1992 <- subset(unemp.data, unemp.data[,1] == 1992)\n",
    "sub.1993 <- subset(unemp.data, unemp.data[,1] == 1993)\n",
    "sub.1994 <- subset(unemp.data, unemp.data[,1] == 1994)\n",
    "sub.1995 <- subset(unemp.data, unemp.data[,1] == 1995)\n",
    "sub.1996 <- subset(unemp.data, unemp.data[,1] == 1996)\n",
    "sub.1997 <- subset(unemp.data, unemp.data[,1] == 1997)\n",
    "sub.1998 <- subset(unemp.data, unemp.data[,1] == 1998)\n",
    "sub.1999 <- subset(unemp.data, unemp.data[,1] == 1999)\n",
    "sub.2000 <- subset(unemp.data, unemp.data[,1] == 2000)\n",
    "sub.2001 <- subset(unemp.data, unemp.data[,1] == 2001)\n",
    "sub.2002 <- subset(unemp.data, unemp.data[,1] == 2002)\n",
    "sub.2003 <- subset(unemp.data, unemp.data[,1] == 2003)\n",
    "sub.2004 <- subset(unemp.data, unemp.data[,1] == 2004)\n",
    "sub.2005 <- subset(unemp.data, unemp.data[,1] == 2005)\n",
    "sub.2006 <- subset(unemp.data, unemp.data[,1] == 2006)\n",
    "sub.2007 <- subset(unemp.data, unemp.data[,1] == 2007)\n",
    "sub.2008 <- subset(unemp.data, unemp.data[,1] == 2008)\n",
    "sub.2009 <- subset(unemp.data, unemp.data[,1] == 2009)\n",
    "sub.2010 <- subset(unemp.data, unemp.data[,1] == 2010)\n",
    "sub.2011 <- subset(unemp.data, unemp.data[,1] == 2011)\n",
    "sub.2012 <- subset(unemp.data, unemp.data[,1] == 2012)\n",
    "sub.2013 <- subset(unemp.data, unemp.data[,1] == 2013)\n",
    "sub.2014 <- subset(unemp.data, unemp.data[,1] == 2014)\n",
    "sub.2015 <- subset(unemp.data, unemp.data[,1] == 2015)\n",
    "sub.2016 <- subset(unemp.data, unemp.data[,1] == 2016)"
   ]
  },
  {
   "cell_type": "code",
   "execution_count": 15,
   "metadata": {},
   "outputs": [],
   "source": [
    "#Preparar los datos para el análisis de series de tiempo\n",
    "# Tasa de empleo mensual promedio ordenada por año para todos los EE. UU.\n",
    "mean1990 <- sapply(split(sub.1990$Rate, factor(sub.1990$Month, month.name, ordered=TRUE)), mean) \n",
    "mean1991 <- sapply(split(sub.1991$Rate, factor(sub.1991$Month, month.name, ordered=TRUE)), mean) \n",
    "mean1992 <- sapply(split(sub.1992$Rate, factor(sub.1992$Month, month.name, ordered=TRUE)), mean) \n",
    "mean1993 <- sapply(split(sub.1993$Rate, factor(sub.1993$Month, month.name, ordered=TRUE)), mean) \n",
    "mean1994 <- sapply(split(sub.1994$Rate, factor(sub.1994$Month, month.name, ordered=TRUE)), mean) \n",
    "mean1995 <- sapply(split(sub.1995$Rate, factor(sub.1995$Month, month.name, ordered=TRUE)), mean) \n",
    "mean1996 <- sapply(split(sub.1996$Rate, factor(sub.1996$Month, month.name, ordered=TRUE)), mean) \n",
    "mean1997 <- sapply(split(sub.1997$Rate, factor(sub.1997$Month, month.name, ordered=TRUE)), mean) \n",
    "mean1998 <- sapply(split(sub.1998$Rate, factor(sub.1998$Month, month.name, ordered=TRUE)), mean) \n",
    "mean1999 <- sapply(split(sub.1999$Rate, factor(sub.1999$Month, month.name, ordered=TRUE)), mean) \n",
    "mean2000 <- sapply(split(sub.2000$Rate, factor(sub.2000$Month, month.name, ordered=TRUE)), mean) \n",
    "mean2001 <- sapply(split(sub.2001$Rate, factor(sub.2001$Month, month.name, ordered=TRUE)), mean) \n",
    "mean2002 <- sapply(split(sub.2002$Rate, factor(sub.2002$Month, month.name, ordered=TRUE)), mean) \n",
    "mean2003 <- sapply(split(sub.2003$Rate, factor(sub.2003$Month, month.name, ordered=TRUE)), mean) \n",
    "mean2004 <- sapply(split(sub.2004$Rate, factor(sub.2004$Month, month.name, ordered=TRUE)), mean) \n",
    "mean2005 <- sapply(split(sub.2005$Rate, factor(sub.2005$Month, month.name, ordered=TRUE)), mean) \n",
    "mean2006 <- sapply(split(sub.2006$Rate, factor(sub.2006$Month, month.name, ordered=TRUE)), mean) \n",
    "mean2007 <- sapply(split(sub.2007$Rate, factor(sub.2007$Month, month.name, ordered=TRUE)), mean) \n",
    "mean2008 <- sapply(split(sub.2008$Rate, factor(sub.2008$Month, month.name, ordered=TRUE)), mean) \n",
    "mean2009 <- sapply(split(sub.2009$Rate, factor(sub.2009$Month, month.name, ordered=TRUE)), mean) \n",
    "mean2010 <- sapply(split(sub.2010$Rate, factor(sub.2010$Month, month.name, ordered=TRUE)), mean) \n",
    "mean2011 <- sapply(split(sub.2011$Rate, factor(sub.2011$Month, month.name, ordered=TRUE)), mean) \n",
    "mean2012 <- sapply(split(sub.2012$Rate, factor(sub.2012$Month, month.name, ordered=TRUE)), mean) \n",
    "mean2013 <- sapply(split(sub.2013$Rate, factor(sub.2013$Month, month.name, ordered=TRUE)), mean) \n",
    "mean2014 <- sapply(split(sub.2014$Rate, factor(sub.2014$Month, month.name, ordered=TRUE)), mean) \n",
    "mean2015 <- sapply(split(sub.2015$Rate, factor(sub.2015$Month, month.name, ordered=TRUE)), mean) \n",
    "mean2016 <- sapply(split(sub.2016$Rate, factor(sub.2016$Month, month.name, ordered=TRUE)), mean) "
   ]
  },
  {
   "cell_type": "code",
   "execution_count": 17,
   "metadata": {},
   "outputs": [],
   "source": [
    "#Crear un marco de datos de tasas medias mensuales por año\n",
    "mean.monthly.rate = data.frame('year'=c(rep(1990,12),rep(1991,12),rep(1992,12),rep(1993,12),rep(1994,12),rep(1995,12),\n",
    "                         rep(1996,12),rep(1997,12),rep(1998,12),rep(1999,12),rep(2000,12),rep(2001,12),rep(2002,12),rep(2003,12),\n",
    "                         rep(2004,12),rep(2005,12),rep(2006,12),rep(2007,12),rep(2008,12),rep(2009,12),rep(2010,12),\n",
    "                         rep(2011,12),rep(2012,12),rep(2013,12),rep(2014,12),rep(2015,12),rep(2016,12)),\n",
    "                'month' = rep(c('Jan','Feb','Mar','Apr','May','Jun','Jul','Aug','Sep','Oct','Nov','Dec'),27),\n",
    "                'rate' = c(mean1990,mean1991,mean1992,mean1993,mean1994,mean1995,mean1996,mean1997,mean1998,mean1999,\n",
    "                           mean2000,mean2001,mean2002,mean2003,mean2004,mean2005,mean2006,mean2007,mean2008,mean2009,\n",
    "                           mean2010,mean2011,mean2012,mean2013,mean2014,mean2015,mean2016))"
   ]
  },
  {
   "cell_type": "code",
   "execution_count": 18,
   "metadata": {},
   "outputs": [
    {
     "data": {
      "text/html": [
       "<table>\n",
       "<thead><tr><th scope=col>year</th><th scope=col>month</th><th scope=col>rate</th></tr></thead>\n",
       "<tbody>\n",
       "\t<tr><td>1990    </td><td>Jan     </td><td>7.055016</td></tr>\n",
       "\t<tr><td>1990    </td><td>Feb     </td><td>7.123685</td></tr>\n",
       "\t<tr><td>1990    </td><td>Mar     </td><td>6.516672</td></tr>\n",
       "\t<tr><td>1990    </td><td>Apr     </td><td>6.006778</td></tr>\n",
       "\t<tr><td>1990    </td><td>May     </td><td>5.614321</td></tr>\n",
       "\t<tr><td>1990    </td><td>Jun     </td><td>5.704363</td></tr>\n",
       "</tbody>\n",
       "</table>\n"
      ],
      "text/latex": [
       "\\begin{tabular}{r|lll}\n",
       " year & month & rate\\\\\n",
       "\\hline\n",
       "\t 1990     & Jan      & 7.055016\\\\\n",
       "\t 1990     & Feb      & 7.123685\\\\\n",
       "\t 1990     & Mar      & 6.516672\\\\\n",
       "\t 1990     & Apr      & 6.006778\\\\\n",
       "\t 1990     & May      & 5.614321\\\\\n",
       "\t 1990     & Jun      & 5.704363\\\\\n",
       "\\end{tabular}\n"
      ],
      "text/markdown": [
       "\n",
       "year | month | rate | \n",
       "|---|---|---|---|---|---|\n",
       "| 1990     | Jan      | 7.055016 | \n",
       "| 1990     | Feb      | 7.123685 | \n",
       "| 1990     | Mar      | 6.516672 | \n",
       "| 1990     | Apr      | 6.006778 | \n",
       "| 1990     | May      | 5.614321 | \n",
       "| 1990     | Jun      | 5.704363 | \n",
       "\n",
       "\n"
      ],
      "text/plain": [
       "  year month rate    \n",
       "1 1990 Jan   7.055016\n",
       "2 1990 Feb   7.123685\n",
       "3 1990 Mar   6.516672\n",
       "4 1990 Apr   6.006778\n",
       "5 1990 May   5.614321\n",
       "6 1990 Jun   5.704363"
      ]
     },
     "metadata": {},
     "output_type": "display_data"
    },
    {
     "name": "stdout",
     "output_type": "stream",
     "text": [
      "'data.frame':\t324 obs. of  3 variables:\n",
      " $ year : num  1990 1990 1990 1990 1990 1990 1990 1990 1990 1990 ...\n",
      " $ month: Factor w/ 12 levels \"Apr\",\"Aug\",\"Dec\",..: 5 4 8 1 9 7 6 2 12 11 ...\n",
      " $ rate : num  7.06 7.12 6.52 6.01 5.61 ...\n"
     ]
    }
   ],
   "source": [
    "#Las primeras filas de este conjunto de datos\n",
    "head(mean.monthly.rate)\n",
    "str(mean.monthly.rate)"
   ]
  },
  {
   "cell_type": "markdown",
   "metadata": {},
   "source": [
    "Exiten 324 observaciones en este nuevo conjunto de datos. Hemos reducido de casi 3k observaciones por mes por año a una observación por mes por año al tomar el promedio mensual. Este conjunto de datos ahora está listo para su posterior análisis.\n",
    "\n",
    "### Trabajando con series de tiempo en R\n",
    "\n",
    "R contiene varias clases de series de tiempo. En este caso, trabajaremos con la clase `ts` básica. Una clase poderosa de `zoo` proporciona más capacidades. El paquete `xts` agrega extensibilidad a la clase` zoo`. Muchas otras clases de series de tiempo R están disponibles.\n",
    "\n",
    "Los siguientes paquetes son necesarios para su posterior análisis:"
   ]
  },
  {
   "cell_type": "code",
   "execution_count": 23,
   "metadata": {},
   "outputs": [],
   "source": [
    "#Evitar mostrar warning messages\n",
    "options(warn=-1)\n",
    "# Cargar paquetes y funciones requeridos\n",
    "require(repr)\n",
    "require(forecast)"
   ]
  },
  {
   "cell_type": "markdown",
   "metadata": {},
   "source": [
    "Ahora, vamos a crear un objeto de series de tiempo de clase de R ts simple para la tasa de desempleo nacional de los Estados Unidos a partir del conjunto de datos anterior."
   ]
  },
  {
   "cell_type": "code",
   "execution_count": 24,
   "metadata": {},
   "outputs": [
    {
     "data": {
      "image/png": "[encoded data removed]",
      "text/plain": [
       "Plot with title \"Gráfico de series de tiempo de la tasa de desempleo en los Estados Unidos\""
      ]
     },
     "metadata": {},
     "output_type": "display_data"
    }
   ],
   "source": [
    "#Convierte a series de tiempo usando la función ts\n",
    "US.UnempRate.ts <- ts(mean.monthly.rate[,3], start = 1990, freq = 12)\n",
    "\n",
    "#Gráfico the time series\n",
    "options(repr.pmales.extlot.width=8, repr.plot.height=4)\n",
    "plot(US.UnempRate.ts, main = 'Gráfico de series de tiempo de la tasa de desempleo en los Estados Unidos')"
   ]
  },
  {
   "cell_type": "markdown",
   "metadata": {},
   "source": [
    "Decimos que una serie de tiempo con una variación constante es **estacionaria**. Las propiedades de una serie temporal estacionaria no varían con el tiempo.\n",
    "\n",
    "Existe un patrón **estacional** cuando una serie está influenciada por factores estacionales (por ejemplo, el trimestre del año, el mes o el día de la semana). La estacionalidad es siempre *de un período fijo y conocido*. Por lo tanto, las series temporales estacionales a veces se denominan **periódicas** series temporales.\n",
    "\n",
    "Existe un patrón **cíclico** cuando los datos muestran subidas y caídas que *no son de período fijo*. Por ejemplo, los ciclos económicos que suelen durar varios años, pero de antemano se desconoce la duración del ciclo actual.\n",
    "\n",
    "Existe una **tendencia** cuando hay un aumento o disminución a largo plazo en los datos. No tiene que ser lineal. A veces nos referiremos a una tendencia que \"cambia de dirección\" cuando podría ir de una tendencia creciente a una tendencia decreciente.\n",
    "\n",
    "En el gráfico anterior, notamos las siguientes propiedades de esta serie de tiempo.\n",
    "\n",
    "- Esta serie temporal tiene una tendencia significativa.\n",
    "- Tiene un componente estacional.\n",
    "- Tiene un patrón cíclico mostrado por el aumento y la caída de las tasas de desempleo correspondientes a las recesiones y expansiones.\n",
    "- La duración del ciclo (en años) varía con el tiempo.\n",
    "- El gráfico de la serie logarítmica transformada parece tener un tamaño ligeramente más uniforme para el componente estacional que el no transformado. Así que vamos a utilizar la serie de log transformado para un análisis más detallado\n",
    "\n",
    "Cualquier serie temporal con una tendencia implica que varía con el tiempo, lo que significa que no es estacionario**.\n",
    "\n",
    "Una serie temporal estacionaria sin patrón estacional o cíclico y sin tendencia perceptible se dice que es **independiente distribuida de manera idéntica** o **i.i.d.** An i.i.d. Las series de tiempo tienen una distribución normal con una distribución en forma de campana y una gráfica Q-Q de línea recta. Tal serie de tiempo también se llama ruido blanco.\n",
    "\n",
    "Vamos a trazar la distribución de nuestras series de tiempo a continuación:"
   ]
  },
  {
   "cell_type": "code",
   "execution_count": 26,
   "metadata": {},
   "outputs": [
    {
     "data": {
      "image/png": "[encoded data removed]",
      "text/plain": [
       "Plot with title \"Q-Q Normal plot of US Unemp Rate\""
      ]
     },
     "metadata": {},
     "output_type": "display_data"
    }
   ],
   "source": [
    "# Gráfico la distribución - histograma y QQ de la serie temporal\n",
    "dist.ts = function(df, col = 'residual', bins = 40)\n",
    "{\n",
    "  par(mfrow = c(1,2))\n",
    "  temp = as.vector(df)\n",
    "  breaks = seq(min(temp), max(temp), length.out = (bins + 1))\n",
    "  hist(temp, breaks = breaks, main = paste('Distribution of', col), xlab = col)\n",
    "  qqnorm(temp, main = paste('Q-Q Normal plot of', col))\n",
    "  par(mfrow = c(1,1))\n",
    "}\n",
    "\n",
    "options(repr.pmales.extlot.width=8, repr.plot.height=4)\n",
    "dist.ts(log(US.UnempRate.ts), col = 'US Unemp Rate')"
   ]
  },
  {
   "cell_type": "markdown",
   "metadata": {},
   "source": [
    "## Modelo de Minería de Datos"
   ]
  },
  {
   "cell_type": "markdown",
   "metadata": {},
   "source": [
    "## Modelos ARIMA para la serie residual.\n",
    "\n",
    "Ahora que hemos investigado las propiedades básicas de las series de tiempo y el método de descomposición de STL, investiguemos los modelos para tratar los residuos. Trabajaremos con lo que se conoce y los modelos **modelo autorregresivo integrado de promedio móvil** o **ARIMA**. En su núcleo, estos modelos son solo casos especiales de regresión lineal.\n",
    "\n",
    "### Modelo Autoregresivo\n",
    "\n",
    "Los valores de una serie de tiempo **autoregrisiva** o **AR** se determinan mediante una combinación lineal de los valores pasados. En otras palabras, el modelo AR representa la correlación serial en los valores de la serie de tiempo. Podemos escribir el valor de una serie autorregresiva o **ordenar p** o **AR (p)** series en el momento t como:\n",
    "\n",
    "$$ x_t = \\ alpha_1 x_ {t-1} + \\ alpha_2 x_ {t-2} \\ dots \\ alpha_p x_ {t-p} + w_t $$\n",
    "\n",
    "Un proceso AR tiene las siguientes propiedades:\n",
    "\n",
    "- $ \\ rho_0 = 1 $ siempre.\n",
    "- $ p_k = \\ alpha ^ k $\n",
    "- Número de valores de PACF distintos de cero = p.\n",
    "\n",
    "Los modelos AR son específicamente para **series temporales estacionarias**. Si la varianza no es constante o el componente de tendencia no se ha eliminado, los modelos AR no producirán resultados estadísticos.\n",
    "\n",
    "### Modelo de media móvil\n",
    "\n",
    "Para un modelo **de media móvil** o **MA**, el valor de la serie de tiempo en el tiempo `t` está determinado por una combinación lineal de términos de ruido blanco pasados. En otras palabras, el modelo de MA explica la correlación de series en términos de ruido. Podemos escribir el modelo MA (q) como la combinación lineal de los últimos términos de ruido blanco `q` $ w_i $:\n",
    "\n",
    "$$ x_t = w_t + \\ beta_1 w_ {t-1} + \\ beta_2 w_ {t-2} + \\ cdots + \\ beta_q w_ {t-q} $$\n",
    "\n",
    "Un proceso de MA tiene las siguientes propiedades:\n",
    "\n",
    "- $ \\ rho_0 = 1 $ siempre. (Auto correlación en el retraso 0)\n",
    "- Número de $ \\ rho_k distinto de cero; k \\ ne 0 $ valores = q. (auto correlación en el retraso k)\n",
    "\n",
    "Los modelos MA son específicamente para **series de tiempo estacionarias**. Si la varianza no es constante o el componente de tendencia no se ha eliminado, los modelos MA no producirán resultados estadísticos.\n",
    "\n",
    "### El modelo de media móvil autoregresivo\n",
    "\n",
    "Podemos combinar los modelos AR y MA para crear un **modelo de media móvil autorregresiva** o **ARMA**. Este modelo explica la correlación serial tanto en términos de ruido como en valores. Podemos escribir un modelo ARMA de orden `(p, q)` como:\n",
    "\n",
    "$$ x_t = \\ alpha_1 x_ {t-1} + \\ alpha_2 x_ {t-2} \\ dots \\ alpha_p x_ {t-p}\n",
    "w_t + \\ beta_1 w_ {t-1} + \\ beta_2 w_ {t-2} + \\ cdots + \\ beta_q w_ {t-q} $$\n",
    "\n",
    "### Modelo de media móvil integrada autoregresiva\n",
    "\n",
    "El modelo **de media móvil integrada autorregresiva**, o **ARIMA** agrega un término integrador al modelo ARMA. El componente de integración realiza la diferenciación para modelar un componente de paseo aleatorio. El componente integrante modela una de las **partes no estacionarias** de una serie de tiempo. El modelo ARIMA está definido por órdenes p, d, q. El orden del operador de diferenciación del término integrador está definido por `d`.\n",
    "\n",
    "Ahora, intentemos estimar los parámetros ARIMA (p, d, q) de la serie de tiempo (recuerde, esta es una serie de tiempo no estacionaria) e imprimimos un resumen del mejor modelo y trazamos el ACF y el PACF del residual."
   ]
  },
  {
   "cell_type": "code",
   "execution_count": 41,
   "metadata": {},
   "outputs": [
    {
     "name": "stdout",
     "output_type": "stream",
     "text": [
      "\n",
      "Call:\n",
      "arima(x = ts, order = order, include.mean = FALSE)\n",
      "\n",
      "Coefficients:\n",
      "         ar1     ma1\n",
      "      0.9955  0.2653\n",
      "s.e.  0.0040  0.0475\n",
      "\n",
      "sigma^2 estimated as 0.2168:  log likelihood = -214.7,  aic = 435.41\n",
      "\n",
      "Call:\n",
      "arima(x = ts, order = order, include.mean = FALSE)\n",
      "\n",
      "Coefficients:\n",
      "         ma1\n",
      "      0.2641\n",
      "s.e.  0.0475\n",
      "\n",
      "sigma^2 estimated as 0.2173:  log likelihood = -211.82,  aic = 427.65\n",
      "\n",
      "Call:\n",
      "arima(x = ts, order = order, include.mean = FALSE)\n",
      "\n",
      "Coefficients:\n",
      "         ar1      ma1     ma2      ma3\n",
      "      0.3497  -0.1401  0.0610  -0.5354\n",
      "s.e.  0.0801   0.0674  0.0632   0.0465\n",
      "\n",
      "sigma^2 estimated as 0.1668:  log likelihood = -169.58,  aic = 349.16\n",
      "\n",
      "Call:\n",
      "arima(x = ts, order = order, include.mean = FALSE)\n",
      "\n",
      "Coefficients:\n",
      "         ma1     ma2      ma3      ma4     ma5\n",
      "      0.2511  0.1221  -0.4791  -0.3755  0.0970\n",
      "s.e.  0.0593  0.0544   0.0388   0.0533  0.0533\n",
      "\n",
      "sigma^2 estimated as 0.1563:  log likelihood = -159.54,  aic = 331.08\n",
      "\n",
      "Call:\n",
      "arima(x = ts, order = order, include.mean = FALSE)\n",
      "\n",
      "Coefficients:\n",
      "         ar1      ar2      ma1     ma2      ma3\n",
      "      0.4113  -0.3809  -0.1898  0.4142  -0.5870\n",
      "s.e.  0.0755   0.0744   0.0639  0.0769   0.0534\n",
      "\n",
      "sigma^2 estimated as 0.1576:  log likelihood = -160.94,  aic = 333.89\n",
      "\n",
      "Call:\n",
      "arima(x = ts, order = order, include.mean = FALSE)\n",
      "\n",
      "Coefficients:\n",
      "         ar1      ar2     ar3     ma1     ma2      ma3      ma4\n",
      "      1.0555  -0.3337  0.2771  0.2053  0.3496  -0.4731  -0.3038\n",
      "s.e.  0.1479   0.2303  0.1079  0.1508  0.0782   0.0610   0.1102\n",
      "\n",
      "sigma^2 estimated as 0.1542:  log likelihood = -160.69,  aic = 337.37\n",
      "\n",
      "Call:\n",
      "arima(x = ts, order = order, include.mean = FALSE)\n",
      "\n",
      "Coefficients:\n",
      "         ar1      ar2      ar3     ar4      ma1      ma2      ma3     ma4\n",
      "      1.8128  -0.8386  -0.0705  0.0957  -0.5986  -0.1233  -0.5550  0.0782\n",
      "s.e.  0.1430   0.3522   0.4154  0.2172   0.1320   0.1757   0.1564  0.0911\n",
      "         ma5\n",
      "      0.4853\n",
      "s.e.  0.0861\n",
      "\n",
      "sigma^2 estimated as 0.1475:  log likelihood = -153.84,  aic = 327.69\n",
      "\n",
      "Call:\n",
      "arima(x = ts, order = order, include.mean = FALSE)\n",
      "\n",
      "Coefficients:\n",
      "          ar1      ar2      ar3     ar4     ma1     ma2      ma3      ma4\n",
      "      -0.2511  -0.1704  -0.1172  0.0599  0.5147  0.3242  -0.3507  -0.5027\n",
      "s.e.   0.4628   0.1340   0.1360  0.1024  0.4599  0.1937   0.1661   0.2012\n",
      "          ma5\n",
      "      -0.0471\n",
      "s.e.   0.1828\n",
      "\n",
      "sigma^2 estimated as 0.154:  log likelihood = -157.24,  aic = 334.47\n"
     ]
    },
    {
     "data": {
      "text/plain": [
       "Series: US.UnempRate.ts \n",
       "ARIMA(2,0,1)(1,1,2)[12] \n",
       "\n",
       "Coefficients:\n",
       "         ar1      ar2      ma1     sar1     sma1     sma2\n",
       "      1.9550  -0.9582  -0.9053  -0.0051  -0.6822  -0.0813\n",
       "s.e.  0.0309   0.0302   0.0522   0.3560   0.3501   0.2604\n",
       "\n",
       "sigma^2 estimated as 0.03243:  log likelihood=88.76\n",
       "AIC=-163.53   AICc=-163.16   BIC=-137.33"
      ]
     },
     "metadata": {},
     "output_type": "display_data"
    }
   ],
   "source": [
    "#ARIMA model estimation for STL remainder\n",
    "ts.model = function(ts, col = 'remainder', order = c(0,0,1))\n",
    "{\n",
    "  mod = arima(ts, order = order, include.mean = FALSE)\n",
    "  print(mod)\n",
    "  mod\n",
    "}\n",
    "\n",
    "arima.estimate1 <- ts.model(US.UnempRate.ts, order = c(1,0,1))#ARIMA(1,0,1) model\n",
    "arima.estimate2 <- ts.model(US.UnempRate.ts, order = c(0,1,1))#ARIMA(0,1,1) model\n",
    "arima.estimate3 <- ts.model(US.UnempRate.ts, order = c(1,1,3))#ARIMA(1,1,3) model \n",
    "arima.estimate4 <- ts.model(US.UnempRate.ts, order = c(0,1,5))#ARIMA(0,1,5) model\n",
    "arima.estimate5 <- ts.model(US.UnempRate.ts, order = c(2,1,3))#ARIMA(2,1,3) model\n",
    "arima.estimate6 <- ts.model(US.UnempRate.ts, order = c(3,0,4))#ARIMA(3,0,4) model\n",
    "arima.estimate7 <- ts.model(US.UnempRate.ts, order = c(4,0,5))#ARIMA(4,0,5) model\n",
    "arima.estimate8 <- ts.model(US.UnempRate.ts, order = c(4,1,5))#ARIMA(4,1,5) model"
   ]
  },
  {
   "cell_type": "markdown",
   "metadata": {},
   "source": [
    "**De los resultados anteriores notamos que:**\n",
    "\n",
    "El modelo ARIMA (4,0,5) con los siguientes coeficientes tiene el menor AIC (Criterios de información de Akaike)\n",
    "\n",
    "**Coeficientes:**\n",
    "\n",
    "\n",
    "| - | ar1 | ar2 | ar3 | ma1 | ma2 | ma3 | ma4 |\n",
    "| - | -------- | ------- | -------- | -------- | -------- | ---- ---- | -------- |\n",
    "| - | -1.8128  |-0.8386  |-0.0705 | 0.0957  |-0.5986  |-0.1233  |-0.5550  |0.0782\n",
    "| es decir. |   0.1430   |0.3522   |0.4154  |0.2172   |0.1320   |0.1757   |0.1564  0.0\n",
    "\n",
    "sigma^2 estimated as 0.1475:  log likelihood = -153.84,  aic = 327.69\n",
    "\n",
    "- Todos los coeficientes son significativos (el error estándar asociado con estos coeficientes es algunas veces más pequeño que el valor del coeficiente en sí)\n",
    "- El $ \\ sigma ^ 2 $ o la varianza de la serie residual es un orden de magnitud menor que la serie original.\n"
   ]
  },
  {
   "cell_type": "code",
   "execution_count": 44,
   "metadata": {},
   "outputs": [
    {
     "name": "stdout",
     "output_type": "stream",
     "text": [
      "\n",
      "Forecast method: ARIMA(2,0,1)(1,1,2)[12]\n",
      "\n",
      "Model Information:\n",
      "Series: US.UnempRate.ts \n",
      "ARIMA(2,0,1)(1,1,2)[12] \n",
      "\n",
      "Coefficients:\n",
      "         ar1      ar2      ma1     sar1     sma1     sma2\n",
      "      1.9550  -0.9582  -0.9053  -0.0051  -0.6822  -0.0813\n",
      "s.e.  0.0309   0.0302   0.0522   0.3560   0.3501   0.2604\n",
      "\n",
      "sigma^2 estimated as 0.03243:  log likelihood=88.76\n",
      "AIC=-163.53   AICc=-163.16   BIC=-137.33\n",
      "\n",
      "Error measures:\n",
      "                       ME      RMSE       MAE         MPE     MAPE      MASE\n",
      "Training set 0.0004808074 0.1750221 0.1350883 -0.03191109 2.247973 0.2160431\n",
      "                    ACF1\n",
      "Training set -0.05488138\n",
      "\n",
      "Forecasts:\n",
      "         Point Forecast    Lo 80    Hi 80    Lo 95    Hi 95\n",
      "Jan 2017       5.865629 5.634826 6.096431 5.512646 6.218611\n",
      "Feb 2017       5.801936 5.467323 6.136550 5.290189 6.313684\n",
      "Mar 2017       5.561066 5.141887 5.980246 4.919986 6.202146\n",
      "Apr 2017       4.857379 4.363354 5.351404 4.101833 5.612924\n",
      "May 2017       4.882656 4.320060 5.445252 4.022239 5.743072\n",
      "Jun 2017       5.328808 4.702285 5.955331 4.370624 6.286992\n",
      "Jul 2017       5.391305 4.704619 6.077990 4.341110 6.441500\n",
      "Aug 2017       5.168399 4.424799 5.911999 4.031161 6.305637\n",
      "Sep 2017       4.882870 4.085285 5.680454 3.663070 6.102670\n",
      "Oct 2017       4.822091 3.973247 5.670934 3.523897 6.120284\n",
      "Nov 2017       4.933426 4.035913 5.830940 3.560798 6.306055\n",
      "Dec 2017       5.295307 4.351616 6.238997 3.852057 6.738557\n",
      "Jan 2018       6.242742 5.231699 7.253785 4.696486 7.788998\n",
      "Feb 2018       6.197581 5.122800 7.272363 4.553845 7.841317\n",
      "Mar 2018       5.968045 4.832933 7.103158 4.232041 7.704050\n",
      "Apr 2018       5.277197 4.085013 6.469381 3.453909 7.100485\n",
      "May 2018       5.338400 4.092293 6.584508 3.432643 7.244157\n",
      "Jun 2018       5.786953 4.489980 7.083926 3.803404 7.770502\n",
      "Jul 2018       5.860071 4.515213 7.204928 3.803289 7.916852\n",
      "Aug 2018       5.637297 4.247467 7.027127 3.511736 7.762859\n",
      "Sep 2018       5.354965 3.923006 6.786923 3.164973 7.544956\n",
      "Oct 2018       5.312910 3.841600 6.784220 3.062736 7.563084\n",
      "Nov 2018       5.450639 3.942686 6.958593 3.144423 7.756856\n",
      "Dec 2018       5.808774 4.266811 7.350736 3.450545 8.167002\n"
     ]
    },
    {
     "data": {
      "image/png": "[encoded data removed]",
      "text/plain": [
       "Plot with title \"Forecasts from ARIMA(2,0,1)(1,1,2)[12]\""
      ]
     },
     "metadata": {},
     "output_type": "display_data"
    }
   ],
   "source": [
    "fit<-auto.arima(US.UnempRate.ts)\n",
    "unemp.forecast <- forecast(fit, h=24)\n",
    "summary(unemp.forecast)\n",
    "plot(unemp.forecast)"
   ]
  },
  {
   "cell_type": "code",
   "execution_count": 46,
   "metadata": {},
   "outputs": [
    {
     "data": {
      "text/html": [
       "<table>\n",
       "<thead><tr><th scope=col>año</th><th scope=col>mes</th><th scope=col>pronosticado</th><th scope=col>actual</th></tr></thead>\n",
       "<tbody>\n",
       "\t<tr><td>2017</td><td>Jan </td><td>5.36</td><td>5.1 </td></tr>\n",
       "\t<tr><td>2017</td><td>Feb </td><td>5.41</td><td>4.9 </td></tr>\n",
       "\t<tr><td>2017</td><td>Mar </td><td>5.31</td><td>4.6 </td></tr>\n",
       "\t<tr><td>2017</td><td>Apr </td><td>4.96</td><td>4.1 </td></tr>\n",
       "\t<tr><td>2017</td><td>May </td><td>4.79</td><td>4.1 </td></tr>\n",
       "\t<tr><td>2017</td><td>Jun </td><td>5.14</td><td>4.5 </td></tr>\n",
       "\t<tr><td>2017</td><td>Jul </td><td>5.10</td><td>4.6 </td></tr>\n",
       "</tbody>\n",
       "</table>\n"
      ],
      "text/latex": [
       "\\begin{tabular}{r|llll}\n",
       " año & mes & pronosticado & actual\\\\\n",
       "\\hline\n",
       "\t 2017 & Jan  & 5.36 & 5.1 \\\\\n",
       "\t 2017 & Feb  & 5.41 & 4.9 \\\\\n",
       "\t 2017 & Mar  & 5.31 & 4.6 \\\\\n",
       "\t 2017 & Apr  & 4.96 & 4.1 \\\\\n",
       "\t 2017 & May  & 4.79 & 4.1 \\\\\n",
       "\t 2017 & Jun  & 5.14 & 4.5 \\\\\n",
       "\t 2017 & Jul  & 5.10 & 4.6 \\\\\n",
       "\\end{tabular}\n"
      ],
      "text/markdown": [
       "\n",
       "año | mes | pronosticado | actual | \n",
       "|---|---|---|---|---|---|---|\n",
       "| 2017 | Jan  | 5.36 | 5.1  | \n",
       "| 2017 | Feb  | 5.41 | 4.9  | \n",
       "| 2017 | Mar  | 5.31 | 4.6  | \n",
       "| 2017 | Apr  | 4.96 | 4.1  | \n",
       "| 2017 | May  | 4.79 | 4.1  | \n",
       "| 2017 | Jun  | 5.14 | 4.5  | \n",
       "| 2017 | Jul  | 5.10 | 4.6  | \n",
       "\n",
       "\n"
      ],
      "text/plain": [
       "  año  mes pronosticado actual\n",
       "1 2017 Jan 5.36         5.1   \n",
       "2 2017 Feb 5.41         4.9   \n",
       "3 2017 Mar 5.31         4.6   \n",
       "4 2017 Apr 4.96         4.1   \n",
       "5 2017 May 4.79         4.1   \n",
       "6 2017 Jun 5.14         4.5   \n",
       "7 2017 Jul 5.10         4.6   "
      ]
     },
     "metadata": {},
     "output_type": "display_data"
    }
   ],
   "source": [
    "\n",
    "head(forecast.vs.actual, 7)"
   ]
  },
  {
   "cell_type": "markdown",
   "metadata": {},
   "source": [
    "Esto muestra que a medida que avanzamos en el tiempo, los valores pronosticados van más y más lejos de la marca, lo que implica que esto no es un buen ajuste para nuestros datos.\n",
    "\n",
    "### Conclusión\n",
    "\n",
    "Nuestro objetivo fue estudiar las tasas de desempleo U-3 no ajustadas estacionalmente como una serie de tiempo univariada y encontrar modelos lineales que describieran las variaciones de manera efectiva. STL descompuso la serie de tiempo y ajustamos un modelo ARIMA (p, d, q) al resto. También ajustamos un modelo ARIMA (p, d, q) (P, D, Q) y lo usamos para pronosticar las tasas de desempleo para 2017. Después de comparar algunos de los valores reales con los valores pronosticados, llegamos a la conclusión de que este modelo no es bueno. ajuste.\n",
    "\n",
    "En realidad, existen varios modelos que podríamos explorar e incluir otros factores o características para modelar nuestra tasa de desempleo y ayudarnos a hacer un mejor pronóstico, pero eso está fuera del alcance de este análisis."
   ]
  },
  {
   "cell_type": "code",
   "execution_count": null,
   "metadata": {},
   "outputs": [],
   "source": []
  }
 ],
 "metadata": {
  "kernelspec": {
   "display_name": "R",
   "language": "R",
   "name": "ir"
  },
  "language_info": {
   "codemirror_mode": "r",
   "file_extension": ".r",
   "mimetype": "text/x-r-source",
   "name": "R",
   "pygments_lexer": "r",
   "version": "3.5.1"
  }
 },
 "nbformat": 4,
 "nbformat_minor": 2
}
