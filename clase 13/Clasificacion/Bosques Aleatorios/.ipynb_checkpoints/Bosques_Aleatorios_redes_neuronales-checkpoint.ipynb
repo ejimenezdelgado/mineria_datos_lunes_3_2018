{
 "cells": [
  {
   "cell_type": "markdown",
   "metadata": {},
   "source": [
    "## Análisis del Problema"
   ]
  },
  {
   "cell_type": "markdown",
   "metadata": {},
   "source": [
    "El deporte, como inustria, mueve millones de dólares al año. Con respecto a las contrataciones, diferentes\n",
    "tienen diferentes formas de “agrupar” o “catalogar” a los jugadores, pero en general hay una categoría de\n",
    "jugadores sumamente cotizados que son considerados “súper estrellas”. Las implicaciones de estos jugadores\n",
    "son muchas, pues no solo representan una gran inversión para el equipo sino que también se convierten en\n",
    "una de las razones principales por las cuales el público va al estadio. A nivel de mercadotécnia, también es\n",
    "una decsisión súmamente importante pues las súper estrellas suelen representar una de las principales cartas\n",
    "comerciales.\n",
    "Por estas razones, la decisión de si un jugador puede ser o no una súper estrella es de suma importancia, y\n",
    "tener un modelo que pueda predecir potenciales súper estrellas para asisiter en la toma de estas decisiones\n",
    "puede ser de suma importancia para diferentes equipos."
   ]
  },
  {
   "cell_type": "markdown",
   "metadata": {},
   "source": [
    "## Entendimiento de los Datos"
   ]
  },
  {
   "cell_type": "markdown",
   "metadata": {},
   "source": [
    "Para analizar este problema, se tiene un conjunto de datos con 263 observaciones y 19 variables:\n",
    "- Nombre del jugador: cualitativa; con 263 valores diferentes.\n",
    "- ID de la Posición: cualitativa; con 10 valores diferentes entre 0 y 10.\n",
    "- Tiros: cuantitativa; cantidad de tiros en la temporada anterior, con un rango entre 19 y 687.\n",
    "- Tiros Hechos: cuantitativa; cantidad de tiros anotados en la temporada anterior, con un rango entre 1\n",
    "y 238.\n",
    "- Puntos Personales: cuantitativa; puntos anotados personalmente por el atleta la temporada anterior,\n",
    "con un rango entre 0 y 40.\n",
    "- Puntos Totales: cuantitativa; cantidad de puntos que el atleta contribuyó a anotar, con un rango entre\n",
    "0 y 130.\n",
    "- Asistencias: cuantitativa; cantidad de veces que el atleta contribuyó a quitarle la posesión del balón al\n",
    "rival, con un rango entre 0 y 121.\n",
    "- Concesiones: cuantitativa; cantidad de veces que una jugada del atleta causó que el rival cediera una\n",
    "ventaja a la ofensiva, con un valor entre 0 y 105.\n",
    "- Bloqueos: cuantitativa; cantidad de veces que el atleta bloqueó a un rival la temporada anterior, con\n",
    "un valor entre 0 y 1377.\n",
    "- Asistencias a Bloqueos: cuantitativa; cantidad de veces que el atleta asistió a un compañero a bloquear\n",
    "a un rival, con un rango entre 0 y 492.\n",
    "- Faltas: cuantitativa; cantidad de veces que el atleta cometió una falta, con un rival entre 0 y 32.\n",
    "- Años de profesional: cuantitativa; cantidad de año que el atleta ha jugado a nivel profesional, con un\n",
    "rango entre 1 y 24.\n",
    "- Tiros en la carrera: cuantitativa; cantidad de tiros en toda la carrera del atleta, con un rango de 19 a\n",
    "14053.\n",
    "- Tiros hechos en la carrera: cuantitativa; cantidad de tiros hechos en la carrera del atleta, con un rango\n",
    "de 4 a 4256.\n",
    "- Puntos Personales en la carrera: cuantitativa; cantidad de puntos personales en la carrera del atleta,\n",
    "con un rango de 0 a 548.\n",
    "- Puntos Totales en la carrera: cuantitativa; puntos totales del atleta en toda su carrera, con un rango de\n",
    "2 a 2165.\n",
    "- Asistencias en la carrera: cuantitativa; cantidad de asistencias en toda la carrera, con un rango de 3 a\n",
    "1659.\n",
    "- Concesiones en la carrera: cuantitativa; cantidad de concesiones en toda la carrera, con un rango de 1 a\n",
    "1566.\n",
    "- Valor para el equipo: cualitativa; valor que puede tener el jugador para el equipo, con cuatro valores\n",
    "posibles: Jugador de Rol, Contribuidor, Jugador de Franquicia y Súper Estrella. Esta variable se\n",
    "manipuló durante el análisis para convertirla en binaria, respondiendo a la pregunta: ¿Es el jugador\n",
    "una súper estrella? donde 0 es ‘No’ y 1 es ‘Sí’."
   ]
  },
  {
   "cell_type": "markdown",
   "metadata": {},
   "source": [
    "## Exploración de los Datos"
   ]
  },
  {
   "cell_type": "markdown",
   "metadata": {},
   "source": [
    "Antes de explorar los datos, es necesario cargarlos y aplicar la transformación respectiva a la variable “valor\n",
    "para el equipo”, pues el problema consiste en determinar cuáles jugadores son potencialmente súper estrellas.\n",
    "Adicionalmente, se procede a dividir el conjunto de datos en uno de entrenamiento y otro de prueba."
   ]
  },
  {
   "cell_type": "code",
   "execution_count": 35,
   "metadata": {},
   "outputs": [],
   "source": [
    "#Evitar mostrar warning messages\n",
    "options(warn=-1)\n",
    "\n",
    "library(caTools)\n",
    "library(rpart)\n",
    "library(randomForest)\n",
    "library(neuralnet)\n",
    "library(ROCR)"
   ]
  },
  {
   "cell_type": "code",
   "execution_count": 36,
   "metadata": {},
   "outputs": [],
   "source": [
    "datos <- read.csv('Chapter11DataSet_Training.csv', header = T, na.strings = '?')\n",
    "datos$Team_Value <- as.character(datos$Team_Value)\n",
    "datos[datos$Team_Value != 'Superstar',]$Team_Value <- 0\n",
    "datos[datos$Team_Value == 'Superstar',]$Team_Value <- 1\n",
    "datos$Team_Value<- as.numeric(datos$Team_Value)\n",
    "splt <- sample.split(datos$Team_Value, SplitRatio = 0.7)\n",
    "entrenamiento <- datos[splt, ]\n",
    "prueba <- datos[!splt, ]"
   ]
  },
  {
   "cell_type": "markdown",
   "metadata": {},
   "source": [
    "Como podemos observar, la mayoría de las observaciones no son súper estrellas. Esto es esperado, pues la\n",
    "esta categoría de jugadores generalmente son los menos."
   ]
  },
  {
   "cell_type": "code",
   "execution_count": 37,
   "metadata": {},
   "outputs": [
    {
     "data": {
      "image/png": "[encoded data removed]",
      "text/plain": [
       "Plot with title \"Distribución de Valor para el Equipo\""
      ]
     },
     "metadata": {},
     "output_type": "display_data"
    }
   ],
   "source": [
    "barplot(table(entrenamiento$Team_Value),\n",
    "main = 'Distribución de Valor para el Equipo',\n",
    "ylab = 'Observaciones',\n",
    "xlab = '¿Es Súper Estrella? (1 = Sí)')"
   ]
  },
  {
   "cell_type": "markdown",
   "metadata": {},
   "source": [
    "Para efectos de determinar qué variables influencian la determinación de si es una súper estrella o no, podemos\n",
    "analizar algunas de las variales que acumulan el desempeño de la carrera.\n",
    "En el caso de la variable Career_TP, se puede apreciar una diferencia considerable entre las dos categorías.\n",
    "Sin embargo, los valores extremos de la categoría ‘No’ o 0 son mayores. Estos puntos anómalos en esa\n",
    "categoría pueden ser los jugadores de franquicia."
   ]
  },
  {
   "cell_type": "code",
   "execution_count": 38,
   "metadata": {},
   "outputs": [
    {
     "data": {
      "image/png": "[encoded data removed]",
      "text/plain": [
       "Plot with title \"Distribución de Career_TP por Valor para el Equipo\""
      ]
     },
     "metadata": {},
     "output_type": "display_data"
    }
   ],
   "source": [
    "boxplot(Career_TP ~ Team_Value,\n",
    "data = entrenamiento,\n",
    "main = 'Distribución de Career_TP por Valor para el Equipo',\n",
    "ylab = 'Career_TP',\n",
    "xlab = '¿Es Súper Estrella? (1 = Sí)')"
   ]
  },
  {
   "cell_type": "markdown",
   "metadata": {},
   "source": [
    "La variable Career_PP se comporta de manera similar:"
   ]
  },
  {
   "cell_type": "code",
   "execution_count": 39,
   "metadata": {},
   "outputs": [
    {
     "data": {
      "image/png": "[encoded data removed]",
      "text/plain": [
       "Plot with title \"Distribución de Career_PP por Valor para el Equipo\""
      ]
     },
     "metadata": {},
     "output_type": "display_data"
    }
   ],
   "source": [
    "boxplot(Career_PP ~ Team_Value,\n",
    "data = entrenamiento,\n",
    "main = 'Distribución de Career_PP por Valor para el Equipo',\n",
    "ylab = 'Career_PP',\n",
    "xlab = '¿Es Súper Estrella? (1 = Sí)')"
   ]
  },
  {
   "cell_type": "markdown",
   "metadata": {},
   "source": [
    "Y también la variable Career_Assists:"
   ]
  },
  {
   "cell_type": "code",
   "execution_count": 40,
   "metadata": {},
   "outputs": [
    {
     "data": {
      "image/png": "[encoded data removed]",
      "text/plain": [
       "Plot with title \"Distribución de Career_Assists por Valor para el Equipo\""
      ]
     },
     "metadata": {},
     "output_type": "display_data"
    }
   ],
   "source": [
    "boxplot(Career_Assists ~ Team_Value,\n",
    "data = entrenamiento,\n",
    "main = 'Distribución de Career_Assists por Valor para el Equipo',\n",
    "ylab = 'Career_Assists',\n",
    "xlab = '¿Es Súper Estrella? (1 = Sí)')"
   ]
  },
  {
   "cell_type": "markdown",
   "metadata": {},
   "source": [
    "Cuando se analizan las variables a nivel de la temporada anterior, el patrón se mantiene, aunque las diferencias\n",
    "son menores:"
   ]
  },
  {
   "cell_type": "code",
   "execution_count": 41,
   "metadata": {},
   "outputs": [
    {
     "data": {
      "image/png": "[encoded data removed]",
      "text/plain": [
       "Plot with title \"Distribución de Total_Points por Valor para el Equipo\""
      ]
     },
     "metadata": {},
     "output_type": "display_data"
    }
   ],
   "source": [
    "boxplot(Total_Points ~ Team_Value,\n",
    "data = entrenamiento,\n",
    "main = 'Distribución de Total_Points por Valor para el Equipo',\n",
    "ylab = 'Total_Points',\n",
    "xlab = '¿Es Súper Estrella? (1 = Sí)')"
   ]
  },
  {
   "cell_type": "markdown",
   "metadata": {},
   "source": [
    "    La variable Career_PP se comporta de manera similar:"
   ]
  },
  {
   "cell_type": "code",
   "execution_count": 42,
   "metadata": {},
   "outputs": [
    {
     "data": {
      "image/png": "[encoded data removed]",
      "text/plain": [
       "Plot with title \"Distribución de Personal_Points por Valor para el Equipo\""
      ]
     },
     "metadata": {},
     "output_type": "display_data"
    }
   ],
   "source": [
    "boxplot(Personal_Points ~ Team_Value,\n",
    "data = entrenamiento,\n",
    "main = 'Distribución de Personal_Points por Valor para el Equipo',\n",
    "ylab = 'Personal_Points',\n",
    "xlab = '¿Es Súper Estrella? (1 = Sí)')"
   ]
  },
  {
   "cell_type": "markdown",
   "metadata": {},
   "source": [
    "Y también la variable Career_Assists:"
   ]
  },
  {
   "cell_type": "code",
   "execution_count": 43,
   "metadata": {},
   "outputs": [
    {
     "data": {
      "image/png": "[encoded data removed]",
      "text/plain": [
       "Plot with title \"Distribución de Assists por Valor para el Equipo\""
      ]
     },
     "metadata": {},
     "output_type": "display_data"
    }
   ],
   "source": [
    "boxplot(Assists ~ Team_Value,\n",
    "data = entrenamiento,\n",
    "main = 'Distribución de Assists por Valor para el Equipo',\n",
    "ylab = 'Assists',\n",
    "xlab = '¿Es Súper Estrella? (1 = Sí)')"
   ]
  },
  {
   "cell_type": "markdown",
   "metadata": {},
   "source": [
    "Hay algunas variables que tienden a favorecer el no, como por ejemplo la cantidad de faltas la temporada\n",
    "anterior:"
   ]
  },
  {
   "cell_type": "code",
   "execution_count": 44,
   "metadata": {},
   "outputs": [
    {
     "data": {
      "image/png": "[encoded data removed]",
      "text/plain": [
       "Plot with title \"Distribución de Fouls por Valor para el Equipo\""
      ]
     },
     "metadata": {},
     "output_type": "display_data"
    }
   ],
   "source": [
    "boxplot(Fouls ~ Team_Value,\n",
    "data = entrenamiento,\n",
    "main = 'Distribución de Fouls por Valor para el Equipo',\n",
    "ylab = 'Fouls',\n",
    "xlab = '¿Es Súper Estrella? (1 = Sí)')"
   ]
  },
  {
   "cell_type": "markdown",
   "metadata": {},
   "source": [
    "A pesar de que el análisis exploratorio nos indica que podríamos guiarnos nada más por las estadísticas a nivel\n",
    "de la carrera, si hacemos esto, corremos el riesgo de no tomar encuenta súper estrellas potenciales que están\n",
    "en etapas tempranas en su carrera. Para evitar esto, y para aprovechar también la capacidad de las redes\n",
    "neuronales, vamos a tomar en cuenta todas las variables cuantitativas para intentar responder la pregunta."
   ]
  },
  {
   "cell_type": "markdown",
   "metadata": {},
   "source": [
    "## Creación de los Modelos"
   ]
  },
  {
   "cell_type": "markdown",
   "metadata": {},
   "source": [
    "En este caso, se van a utilizar una red neuronal, un árbol de decisión y un bosque aleatorio. Se comienza por\n",
    "crear la red neuronal y por aplicarla a los datos de prueba:"
   ]
  },
  {
   "cell_type": "code",
   "execution_count": null,
   "metadata": {
    "scrolled": false
   },
   "outputs": [],
   "source": [
    "#crear red neuronal con 7 unidades en la capa oculta\n",
    "modelo.red <- neuralnet(Team_Value ~ Shots + Makes + Personal_Points + Total_Points + Assists + Concessions+Blocks,data = entrenamiento,hidden = 7,linear.output=T)\n",
    "plot(modelo.red)"
   ]
  },
  {
   "cell_type": "code",
   "execution_count": 31,
   "metadata": {},
   "outputs": [],
   "source": [
    "#realizar predicciones\n",
    "predicciones.red <- neuralnet::compute(modelo.red,prueba[,c(\"Shots\",\"Makes\",\"Personal_Points\",\"Total_Points\",\"Assists\",\"Concessions\",\"Blocks\")])\n",
    "#predicciones.red$net.result"
   ]
  },
  {
   "cell_type": "markdown",
   "metadata": {},
   "source": [
    "Posteriormente, se crea el árbol de decisión:"
   ]
  },
  {
   "cell_type": "code",
   "execution_count": 24,
   "metadata": {},
   "outputs": [],
   "source": [
    "#crear modelo\n",
    "set.seed(14234)\n",
    "modelo.arbol <- rpart(Team_Value ~ Shots + Makes + Personal_Points + Total_Points + Assists + Concessions+Blocks,data = entrenamiento)"
   ]
  },
  {
   "cell_type": "code",
   "execution_count": 25,
   "metadata": {},
   "outputs": [],
   "source": [
    "#realizar predicciones\n",
    "predicciones.arbol <- predict(modelo.arbol, newdata = prueba)"
   ]
  },
  {
   "cell_type": "markdown",
   "metadata": {},
   "source": [
    "Finalmente, el bosque aleatorio:"
   ]
  },
  {
   "cell_type": "code",
   "execution_count": 26,
   "metadata": {},
   "outputs": [],
   "source": [
    "#crear modelo\n",
    "set.seed(14234)\n",
    "modelo.bosque <- randomForest(Team_Value ~ Shots + Makes + Personal_Points + Total_Points + Assists + Concessions+Blocks,data = entrenamiento)"
   ]
  },
  {
   "cell_type": "code",
   "execution_count": 27,
   "metadata": {},
   "outputs": [],
   "source": [
    "#realizar predicciones\n",
    "predicciones.bosque <- predict(modelo.bosque, newdata = prueba)"
   ]
  },
  {
   "cell_type": "markdown",
   "metadata": {},
   "source": [
    "## Evaluación"
   ]
  },
  {
   "cell_type": "markdown",
   "metadata": {},
   "source": [
    "Averiguamos el desempeño de la red neuronal:"
   ]
  },
  {
   "cell_type": "code",
   "execution_count": 33,
   "metadata": {},
   "outputs": [
    {
     "data": {
      "text/plain": [
       "   \n",
       "    0.194552070074375 0.194646430149102 0.194648608826581 0.194648928501042\n",
       "  0                 1                 1                 1                 0\n",
       "  1                 0                 0                 0                 1\n",
       "   \n",
       "    0.19464928291577 0.194649317936646 0.194649335255812 0.194649409500115\n",
       "  0                1                 1                 1                 1\n",
       "  1                0                 0                 0                 0\n",
       "   \n",
       "    0.194649441894385 0.194649446736693 0.194649447150563 0.194649447206893\n",
       "  0                 1                 1                 1                 1\n",
       "  1                 0                 0                 0                 0\n",
       "   \n",
       "    0.194649447451986 0.194649447814149 0.194649447817004 0.194649447928797\n",
       "  0                 1                 1                 1                 0\n",
       "  1                 0                 0                 0                 1\n",
       "   \n",
       "    0.194649447948054 0.194649447958994 0.194649447979086 0.194649448003091\n",
       "  0                 1                 1                 1                 1\n",
       "  1                 0                 0                 0                 0\n",
       "   \n",
       "    0.194649448004935 0.19464944800762 0.194649448008571 0.194649448009043\n",
       "  0                 1                1                 1                 0\n",
       "  1                 0                0                 0                 1\n",
       "   \n",
       "    0.194649448009484 0.194649448009548 0.194649448009744 0.194649448009774\n",
       "  0                 1                 1                 1                 1\n",
       "  1                 0                 0                 0                 0\n",
       "   \n",
       "    0.194649448009845 0.194649448009862 0.194649448009924 0.19464944800993\n",
       "  0                 1                 1                 1                1\n",
       "  1                 0                 0                 0                0\n",
       "   \n",
       "    0.194649448010002 0.194649448010016 0.194649448010031 0.194649448010034\n",
       "  0                 0                 1                 1                 1\n",
       "  1                 1                 0                 0                 0\n",
       "   \n",
       "    0.194649448010036 0.194649448010038 0.194649448010041 0.194649448010042\n",
       "  0                 1                 0                 1                 4\n",
       "  1                 0                 1                 1                 2\n",
       "   \n",
       "    0.194649448010043 0.210333961625879 0.223365365917574 0.226611058521564\n",
       "  0                11                 1                 1                 1\n",
       "  1                 7                 0                 0                 0\n",
       "   \n",
       "    0.316044006260181 0.316044006474513 0.316044007539306 0.316044008117517\n",
       "  0                 1                 0                 1                 1\n",
       "  1                 0                 1                 0                 0\n",
       "   \n",
       "    0.31604400818015 0.316044008180449 0.316044008180504 0.316044159248922\n",
       "  0                1                 1                 0                 1\n",
       "  1                0                 0                 1                 0\n",
       "   \n",
       "    0.490307658662021 0.499688782447275 0.499688782818751 0.49968878293606\n",
       "  0                 1                 1                 0                0\n",
       "  1                 0                 0                 1                1"
      ]
     },
     "metadata": {},
     "output_type": "display_data"
    }
   ],
   "source": [
    "#table(prueba$Team_Value, predicciones.red$net.result >= 0.5)\n",
    "table(prueba$Team_Value, predicciones.red$net.result)"
   ]
  },
  {
   "cell_type": "code",
   "execution_count": 30,
   "metadata": {},
   "outputs": [
    {
     "data": {
      "text/html": [
       "0.658333333333333"
      ],
      "text/latex": [
       "0.658333333333333"
      ],
      "text/markdown": [
       "0.658333333333333"
      ],
      "text/plain": [
       "[1] 0.6583333333"
      ]
     },
     "metadata": {},
     "output_type": "display_data"
    }
   ],
   "source": [
    "prediccionROC.red <- prediction(predicciones.red$net.result, prueba$Team_Value)\n",
    "as.numeric(performance(prediccionROC.red, \"auc\")@y.values)"
   ]
  },
  {
   "cell_type": "code",
   "execution_count": null,
   "metadata": {},
   "outputs": [],
   "source": [
    "## Conclusión"
   ]
  },
  {
   "cell_type": "code",
   "execution_count": null,
   "metadata": {},
   "outputs": [],
   "source": []
  }
 ],
 "metadata": {
  "kernelspec": {
   "display_name": "R",
   "language": "R",
   "name": "ir"
  },
  "language_info": {
   "codemirror_mode": "r",
   "file_extension": ".r",
   "mimetype": "text/x-r-source",
   "name": "R",
   "pygments_lexer": "r",
   "version": "3.5.1"
  }
 },
 "nbformat": 4,
 "nbformat_minor": 2
}
