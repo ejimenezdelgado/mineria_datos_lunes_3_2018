{
 "cells": [
  {
   "cell_type": "markdown",
   "metadata": {},
   "source": [
    "## Análisis del Problema"
   ]
  },
  {
   "cell_type": "markdown",
   "metadata": {},
   "source": [
    "El deporte, como inustria, mueve millones de dólares al año. Con respecto a las contrataciones, diferentes\n",
    "tienen diferentes formas de “agrupar” o “catalogar” a los jugadores, pero en general hay una categoría de\n",
    "jugadores sumamente cotizados que son considerados “súper estrellas”. Las implicaciones de estos jugadores\n",
    "son muchas, pues no solo representan una gran inversión para el equipo sino que también se convierten en\n",
    "una de las razones principales por las cuales el público va al estadio. A nivel de mercadotécnia, también es\n",
    "una decsisión súmamente importante pues las súper estrellas suelen representar una de las principales cartas\n",
    "comerciales.\n",
    "Por estas razones, la decisión de si un jugador puede ser o no una súper estrella es de suma importancia, y\n",
    "tener un modelo que pueda predecir potenciales súper estrellas para asisiter en la toma de estas decisiones\n",
    "puede ser de suma importancia para diferentes equipos."
   ]
  },
  {
   "cell_type": "markdown",
   "metadata": {},
   "source": [
    "## Entendimiento de los Datos"
   ]
  },
  {
   "cell_type": "markdown",
   "metadata": {},
   "source": [
    "Para analizar este problema, se tiene un conjunto de datos con 263 observaciones y 19 variables:\n",
    "- Nombre del jugador: cualitativa; con 263 valores diferentes.\n",
    "- ID de la Posición: cualitativa; con 10 valores diferentes entre 0 y 10.\n",
    "- Tiros: cuantitativa; cantidad de tiros en la temporada anterior, con un rango entre 19 y 687.\n",
    "- Tiros Hechos: cuantitativa; cantidad de tiros anotados en la temporada anterior, con un rango entre 1\n",
    "y 238.\n",
    "- Puntos Personales: cuantitativa; puntos anotados personalmente por el atleta la temporada anterior,\n",
    "con un rango entre 0 y 40.\n",
    "- Puntos Totales: cuantitativa; cantidad de puntos que el atleta contribuyó a anotar, con un rango entre\n",
    "0 y 130.\n",
    "- Asistencias: cuantitativa; cantidad de veces que el atleta contribuyó a quitarle la posesión del balón al\n",
    "rival, con un rango entre 0 y 121.\n",
    "- Concesiones: cuantitativa; cantidad de veces que una jugada del atleta causó que el rival cediera una\n",
    "ventaja a la ofensiva, con un valor entre 0 y 105.\n",
    "- Bloqueos: cuantitativa; cantidad de veces que el atleta bloqueó a un rival la temporada anterior, con\n",
    "un valor entre 0 y 1377.\n",
    "- Asistencias a Bloqueos: cuantitativa; cantidad de veces que el atleta asistió a un compañero a bloquear\n",
    "a un rival, con un rango entre 0 y 492.\n",
    "- Faltas: cuantitativa; cantidad de veces que el atleta cometió una falta, con un rival entre 0 y 32.\n",
    "- Años de profesional: cuantitativa; cantidad de año que el atleta ha jugado a nivel profesional, con un\n",
    "rango entre 1 y 24.\n",
    "- Tiros en la carrera: cuantitativa; cantidad de tiros en toda la carrera del atleta, con un rango de 19 a\n",
    "14053.\n",
    "- Tiros hechos en la carrera: cuantitativa; cantidad de tiros hechos en la carrera del atleta, con un rango\n",
    "de 4 a 4256.\n",
    "- Puntos Personales en la carrera: cuantitativa; cantidad de puntos personales en la carrera del atleta,\n",
    "con un rango de 0 a 548.\n",
    "- Puntos Totales en la carrera: cuantitativa; puntos totales del atleta en toda su carrera, con un rango de\n",
    "2 a 2165.\n",
    "- Asistencias en la carrera: cuantitativa; cantidad de asistencias en toda la carrera, con un rango de 3 a\n",
    "1659.\n",
    "- Concesiones en la carrera: cuantitativa; cantidad de concesiones en toda la carrera, con un rango de 1 a\n",
    "1566.\n",
    "- Valor para el equipo: cualitativa; valor que puede tener el jugador para el equipo, con cuatro valores\n",
    "posibles: Jugador de Rol, Contribuidor, Jugador de Franquicia y Súper Estrella. Esta variable se\n",
    "manipuló durante el análisis para convertirla en binaria, respondiendo a la pregunta: ¿Es el jugador\n",
    "una súper estrella? donde 0 es ‘No’ y 1 es ‘Sí’."
   ]
  },
  {
   "cell_type": "markdown",
   "metadata": {},
   "source": [
    "## Exploración de los Datos"
   ]
  },
  {
   "cell_type": "markdown",
   "metadata": {},
   "source": [
    "Antes de explorar los datos, es necesario cargarlos y aplicar la transformación respectiva a la variable “valor\n",
    "para el equipo”, pues el problema consiste en determinar cuáles jugadores son potencialmente súper estrellas.\n",
    "Adicionalmente, se procede a dividir el conjunto de datos en uno de entrenamiento y otro de prueba."
   ]
  },
  {
   "cell_type": "code",
   "execution_count": 4,
   "metadata": {
    "scrolled": true
   },
   "outputs": [],
   "source": [
    "#Evitar mostrar warning messages\n",
    "options(warn=-1)\n",
    "\n",
    "library(caTools)\n",
    "library(rpart)\n",
    "library(randomForest)\n",
    "library(neuralnet)\n",
    "library(ROCR)"
   ]
  },
  {
   "cell_type": "code",
   "execution_count": 5,
   "metadata": {},
   "outputs": [],
   "source": [
    "datos <- read.csv('Chapter11DataSet_Training.csv', header = T, na.strings = '?')\n",
    "datos$Team_Value <- as.character(datos$Team_Value)\n",
    "datos[datos$Team_Value != 'Superstar',]$Team_Value <- 0\n",
    "datos[datos$Team_Value == 'Superstar',]$Team_Value <- 1\n",
    "datos$Team_Value<- as.numeric(datos$Team_Value)\n",
    "splt <- sample.split(datos$Team_Value, SplitRatio = 0.7)\n",
    "entrenamiento <- datos[splt, ]\n",
    "prueba <- datos[!splt, ]"
   ]
  },
  {
   "cell_type": "markdown",
   "metadata": {},
   "source": [
    "Como podemos observar, la mayoría de las observaciones no son súper estrellas. Esto es esperado, pues la\n",
    "esta categoría de jugadores generalmente son los menos."
   ]
  },
  {
   "cell_type": "code",
   "execution_count": 6,
   "metadata": {},
   "outputs": [
    {
     "data": {
      "image/png": "[encoded data removed]",
      "text/plain": [
       "Plot with title \"Distribución de Valor para el Equipo\""
      ]
     },
     "metadata": {},
     "output_type": "display_data"
    }
   ],
   "source": [
    "barplot(table(entrenamiento$Team_Value),\n",
    "main = 'Distribución de Valor para el Equipo',\n",
    "ylab = 'Observaciones',\n",
    "xlab = '¿Es Súper Estrella? (1 = Sí)')"
   ]
  },
  {
   "cell_type": "markdown",
   "metadata": {},
   "source": [
    "Para efectos de determinar qué variables influencian la determinación de si es una súper estrella o no, podemos\n",
    "analizar algunas de las variales que acumulan el desempeño de la carrera.\n",
    "En el caso de la variable Career_TP, se puede apreciar una diferencia considerable entre las dos categorías.\n",
    "Sin embargo, los valores extremos de la categoría ‘No’ o 0 son mayores. Estos puntos anómalos en esa\n",
    "categoría pueden ser los jugadores de franquicia."
   ]
  },
  {
   "cell_type": "code",
   "execution_count": 7,
   "metadata": {},
   "outputs": [
    {
     "data": {
      "image/png": "[encoded data removed]",
      "text/plain": [
       "Plot with title \"Distribución de Career_TP por Valor para el Equipo\""
      ]
     },
     "metadata": {},
     "output_type": "display_data"
    }
   ],
   "source": [
    "boxplot(Career_TP ~ Team_Value,\n",
    "data = entrenamiento,\n",
    "main = 'Distribución de Career_TP por Valor para el Equipo',\n",
    "ylab = 'Career_TP',\n",
    "xlab = '¿Es Súper Estrella? (1 = Sí)')"
   ]
  },
  {
   "cell_type": "markdown",
   "metadata": {},
   "source": [
    "La variable Career_PP se comporta de manera similar:"
   ]
  },
  {
   "cell_type": "code",
   "execution_count": 8,
   "metadata": {},
   "outputs": [
    {
     "data": {
      "image/png": "[encoded data removed]",
      "text/plain": [
       "Plot with title \"Distribución de Career_PP por Valor para el Equipo\""
      ]
     },
     "metadata": {},
     "output_type": "display_data"
    }
   ],
   "source": [
    "boxplot(Career_PP ~ Team_Value,\n",
    "data = entrenamiento,\n",
    "main = 'Distribución de Career_PP por Valor para el Equipo',\n",
    "ylab = 'Career_PP',\n",
    "xlab = '¿Es Súper Estrella? (1 = Sí)')"
   ]
  },
  {
   "cell_type": "markdown",
   "metadata": {},
   "source": [
    "Y también la variable Career_Assists:"
   ]
  },
  {
   "cell_type": "code",
   "execution_count": 9,
   "metadata": {},
   "outputs": [
    {
     "data": {
      "image/png": "[encoded data removed]",
      "text/plain": [
       "Plot with title \"Distribución de Career_Assists por Valor para el Equipo\""
      ]
     },
     "metadata": {},
     "output_type": "display_data"
    }
   ],
   "source": [
    "boxplot(Career_Assists ~ Team_Value,\n",
    "data = entrenamiento,\n",
    "main = 'Distribución de Career_Assists por Valor para el Equipo',\n",
    "ylab = 'Career_Assists',\n",
    "xlab = '¿Es Súper Estrella? (1 = Sí)')"
   ]
  },
  {
   "cell_type": "markdown",
   "metadata": {},
   "source": [
    "Cuando se analizan las variables a nivel de la temporada anterior, el patrón se mantiene, aunque las diferencias\n",
    "son menores:"
   ]
  },
  {
   "cell_type": "code",
   "execution_count": 10,
   "metadata": {},
   "outputs": [
    {
     "data": {
      "image/png": "[encoded data removed]",
      "text/plain": [
       "Plot with title \"Distribución de Total_Points por Valor para el Equipo\""
      ]
     },
     "metadata": {},
     "output_type": "display_data"
    }
   ],
   "source": [
    "boxplot(Total_Points ~ Team_Value,\n",
    "data = entrenamiento,\n",
    "main = 'Distribución de Total_Points por Valor para el Equipo',\n",
    "ylab = 'Total_Points',\n",
    "xlab = '¿Es Súper Estrella? (1 = Sí)')"
   ]
  },
  {
   "cell_type": "markdown",
   "metadata": {},
   "source": [
    "    La variable Career_PP se comporta de manera similar:"
   ]
  },
  {
   "cell_type": "code",
   "execution_count": 11,
   "metadata": {},
   "outputs": [
    {
     "data": {
      "image/png": "[encoded data removed]",
      "text/plain": [
       "Plot with title \"Distribución de Personal_Points por Valor para el Equipo\""
      ]
     },
     "metadata": {},
     "output_type": "display_data"
    }
   ],
   "source": [
    "boxplot(Personal_Points ~ Team_Value,\n",
    "data = entrenamiento,\n",
    "main = 'Distribución de Personal_Points por Valor para el Equipo',\n",
    "ylab = 'Personal_Points',\n",
    "xlab = '¿Es Súper Estrella? (1 = Sí)')"
   ]
  },
  {
   "cell_type": "markdown",
   "metadata": {},
   "source": [
    "Y también la variable Career_Assists:"
   ]
  },
  {
   "cell_type": "code",
   "execution_count": 12,
   "metadata": {},
   "outputs": [
    {
     "data": {
      "image/png": "[encoded data removed]",
      "text/plain": [
       "Plot with title \"Distribución de Assists por Valor para el Equipo\""
      ]
     },
     "metadata": {},
     "output_type": "display_data"
    }
   ],
   "source": [
    "boxplot(Assists ~ Team_Value,\n",
    "data = entrenamiento,\n",
    "main = 'Distribución de Assists por Valor para el Equipo',\n",
    "ylab = 'Assists',\n",
    "xlab = '¿Es Súper Estrella? (1 = Sí)')"
   ]
  },
  {
   "cell_type": "markdown",
   "metadata": {},
   "source": [
    "Hay algunas variables que tienden a favorecer el no, como por ejemplo la cantidad de faltas la temporada\n",
    "anterior:"
   ]
  },
  {
   "cell_type": "code",
   "execution_count": 13,
   "metadata": {},
   "outputs": [
    {
     "data": {
      "image/png": "[encoded data removed]",
      "text/plain": [
       "Plot with title \"Distribución de Fouls por Valor para el Equipo\""
      ]
     },
     "metadata": {},
     "output_type": "display_data"
    }
   ],
   "source": [
    "boxplot(Fouls ~ Team_Value,\n",
    "data = entrenamiento,\n",
    "main = 'Distribución de Fouls por Valor para el Equipo',\n",
    "ylab = 'Fouls',\n",
    "xlab = '¿Es Súper Estrella? (1 = Sí)')"
   ]
  },
  {
   "cell_type": "markdown",
   "metadata": {},
   "source": [
    "A pesar de que el análisis exploratorio nos indica que podríamos guiarnos nada más por las estadísticas a nivel\n",
    "de la carrera, si hacemos esto, corremos el riesgo de no tomar encuenta súper estrellas potenciales que están\n",
    "en etapas tempranas en su carrera. Para evitar esto, y para aprovechar también la capacidad de las redes\n",
    "neuronales, vamos a tomar en cuenta todas las variables cuantitativas para intentar responder la pregunta."
   ]
  },
  {
   "cell_type": "markdown",
   "metadata": {},
   "source": [
    "## Creación de los Modelos"
   ]
  },
  {
   "cell_type": "markdown",
   "metadata": {},
   "source": [
    "En este caso, se van a utilizar una red neuronal, un árbol de decisión y un bosque aleatorio. Se comienza por\n",
    "crear la red neuronal y por aplicarla a los datos de prueba:"
   ]
  },
  {
   "cell_type": "code",
   "execution_count": 50,
   "metadata": {
    "scrolled": false
   },
   "outputs": [
    {
     "data": {
      "image/png": "[encoded data removed]",
      "text/plain": [
       "plot without title"
      ]
     },
     "metadata": {},
     "output_type": "display_data"
    }
   ],
   "source": [
    "#crear red neuronal con 7 unidades en la capa oculta\n",
    "modelo.red <- neuralnet(Team_Value ~ Shots + Makes + Personal_Points + Total_Points + Assists \n",
    "                        + Concessions+Blocks,data = entrenamiento,hidden =60,rep=1,linear.output=T)\n",
    "plot(modelo.red,rep=\"best\")"
   ]
  },
  {
   "cell_type": "code",
   "execution_count": 52,
   "metadata": {},
   "outputs": [
    {
     "data": {
      "text/html": [
       "<table>\n",
       "<thead><tr><th></th><th scope=col>actual</th><th scope=col>prediction</th></tr></thead>\n",
       "<tbody>\n",
       "\t<tr><th scope=row>1</th><td>1              </td><td> 0.313524349047</td></tr>\n",
       "\t<tr><th scope=row>4</th><td>0              </td><td> 0.008392359950</td></tr>\n",
       "\t<tr><th scope=row>5</th><td>1              </td><td> 0.609458787067</td></tr>\n",
       "\t<tr><th scope=row>14</th><td>0              </td><td> 0.008392360017</td></tr>\n",
       "\t<tr><th scope=row>17</th><td>0              </td><td>-0.001745512673</td></tr>\n",
       "\t<tr><th scope=row>21</th><td>1              </td><td> 0.082727027031</td></tr>\n",
       "\t<tr><th scope=row>25</th><td>0              </td><td>-0.001738663391</td></tr>\n",
       "\t<tr><th scope=row>28</th><td>0              </td><td> 0.008392393554</td></tr>\n",
       "\t<tr><th scope=row>30</th><td>0              </td><td>-0.003718101549</td></tr>\n",
       "\t<tr><th scope=row>34</th><td>0              </td><td>-0.001745512673</td></tr>\n",
       "\t<tr><th scope=row>36</th><td>1              </td><td> 0.082727032307</td></tr>\n",
       "\t<tr><th scope=row>38</th><td>0              </td><td> 0.006506714488</td></tr>\n",
       "\t<tr><th scope=row>41</th><td>0              </td><td> 0.370689162724</td></tr>\n",
       "\t<tr><th scope=row>42</th><td>0              </td><td> 0.616788727616</td></tr>\n",
       "\t<tr><th scope=row>48</th><td>0              </td><td> 1.653670182281</td></tr>\n",
       "\t<tr><th scope=row>55</th><td>0              </td><td> 0.008392366487</td></tr>\n",
       "\t<tr><th scope=row>56</th><td>0              </td><td> 0.037146011137</td></tr>\n",
       "\t<tr><th scope=row>59</th><td>0              </td><td> 1.650225339344</td></tr>\n",
       "\t<tr><th scope=row>64</th><td>0              </td><td> 0.008392359940</td></tr>\n",
       "\t<tr><th scope=row>68</th><td>0              </td><td> 0.624820208972</td></tr>\n",
       "\t<tr><th scope=row>69</th><td>1              </td><td> 0.150012625298</td></tr>\n",
       "\t<tr><th scope=row>73</th><td>0              </td><td> 0.292941272939</td></tr>\n",
       "\t<tr><th scope=row>75</th><td>1              </td><td>-0.095098562021</td></tr>\n",
       "\t<tr><th scope=row>77</th><td>0              </td><td> 2.238888165810</td></tr>\n",
       "\t<tr><th scope=row>79</th><td>0              </td><td>-0.006857376045</td></tr>\n",
       "\t<tr><th scope=row>82</th><td>0              </td><td>-0.982140017864</td></tr>\n",
       "\t<tr><th scope=row>83</th><td>0              </td><td> 0.646721402612</td></tr>\n",
       "\t<tr><th scope=row>86</th><td>1              </td><td> 0.518668895151</td></tr>\n",
       "\t<tr><th scope=row>91</th><td>1              </td><td> 1.021684274350</td></tr>\n",
       "\t<tr><th scope=row>93</th><td>1              </td><td>-0.342986851223</td></tr>\n",
       "\t<tr><th scope=row>...</th><td>...</td><td>...</td></tr>\n",
       "\t<tr><th scope=row>185</th><td>0              </td><td> 0.150012625298</td></tr>\n",
       "\t<tr><th scope=row>186</th><td>0              </td><td> 0.682442428095</td></tr>\n",
       "\t<tr><th scope=row>187</th><td>0              </td><td> 1.645734136192</td></tr>\n",
       "\t<tr><th scope=row>188</th><td>0              </td><td>-1.404978601443</td></tr>\n",
       "\t<tr><th scope=row>191</th><td>0              </td><td> 0.304863946168</td></tr>\n",
       "\t<tr><th scope=row>193</th><td>0              </td><td> 0.008392387069</td></tr>\n",
       "\t<tr><th scope=row>197</th><td>1              </td><td> 0.080905674250</td></tr>\n",
       "\t<tr><th scope=row>199</th><td>0              </td><td> 0.291595387536</td></tr>\n",
       "\t<tr><th scope=row>200</th><td>0              </td><td> 0.113503555657</td></tr>\n",
       "\t<tr><th scope=row>203</th><td>0              </td><td> 0.554437628284</td></tr>\n",
       "\t<tr><th scope=row>204</th><td>0              </td><td> 0.151251366294</td></tr>\n",
       "\t<tr><th scope=row>209</th><td>0              </td><td> 0.082727031846</td></tr>\n",
       "\t<tr><th scope=row>210</th><td>0              </td><td> 0.008392360124</td></tr>\n",
       "\t<tr><th scope=row>211</th><td>0              </td><td> 0.713433740034</td></tr>\n",
       "\t<tr><th scope=row>213</th><td>0              </td><td> 0.082727027072</td></tr>\n",
       "\t<tr><th scope=row>219</th><td>0              </td><td> 0.641864334116</td></tr>\n",
       "\t<tr><th scope=row>225</th><td>1              </td><td> 0.082727027031</td></tr>\n",
       "\t<tr><th scope=row>227</th><td>0              </td><td>-0.784521856196</td></tr>\n",
       "\t<tr><th scope=row>230</th><td>0              </td><td> 0.292940806605</td></tr>\n",
       "\t<tr><th scope=row>231</th><td>0              </td><td> 0.008392428806</td></tr>\n",
       "\t<tr><th scope=row>232</th><td>0              </td><td> 0.713477984246</td></tr>\n",
       "\t<tr><th scope=row>233</th><td>0              </td><td>-0.001745508011</td></tr>\n",
       "\t<tr><th scope=row>236</th><td>1              </td><td> 0.150012625298</td></tr>\n",
       "\t<tr><th scope=row>237</th><td>1              </td><td> 0.749667605058</td></tr>\n",
       "\t<tr><th scope=row>243</th><td>1              </td><td>-0.001745512663</td></tr>\n",
       "\t<tr><th scope=row>244</th><td>0              </td><td> 0.292956984165</td></tr>\n",
       "\t<tr><th scope=row>249</th><td>0              </td><td>-1.017576473790</td></tr>\n",
       "\t<tr><th scope=row>255</th><td>0              </td><td> 0.150012625298</td></tr>\n",
       "\t<tr><th scope=row>259</th><td>1              </td><td> 0.646720659808</td></tr>\n",
       "\t<tr><th scope=row>262</th><td>0              </td><td> 0.292940805704</td></tr>\n",
       "</tbody>\n",
       "</table>\n"
      ],
      "text/latex": [
       "\\begin{tabular}{r|ll}\n",
       "  & actual & prediction\\\\\n",
       "\\hline\n",
       "\t1 & 1               &  0.313524349047\\\\\n",
       "\t4 & 0               &  0.008392359950\\\\\n",
       "\t5 & 1               &  0.609458787067\\\\\n",
       "\t14 & 0               &  0.008392360017\\\\\n",
       "\t17 & 0               & -0.001745512673\\\\\n",
       "\t21 & 1               &  0.082727027031\\\\\n",
       "\t25 & 0               & -0.001738663391\\\\\n",
       "\t28 & 0               &  0.008392393554\\\\\n",
       "\t30 & 0               & -0.003718101549\\\\\n",
       "\t34 & 0               & -0.001745512673\\\\\n",
       "\t36 & 1               &  0.082727032307\\\\\n",
       "\t38 & 0               &  0.006506714488\\\\\n",
       "\t41 & 0               &  0.370689162724\\\\\n",
       "\t42 & 0               &  0.616788727616\\\\\n",
       "\t48 & 0               &  1.653670182281\\\\\n",
       "\t55 & 0               &  0.008392366487\\\\\n",
       "\t56 & 0               &  0.037146011137\\\\\n",
       "\t59 & 0               &  1.650225339344\\\\\n",
       "\t64 & 0               &  0.008392359940\\\\\n",
       "\t68 & 0               &  0.624820208972\\\\\n",
       "\t69 & 1               &  0.150012625298\\\\\n",
       "\t73 & 0               &  0.292941272939\\\\\n",
       "\t75 & 1               & -0.095098562021\\\\\n",
       "\t77 & 0               &  2.238888165810\\\\\n",
       "\t79 & 0               & -0.006857376045\\\\\n",
       "\t82 & 0               & -0.982140017864\\\\\n",
       "\t83 & 0               &  0.646721402612\\\\\n",
       "\t86 & 1               &  0.518668895151\\\\\n",
       "\t91 & 1               &  1.021684274350\\\\\n",
       "\t93 & 1               & -0.342986851223\\\\\n",
       "\t... & ... & ...\\\\\n",
       "\t185 & 0               &  0.150012625298\\\\\n",
       "\t186 & 0               &  0.682442428095\\\\\n",
       "\t187 & 0               &  1.645734136192\\\\\n",
       "\t188 & 0               & -1.404978601443\\\\\n",
       "\t191 & 0               &  0.304863946168\\\\\n",
       "\t193 & 0               &  0.008392387069\\\\\n",
       "\t197 & 1               &  0.080905674250\\\\\n",
       "\t199 & 0               &  0.291595387536\\\\\n",
       "\t200 & 0               &  0.113503555657\\\\\n",
       "\t203 & 0               &  0.554437628284\\\\\n",
       "\t204 & 0               &  0.151251366294\\\\\n",
       "\t209 & 0               &  0.082727031846\\\\\n",
       "\t210 & 0               &  0.008392360124\\\\\n",
       "\t211 & 0               &  0.713433740034\\\\\n",
       "\t213 & 0               &  0.082727027072\\\\\n",
       "\t219 & 0               &  0.641864334116\\\\\n",
       "\t225 & 1               &  0.082727027031\\\\\n",
       "\t227 & 0               & -0.784521856196\\\\\n",
       "\t230 & 0               &  0.292940806605\\\\\n",
       "\t231 & 0               &  0.008392428806\\\\\n",
       "\t232 & 0               &  0.713477984246\\\\\n",
       "\t233 & 0               & -0.001745508011\\\\\n",
       "\t236 & 1               &  0.150012625298\\\\\n",
       "\t237 & 1               &  0.749667605058\\\\\n",
       "\t243 & 1               & -0.001745512663\\\\\n",
       "\t244 & 0               &  0.292956984165\\\\\n",
       "\t249 & 0               & -1.017576473790\\\\\n",
       "\t255 & 0               &  0.150012625298\\\\\n",
       "\t259 & 1               &  0.646720659808\\\\\n",
       "\t262 & 0               &  0.292940805704\\\\\n",
       "\\end{tabular}\n"
      ],
      "text/markdown": [
       "\n",
       "| <!--/--> | actual | prediction | \n",
       "|---|---|---|---|---|---|---|---|---|---|---|---|---|---|---|---|---|---|---|---|---|---|---|---|---|---|---|---|---|---|---|---|---|---|---|---|---|---|---|---|---|---|---|---|---|---|---|---|---|---|---|---|---|---|---|---|---|---|---|---|---|\n",
       "| 1 | 1               |  0.313524349047 | \n",
       "| 4 | 0               |  0.008392359950 | \n",
       "| 5 | 1               |  0.609458787067 | \n",
       "| 14 | 0               |  0.008392360017 | \n",
       "| 17 | 0               | -0.001745512673 | \n",
       "| 21 | 1               |  0.082727027031 | \n",
       "| 25 | 0               | -0.001738663391 | \n",
       "| 28 | 0               |  0.008392393554 | \n",
       "| 30 | 0               | -0.003718101549 | \n",
       "| 34 | 0               | -0.001745512673 | \n",
       "| 36 | 1               |  0.082727032307 | \n",
       "| 38 | 0               |  0.006506714488 | \n",
       "| 41 | 0               |  0.370689162724 | \n",
       "| 42 | 0               |  0.616788727616 | \n",
       "| 48 | 0               |  1.653670182281 | \n",
       "| 55 | 0               |  0.008392366487 | \n",
       "| 56 | 0               |  0.037146011137 | \n",
       "| 59 | 0               |  1.650225339344 | \n",
       "| 64 | 0               |  0.008392359940 | \n",
       "| 68 | 0               |  0.624820208972 | \n",
       "| 69 | 1               |  0.150012625298 | \n",
       "| 73 | 0               |  0.292941272939 | \n",
       "| 75 | 1               | -0.095098562021 | \n",
       "| 77 | 0               |  2.238888165810 | \n",
       "| 79 | 0               | -0.006857376045 | \n",
       "| 82 | 0               | -0.982140017864 | \n",
       "| 83 | 0               |  0.646721402612 | \n",
       "| 86 | 1               |  0.518668895151 | \n",
       "| 91 | 1               |  1.021684274350 | \n",
       "| 93 | 1               | -0.342986851223 | \n",
       "| ... | ... | ... | \n",
       "| 185 | 0               |  0.150012625298 | \n",
       "| 186 | 0               |  0.682442428095 | \n",
       "| 187 | 0               |  1.645734136192 | \n",
       "| 188 | 0               | -1.404978601443 | \n",
       "| 191 | 0               |  0.304863946168 | \n",
       "| 193 | 0               |  0.008392387069 | \n",
       "| 197 | 1               |  0.080905674250 | \n",
       "| 199 | 0               |  0.291595387536 | \n",
       "| 200 | 0               |  0.113503555657 | \n",
       "| 203 | 0               |  0.554437628284 | \n",
       "| 204 | 0               |  0.151251366294 | \n",
       "| 209 | 0               |  0.082727031846 | \n",
       "| 210 | 0               |  0.008392360124 | \n",
       "| 211 | 0               |  0.713433740034 | \n",
       "| 213 | 0               |  0.082727027072 | \n",
       "| 219 | 0               |  0.641864334116 | \n",
       "| 225 | 1               |  0.082727027031 | \n",
       "| 227 | 0               | -0.784521856196 | \n",
       "| 230 | 0               |  0.292940806605 | \n",
       "| 231 | 0               |  0.008392428806 | \n",
       "| 232 | 0               |  0.713477984246 | \n",
       "| 233 | 0               | -0.001745508011 | \n",
       "| 236 | 1               |  0.150012625298 | \n",
       "| 237 | 1               |  0.749667605058 | \n",
       "| 243 | 1               | -0.001745512663 | \n",
       "| 244 | 0               |  0.292956984165 | \n",
       "| 249 | 0               | -1.017576473790 | \n",
       "| 255 | 0               |  0.150012625298 | \n",
       "| 259 | 1               |  0.646720659808 | \n",
       "| 262 | 0               |  0.292940805704 | \n",
       "\n",
       "\n"
      ],
      "text/plain": [
       "    actual prediction     \n",
       "1   1       0.313524349047\n",
       "4   0       0.008392359950\n",
       "5   1       0.609458787067\n",
       "14  0       0.008392360017\n",
       "17  0      -0.001745512673\n",
       "21  1       0.082727027031\n",
       "25  0      -0.001738663391\n",
       "28  0       0.008392393554\n",
       "30  0      -0.003718101549\n",
       "34  0      -0.001745512673\n",
       "36  1       0.082727032307\n",
       "38  0       0.006506714488\n",
       "41  0       0.370689162724\n",
       "42  0       0.616788727616\n",
       "48  0       1.653670182281\n",
       "55  0       0.008392366487\n",
       "56  0       0.037146011137\n",
       "59  0       1.650225339344\n",
       "64  0       0.008392359940\n",
       "68  0       0.624820208972\n",
       "69  1       0.150012625298\n",
       "73  0       0.292941272939\n",
       "75  1      -0.095098562021\n",
       "77  0       2.238888165810\n",
       "79  0      -0.006857376045\n",
       "82  0      -0.982140017864\n",
       "83  0       0.646721402612\n",
       "86  1       0.518668895151\n",
       "91  1       1.021684274350\n",
       "93  1      -0.342986851223\n",
       "... ...    ...            \n",
       "185 0       0.150012625298\n",
       "186 0       0.682442428095\n",
       "187 0       1.645734136192\n",
       "188 0      -1.404978601443\n",
       "191 0       0.304863946168\n",
       "193 0       0.008392387069\n",
       "197 1       0.080905674250\n",
       "199 0       0.291595387536\n",
       "200 0       0.113503555657\n",
       "203 0       0.554437628284\n",
       "204 0       0.151251366294\n",
       "209 0       0.082727031846\n",
       "210 0       0.008392360124\n",
       "211 0       0.713433740034\n",
       "213 0       0.082727027072\n",
       "219 0       0.641864334116\n",
       "225 1       0.082727027031\n",
       "227 0      -0.784521856196\n",
       "230 0       0.292940806605\n",
       "231 0       0.008392428806\n",
       "232 0       0.713477984246\n",
       "233 0      -0.001745508011\n",
       "236 1       0.150012625298\n",
       "237 1       0.749667605058\n",
       "243 1      -0.001745512663\n",
       "244 0       0.292956984165\n",
       "249 0      -1.017576473790\n",
       "255 0       0.150012625298\n",
       "259 1       0.646720659808\n",
       "262 0       0.292940805704"
      ]
     },
     "metadata": {},
     "output_type": "display_data"
    },
    {
     "data": {
      "text/html": [
       "<table>\n",
       "<tbody>\n",
       "\t<tr><th scope=row>1</th><td>0</td></tr>\n",
       "\t<tr><th scope=row>4</th><td>0</td></tr>\n",
       "\t<tr><th scope=row>5</th><td>1</td></tr>\n",
       "\t<tr><th scope=row>14</th><td>0</td></tr>\n",
       "\t<tr><th scope=row>17</th><td>0</td></tr>\n",
       "\t<tr><th scope=row>21</th><td>0</td></tr>\n",
       "\t<tr><th scope=row>25</th><td>0</td></tr>\n",
       "\t<tr><th scope=row>28</th><td>0</td></tr>\n",
       "\t<tr><th scope=row>30</th><td>0</td></tr>\n",
       "\t<tr><th scope=row>34</th><td>0</td></tr>\n",
       "\t<tr><th scope=row>36</th><td>0</td></tr>\n",
       "\t<tr><th scope=row>38</th><td>0</td></tr>\n",
       "\t<tr><th scope=row>41</th><td>0</td></tr>\n",
       "\t<tr><th scope=row>42</th><td>1</td></tr>\n",
       "\t<tr><th scope=row>48</th><td>1</td></tr>\n",
       "\t<tr><th scope=row>55</th><td>0</td></tr>\n",
       "\t<tr><th scope=row>56</th><td>0</td></tr>\n",
       "\t<tr><th scope=row>59</th><td>1</td></tr>\n",
       "\t<tr><th scope=row>64</th><td>0</td></tr>\n",
       "\t<tr><th scope=row>68</th><td>1</td></tr>\n",
       "\t<tr><th scope=row>69</th><td>0</td></tr>\n",
       "\t<tr><th scope=row>73</th><td>0</td></tr>\n",
       "\t<tr><th scope=row>75</th><td>0</td></tr>\n",
       "\t<tr><th scope=row>77</th><td>1</td></tr>\n",
       "\t<tr><th scope=row>79</th><td>0</td></tr>\n",
       "\t<tr><th scope=row>82</th><td>0</td></tr>\n",
       "\t<tr><th scope=row>83</th><td>1</td></tr>\n",
       "\t<tr><th scope=row>86</th><td>1</td></tr>\n",
       "\t<tr><th scope=row>91</th><td>1</td></tr>\n",
       "\t<tr><th scope=row>93</th><td>0</td></tr>\n",
       "\t<tr><th scope=row>...</th><td>...</td></tr>\n",
       "\t<tr><th scope=row>185</th><td>0</td></tr>\n",
       "\t<tr><th scope=row>186</th><td>1</td></tr>\n",
       "\t<tr><th scope=row>187</th><td>1</td></tr>\n",
       "\t<tr><th scope=row>188</th><td>0</td></tr>\n",
       "\t<tr><th scope=row>191</th><td>0</td></tr>\n",
       "\t<tr><th scope=row>193</th><td>0</td></tr>\n",
       "\t<tr><th scope=row>197</th><td>0</td></tr>\n",
       "\t<tr><th scope=row>199</th><td>0</td></tr>\n",
       "\t<tr><th scope=row>200</th><td>0</td></tr>\n",
       "\t<tr><th scope=row>203</th><td>1</td></tr>\n",
       "\t<tr><th scope=row>204</th><td>0</td></tr>\n",
       "\t<tr><th scope=row>209</th><td>0</td></tr>\n",
       "\t<tr><th scope=row>210</th><td>0</td></tr>\n",
       "\t<tr><th scope=row>211</th><td>1</td></tr>\n",
       "\t<tr><th scope=row>213</th><td>0</td></tr>\n",
       "\t<tr><th scope=row>219</th><td>1</td></tr>\n",
       "\t<tr><th scope=row>225</th><td>0</td></tr>\n",
       "\t<tr><th scope=row>227</th><td>0</td></tr>\n",
       "\t<tr><th scope=row>230</th><td>0</td></tr>\n",
       "\t<tr><th scope=row>231</th><td>0</td></tr>\n",
       "\t<tr><th scope=row>232</th><td>1</td></tr>\n",
       "\t<tr><th scope=row>233</th><td>0</td></tr>\n",
       "\t<tr><th scope=row>236</th><td>0</td></tr>\n",
       "\t<tr><th scope=row>237</th><td>1</td></tr>\n",
       "\t<tr><th scope=row>243</th><td>0</td></tr>\n",
       "\t<tr><th scope=row>244</th><td>0</td></tr>\n",
       "\t<tr><th scope=row>249</th><td>0</td></tr>\n",
       "\t<tr><th scope=row>255</th><td>0</td></tr>\n",
       "\t<tr><th scope=row>259</th><td>1</td></tr>\n",
       "\t<tr><th scope=row>262</th><td>0</td></tr>\n",
       "</tbody>\n",
       "</table>\n"
      ],
      "text/latex": [
       "\\begin{tabular}{r|l}\n",
       "\t1 & 0\\\\\n",
       "\t4 & 0\\\\\n",
       "\t5 & 1\\\\\n",
       "\t14 & 0\\\\\n",
       "\t17 & 0\\\\\n",
       "\t21 & 0\\\\\n",
       "\t25 & 0\\\\\n",
       "\t28 & 0\\\\\n",
       "\t30 & 0\\\\\n",
       "\t34 & 0\\\\\n",
       "\t36 & 0\\\\\n",
       "\t38 & 0\\\\\n",
       "\t41 & 0\\\\\n",
       "\t42 & 1\\\\\n",
       "\t48 & 1\\\\\n",
       "\t55 & 0\\\\\n",
       "\t56 & 0\\\\\n",
       "\t59 & 1\\\\\n",
       "\t64 & 0\\\\\n",
       "\t68 & 1\\\\\n",
       "\t69 & 0\\\\\n",
       "\t73 & 0\\\\\n",
       "\t75 & 0\\\\\n",
       "\t77 & 1\\\\\n",
       "\t79 & 0\\\\\n",
       "\t82 & 0\\\\\n",
       "\t83 & 1\\\\\n",
       "\t86 & 1\\\\\n",
       "\t91 & 1\\\\\n",
       "\t93 & 0\\\\\n",
       "\t... & ...\\\\\n",
       "\t185 & 0\\\\\n",
       "\t186 & 1\\\\\n",
       "\t187 & 1\\\\\n",
       "\t188 & 0\\\\\n",
       "\t191 & 0\\\\\n",
       "\t193 & 0\\\\\n",
       "\t197 & 0\\\\\n",
       "\t199 & 0\\\\\n",
       "\t200 & 0\\\\\n",
       "\t203 & 1\\\\\n",
       "\t204 & 0\\\\\n",
       "\t209 & 0\\\\\n",
       "\t210 & 0\\\\\n",
       "\t211 & 1\\\\\n",
       "\t213 & 0\\\\\n",
       "\t219 & 1\\\\\n",
       "\t225 & 0\\\\\n",
       "\t227 & 0\\\\\n",
       "\t230 & 0\\\\\n",
       "\t231 & 0\\\\\n",
       "\t232 & 1\\\\\n",
       "\t233 & 0\\\\\n",
       "\t236 & 0\\\\\n",
       "\t237 & 1\\\\\n",
       "\t243 & 0\\\\\n",
       "\t244 & 0\\\\\n",
       "\t249 & 0\\\\\n",
       "\t255 & 0\\\\\n",
       "\t259 & 1\\\\\n",
       "\t262 & 0\\\\\n",
       "\\end{tabular}\n"
      ],
      "text/markdown": [
       "\n",
       "| 1 | 0 | \n",
       "| 4 | 0 | \n",
       "| 5 | 1 | \n",
       "| 14 | 0 | \n",
       "| 17 | 0 | \n",
       "| 21 | 0 | \n",
       "| 25 | 0 | \n",
       "| 28 | 0 | \n",
       "| 30 | 0 | \n",
       "| 34 | 0 | \n",
       "| 36 | 0 | \n",
       "| 38 | 0 | \n",
       "| 41 | 0 | \n",
       "| 42 | 1 | \n",
       "| 48 | 1 | \n",
       "| 55 | 0 | \n",
       "| 56 | 0 | \n",
       "| 59 | 1 | \n",
       "| 64 | 0 | \n",
       "| 68 | 1 | \n",
       "| 69 | 0 | \n",
       "| 73 | 0 | \n",
       "| 75 | 0 | \n",
       "| 77 | 1 | \n",
       "| 79 | 0 | \n",
       "| 82 | 0 | \n",
       "| 83 | 1 | \n",
       "| 86 | 1 | \n",
       "| 91 | 1 | \n",
       "| 93 | 0 | \n",
       "| ... | ... | \n",
       "| 185 | 0 | \n",
       "| 186 | 1 | \n",
       "| 187 | 1 | \n",
       "| 188 | 0 | \n",
       "| 191 | 0 | \n",
       "| 193 | 0 | \n",
       "| 197 | 0 | \n",
       "| 199 | 0 | \n",
       "| 200 | 0 | \n",
       "| 203 | 1 | \n",
       "| 204 | 0 | \n",
       "| 209 | 0 | \n",
       "| 210 | 0 | \n",
       "| 211 | 1 | \n",
       "| 213 | 0 | \n",
       "| 219 | 1 | \n",
       "| 225 | 0 | \n",
       "| 227 | 0 | \n",
       "| 230 | 0 | \n",
       "| 231 | 0 | \n",
       "| 232 | 1 | \n",
       "| 233 | 0 | \n",
       "| 236 | 0 | \n",
       "| 237 | 1 | \n",
       "| 243 | 0 | \n",
       "| 244 | 0 | \n",
       "| 249 | 0 | \n",
       "| 255 | 0 | \n",
       "| 259 | 1 | \n",
       "| 262 | 0 | \n",
       "\n",
       "\n"
      ],
      "text/plain": [
       "    [,1]\n",
       "1   0   \n",
       "4   0   \n",
       "5   1   \n",
       "14  0   \n",
       "17  0   \n",
       "21  0   \n",
       "25  0   \n",
       "28  0   \n",
       "30  0   \n",
       "34  0   \n",
       "36  0   \n",
       "38  0   \n",
       "41  0   \n",
       "42  1   \n",
       "48  1   \n",
       "55  0   \n",
       "56  0   \n",
       "59  1   \n",
       "64  0   \n",
       "68  1   \n",
       "69  0   \n",
       "73  0   \n",
       "75  0   \n",
       "77  1   \n",
       "79  0   \n",
       "82  0   \n",
       "83  1   \n",
       "86  1   \n",
       "91  1   \n",
       "93  0   \n",
       "... ... \n",
       "185 0   \n",
       "186 1   \n",
       "187 1   \n",
       "188 0   \n",
       "191 0   \n",
       "193 0   \n",
       "197 0   \n",
       "199 0   \n",
       "200 0   \n",
       "203 1   \n",
       "204 0   \n",
       "209 0   \n",
       "210 0   \n",
       "211 1   \n",
       "213 0   \n",
       "219 1   \n",
       "225 0   \n",
       "227 0   \n",
       "230 0   \n",
       "231 0   \n",
       "232 1   \n",
       "233 0   \n",
       "236 0   \n",
       "237 1   \n",
       "243 0   \n",
       "244 0   \n",
       "249 0   \n",
       "255 0   \n",
       "259 1   \n",
       "262 0   "
      ]
     },
     "metadata": {},
     "output_type": "display_data"
    }
   ],
   "source": [
    "#realizar predicciones\n",
    "predicciones.red <- neuralnet::compute(modelo.red,prueba[,c(\"Shots\",\"Makes\",\"Personal_Points\",\"Total_Points\",\"Assists\",\"Concessions\",\"Blocks\")])\n",
    "#predicciones.red$net.result\n",
    "\n",
    "results <- data.frame(actual = prueba$Team_Value, prediction = predicciones.red$net.result)\n",
    "results\n",
    "\n",
    "predicciones.redClass=ifelse(predicciones.red$net.result>=0.5,1,0)\n",
    "predicciones.redClass\n",
    "#table(predicciones.redClass)\n",
    "#table(prueba[,c(\"Team_Value\")])"
   ]
  },
  {
   "cell_type": "markdown",
   "metadata": {},
   "source": [
    "Posteriormente, se crea el árbol de decisión:"
   ]
  },
  {
   "cell_type": "code",
   "execution_count": 16,
   "metadata": {},
   "outputs": [],
   "source": [
    "#crear modelo\n",
    "set.seed(14234)\n",
    "modelo.arbol <- rpart(Team_Value ~ Shots + Makes + Personal_Points + Total_Points + Assists + Concessions+Blocks,data = entrenamiento)"
   ]
  },
  {
   "cell_type": "code",
   "execution_count": 17,
   "metadata": {},
   "outputs": [],
   "source": [
    "#realizar predicciones\n",
    "predicciones.arbol <- predict(modelo.arbol, newdata = prueba)"
   ]
  },
  {
   "cell_type": "markdown",
   "metadata": {},
   "source": [
    "Finalmente, el bosque aleatorio:"
   ]
  },
  {
   "cell_type": "code",
   "execution_count": 18,
   "metadata": {},
   "outputs": [],
   "source": [
    "#crear modelo\n",
    "set.seed(14234)\n",
    "modelo.bosque <- randomForest(Team_Value ~ Shots + Makes + Personal_Points + Total_Points + Assists + Concessions+Blocks,data = entrenamiento)"
   ]
  },
  {
   "cell_type": "code",
   "execution_count": 19,
   "metadata": {},
   "outputs": [],
   "source": [
    "#realizar predicciones\n",
    "predicciones.bosque <- predict(modelo.bosque, newdata = prueba)"
   ]
  },
  {
   "cell_type": "markdown",
   "metadata": {},
   "source": [
    "## Evaluación"
   ]
  },
  {
   "cell_type": "markdown",
   "metadata": {},
   "source": [
    "Averiguamos el desempeño de la red neuronal:"
   ]
  },
  {
   "cell_type": "code",
   "execution_count": 22,
   "metadata": {},
   "outputs": [
    {
     "data": {
      "text/html": [
       "<table>\n",
       "<tbody>\n",
       "\t<tr><th scope=row>1</th><td>0</td></tr>\n",
       "\t<tr><th scope=row>4</th><td>0</td></tr>\n",
       "\t<tr><th scope=row>5</th><td>0</td></tr>\n",
       "\t<tr><th scope=row>14</th><td>0</td></tr>\n",
       "\t<tr><th scope=row>17</th><td>0</td></tr>\n",
       "\t<tr><th scope=row>21</th><td>0</td></tr>\n",
       "\t<tr><th scope=row>25</th><td>0</td></tr>\n",
       "\t<tr><th scope=row>28</th><td>0</td></tr>\n",
       "\t<tr><th scope=row>30</th><td>0</td></tr>\n",
       "\t<tr><th scope=row>34</th><td>0</td></tr>\n",
       "\t<tr><th scope=row>36</th><td>0</td></tr>\n",
       "\t<tr><th scope=row>38</th><td>0</td></tr>\n",
       "\t<tr><th scope=row>41</th><td>0</td></tr>\n",
       "\t<tr><th scope=row>42</th><td>0</td></tr>\n",
       "\t<tr><th scope=row>48</th><td>0</td></tr>\n",
       "\t<tr><th scope=row>55</th><td>0</td></tr>\n",
       "\t<tr><th scope=row>56</th><td>0</td></tr>\n",
       "\t<tr><th scope=row>59</th><td>0</td></tr>\n",
       "\t<tr><th scope=row>64</th><td>0</td></tr>\n",
       "\t<tr><th scope=row>68</th><td>0</td></tr>\n",
       "\t<tr><th scope=row>69</th><td>0</td></tr>\n",
       "\t<tr><th scope=row>73</th><td>0</td></tr>\n",
       "\t<tr><th scope=row>75</th><td>0</td></tr>\n",
       "\t<tr><th scope=row>77</th><td>0</td></tr>\n",
       "\t<tr><th scope=row>79</th><td>0</td></tr>\n",
       "\t<tr><th scope=row>82</th><td>1</td></tr>\n",
       "\t<tr><th scope=row>83</th><td>0</td></tr>\n",
       "\t<tr><th scope=row>86</th><td>1</td></tr>\n",
       "\t<tr><th scope=row>91</th><td>0</td></tr>\n",
       "\t<tr><th scope=row>93</th><td>0</td></tr>\n",
       "\t<tr><th scope=row>...</th><td>...</td></tr>\n",
       "\t<tr><th scope=row>185</th><td>0</td></tr>\n",
       "\t<tr><th scope=row>186</th><td>0</td></tr>\n",
       "\t<tr><th scope=row>187</th><td>0</td></tr>\n",
       "\t<tr><th scope=row>188</th><td>0</td></tr>\n",
       "\t<tr><th scope=row>191</th><td>0</td></tr>\n",
       "\t<tr><th scope=row>193</th><td>0</td></tr>\n",
       "\t<tr><th scope=row>197</th><td>0</td></tr>\n",
       "\t<tr><th scope=row>199</th><td>0</td></tr>\n",
       "\t<tr><th scope=row>200</th><td>0</td></tr>\n",
       "\t<tr><th scope=row>203</th><td>1</td></tr>\n",
       "\t<tr><th scope=row>204</th><td>0</td></tr>\n",
       "\t<tr><th scope=row>209</th><td>0</td></tr>\n",
       "\t<tr><th scope=row>210</th><td>0</td></tr>\n",
       "\t<tr><th scope=row>211</th><td>0</td></tr>\n",
       "\t<tr><th scope=row>213</th><td>0</td></tr>\n",
       "\t<tr><th scope=row>219</th><td>0</td></tr>\n",
       "\t<tr><th scope=row>225</th><td>0</td></tr>\n",
       "\t<tr><th scope=row>227</th><td>0</td></tr>\n",
       "\t<tr><th scope=row>230</th><td>0</td></tr>\n",
       "\t<tr><th scope=row>231</th><td>0</td></tr>\n",
       "\t<tr><th scope=row>232</th><td>0</td></tr>\n",
       "\t<tr><th scope=row>233</th><td>0</td></tr>\n",
       "\t<tr><th scope=row>236</th><td>0</td></tr>\n",
       "\t<tr><th scope=row>237</th><td>0</td></tr>\n",
       "\t<tr><th scope=row>243</th><td>0</td></tr>\n",
       "\t<tr><th scope=row>244</th><td>0</td></tr>\n",
       "\t<tr><th scope=row>249</th><td>0</td></tr>\n",
       "\t<tr><th scope=row>255</th><td>0</td></tr>\n",
       "\t<tr><th scope=row>259</th><td>0</td></tr>\n",
       "\t<tr><th scope=row>262</th><td>0</td></tr>\n",
       "</tbody>\n",
       "</table>\n"
      ],
      "text/latex": [
       "\\begin{tabular}{r|l}\n",
       "\t1 & 0\\\\\n",
       "\t4 & 0\\\\\n",
       "\t5 & 0\\\\\n",
       "\t14 & 0\\\\\n",
       "\t17 & 0\\\\\n",
       "\t21 & 0\\\\\n",
       "\t25 & 0\\\\\n",
       "\t28 & 0\\\\\n",
       "\t30 & 0\\\\\n",
       "\t34 & 0\\\\\n",
       "\t36 & 0\\\\\n",
       "\t38 & 0\\\\\n",
       "\t41 & 0\\\\\n",
       "\t42 & 0\\\\\n",
       "\t48 & 0\\\\\n",
       "\t55 & 0\\\\\n",
       "\t56 & 0\\\\\n",
       "\t59 & 0\\\\\n",
       "\t64 & 0\\\\\n",
       "\t68 & 0\\\\\n",
       "\t69 & 0\\\\\n",
       "\t73 & 0\\\\\n",
       "\t75 & 0\\\\\n",
       "\t77 & 0\\\\\n",
       "\t79 & 0\\\\\n",
       "\t82 & 1\\\\\n",
       "\t83 & 0\\\\\n",
       "\t86 & 1\\\\\n",
       "\t91 & 0\\\\\n",
       "\t93 & 0\\\\\n",
       "\t... & ...\\\\\n",
       "\t185 & 0\\\\\n",
       "\t186 & 0\\\\\n",
       "\t187 & 0\\\\\n",
       "\t188 & 0\\\\\n",
       "\t191 & 0\\\\\n",
       "\t193 & 0\\\\\n",
       "\t197 & 0\\\\\n",
       "\t199 & 0\\\\\n",
       "\t200 & 0\\\\\n",
       "\t203 & 1\\\\\n",
       "\t204 & 0\\\\\n",
       "\t209 & 0\\\\\n",
       "\t210 & 0\\\\\n",
       "\t211 & 0\\\\\n",
       "\t213 & 0\\\\\n",
       "\t219 & 0\\\\\n",
       "\t225 & 0\\\\\n",
       "\t227 & 0\\\\\n",
       "\t230 & 0\\\\\n",
       "\t231 & 0\\\\\n",
       "\t232 & 0\\\\\n",
       "\t233 & 0\\\\\n",
       "\t236 & 0\\\\\n",
       "\t237 & 0\\\\\n",
       "\t243 & 0\\\\\n",
       "\t244 & 0\\\\\n",
       "\t249 & 0\\\\\n",
       "\t255 & 0\\\\\n",
       "\t259 & 0\\\\\n",
       "\t262 & 0\\\\\n",
       "\\end{tabular}\n"
      ],
      "text/markdown": [
       "\n",
       "| 1 | 0 | \n",
       "| 4 | 0 | \n",
       "| 5 | 0 | \n",
       "| 14 | 0 | \n",
       "| 17 | 0 | \n",
       "| 21 | 0 | \n",
       "| 25 | 0 | \n",
       "| 28 | 0 | \n",
       "| 30 | 0 | \n",
       "| 34 | 0 | \n",
       "| 36 | 0 | \n",
       "| 38 | 0 | \n",
       "| 41 | 0 | \n",
       "| 42 | 0 | \n",
       "| 48 | 0 | \n",
       "| 55 | 0 | \n",
       "| 56 | 0 | \n",
       "| 59 | 0 | \n",
       "| 64 | 0 | \n",
       "| 68 | 0 | \n",
       "| 69 | 0 | \n",
       "| 73 | 0 | \n",
       "| 75 | 0 | \n",
       "| 77 | 0 | \n",
       "| 79 | 0 | \n",
       "| 82 | 1 | \n",
       "| 83 | 0 | \n",
       "| 86 | 1 | \n",
       "| 91 | 0 | \n",
       "| 93 | 0 | \n",
       "| ... | ... | \n",
       "| 185 | 0 | \n",
       "| 186 | 0 | \n",
       "| 187 | 0 | \n",
       "| 188 | 0 | \n",
       "| 191 | 0 | \n",
       "| 193 | 0 | \n",
       "| 197 | 0 | \n",
       "| 199 | 0 | \n",
       "| 200 | 0 | \n",
       "| 203 | 1 | \n",
       "| 204 | 0 | \n",
       "| 209 | 0 | \n",
       "| 210 | 0 | \n",
       "| 211 | 0 | \n",
       "| 213 | 0 | \n",
       "| 219 | 0 | \n",
       "| 225 | 0 | \n",
       "| 227 | 0 | \n",
       "| 230 | 0 | \n",
       "| 231 | 0 | \n",
       "| 232 | 0 | \n",
       "| 233 | 0 | \n",
       "| 236 | 0 | \n",
       "| 237 | 0 | \n",
       "| 243 | 0 | \n",
       "| 244 | 0 | \n",
       "| 249 | 0 | \n",
       "| 255 | 0 | \n",
       "| 259 | 0 | \n",
       "| 262 | 0 | \n",
       "\n",
       "\n"
      ],
      "text/plain": [
       "    [,1]\n",
       "1   0   \n",
       "4   0   \n",
       "5   0   \n",
       "14  0   \n",
       "17  0   \n",
       "21  0   \n",
       "25  0   \n",
       "28  0   \n",
       "30  0   \n",
       "34  0   \n",
       "36  0   \n",
       "38  0   \n",
       "41  0   \n",
       "42  0   \n",
       "48  0   \n",
       "55  0   \n",
       "56  0   \n",
       "59  0   \n",
       "64  0   \n",
       "68  0   \n",
       "69  0   \n",
       "73  0   \n",
       "75  0   \n",
       "77  0   \n",
       "79  0   \n",
       "82  1   \n",
       "83  0   \n",
       "86  1   \n",
       "91  0   \n",
       "93  0   \n",
       "... ... \n",
       "185 0   \n",
       "186 0   \n",
       "187 0   \n",
       "188 0   \n",
       "191 0   \n",
       "193 0   \n",
       "197 0   \n",
       "199 0   \n",
       "200 0   \n",
       "203 1   \n",
       "204 0   \n",
       "209 0   \n",
       "210 0   \n",
       "211 0   \n",
       "213 0   \n",
       "219 0   \n",
       "225 0   \n",
       "227 0   \n",
       "230 0   \n",
       "231 0   \n",
       "232 0   \n",
       "233 0   \n",
       "236 0   \n",
       "237 0   \n",
       "243 0   \n",
       "244 0   \n",
       "249 0   \n",
       "255 0   \n",
       "259 0   \n",
       "262 0   "
      ]
     },
     "metadata": {},
     "output_type": "display_data"
    },
    {
     "data": {
      "text/plain": [
       "   \n",
       "    -0.156367335245968 -0.156354142241014 -0.156228659980041 -0.156044511053094\n",
       "  0                  1                  1                  1                  1\n",
       "  1                  0                  0                  0                  0\n",
       "   \n",
       "    -0.0928600267880881 -0.0869957601350327 0.0841426051277978\n",
       "  0                   1                   1                  1\n",
       "  1                   0                   0                  0\n",
       "   \n",
       "    0.0841426051478794 0.0841426051478802 0.084142605147881 0.0841426051782679\n",
       "  0                 15                  1                 1                  1\n",
       "  1                  3                  0                 0                  0\n",
       "   \n",
       "    0.0841428541681144 0.0841433908158011 0.0841511058702449 0.0844757235893243\n",
       "  0                  1                  0                  1                  1\n",
       "  1                  0                  1                  0                  0\n",
       "   \n",
       "    0.084992710207473 0.0925382896231067 0.115906934585631 0.143759866369901\n",
       "  0                 1                  0                 0                 0\n",
       "  1                 0                  1                 1                 1\n",
       "   \n",
       "    0.144648887321351 0.144651766418101 0.144651794027392 0.144651794033514\n",
       "  0                 1                 1                 1                 1\n",
       "  1                 0                 0                 3                 0\n",
       "   \n",
       "    0.145856110711237 0.147174226230749 0.170750135789001 0.223454541549396\n",
       "  0                 1                 1                 1                 1\n",
       "  1                 0                 0                 0                 0\n",
       "   \n",
       "    0.269923178117897 0.321654856145555 0.321655208471721 0.381805830048992\n",
       "  0                 1                 1                 1                 1\n",
       "  1                 0                 0                 0                 0\n",
       "   \n",
       "    0.382859655740798 0.383780039015822 0.385161706708297 0.385161754364563\n",
       "  0                 1                 1                 1                 1\n",
       "  1                 0                 0                 0                 0\n",
       "   \n",
       "    0.385161754395582 0.385161754400513 0.385161754400563 0.385161754400578\n",
       "  0                 0                 1                 1                 5\n",
       "  1                 1                 0                 0                 4\n",
       "   \n",
       "    0.404035174931178 0.481470831184262 0.481481277207709 0.578332240827632\n",
       "  0                 1                 1                 3                 1\n",
       "  1                 0                 0                 3                 0\n",
       "   \n",
       "    0.617130642402037 0.622674005398254 0.743048425770128\n",
       "  0                 0                 1                 1\n",
       "  1                 1                 0                 0"
      ]
     },
     "metadata": {},
     "output_type": "display_data"
    }
   ],
   "source": [
    "data=ifelse(predicciones.red$net.result >= 0.5,1,0)\n",
    "data\n",
    "table(prueba$Team_Value, predicciones.red$net.result)"
   ]
  },
  {
   "cell_type": "code",
   "execution_count": 30,
   "metadata": {},
   "outputs": [
    {
     "data": {
      "text/html": [
       "0.658333333333333"
      ],
      "text/latex": [
       "0.658333333333333"
      ],
      "text/markdown": [
       "0.658333333333333"
      ],
      "text/plain": [
       "[1] 0.6583333333"
      ]
     },
     "metadata": {},
     "output_type": "display_data"
    }
   ],
   "source": [
    "prediccionROC.red <- prediction(predicciones.red$net.result, prueba$Team_Value)\n",
    "as.numeric(performance(prediccionROC.red, \"auc\")@y.values)"
   ]
  },
  {
   "cell_type": "code",
   "execution_count": null,
   "metadata": {},
   "outputs": [],
   "source": [
    "## Conclusión"
   ]
  },
  {
   "cell_type": "code",
   "execution_count": null,
   "metadata": {},
   "outputs": [],
   "source": []
  }
 ],
 "metadata": {
  "kernelspec": {
   "display_name": "R",
   "language": "R",
   "name": "ir"
  },
  "language_info": {
   "codemirror_mode": "r",
   "file_extension": ".r",
   "mimetype": "text/x-r-source",
   "name": "R",
   "pygments_lexer": "r",
   "version": "3.5.1"
  }
 },
 "nbformat": 4,
 "nbformat_minor": 2
}
