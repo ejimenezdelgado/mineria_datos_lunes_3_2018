{
 "cells": [
  {
   "cell_type": "markdown",
   "metadata": {},
   "source": [
    "# Regresión Lineal Múltiple\n",
    "Los modelos lineales son una de las herramientas más importantes del análisis cuantitativo. Los utilizamos cuando queremos predecir –o explicar– una variable dependiente a partir de una o más variables independientes. El uso mismo de la terminología de variables dependientes e independientes nos da una pista del abordaje: el ajuste de modelos lineales busca encontrar una función –en el sentido matemático– que nos permite expresar a una variable a partir de otras.\n",
    "\n",
    "### Autores\n",
    "   * Efrén Jiménez\n",
    "\n",
    "## Análisis del Problema\n",
    "El desempeño de un automóvil se puede medir de diferentes formas. Algunas comunes son la cantidad de caballos de fuerza y el rendimiento del mismo, que se puede resumir en cuantas millas puede recorrer el automóvil por cada galón de combustible que consume. Para los clientes, potenciales compradores de un automóvil, este rendimiento es importante pues puede ayudar a tomar una decisión con respecto a cuál automóvil comprar (si, por ejemplo, el cliente quiere un auto que rinda por muchas millas y pueda economizar en la compra de combustible).\n",
    "\n",
    "Desde este punto de vista, tanto a clientes como a fabricadores de automóviles, les conviene entender cuál es la relación entre diferentes características del automóvil y su rendimiento, pues el conocer estas relaciones les puede ayudar a inferir cuál va a ser la eficiencia del vehículo a partir de ver los valores de otras características. Para fabricantes, puede ser importante conocer estas relaciones para saber cómo hacer cada modelo más eficiente con respecto al anterior."
   ]
  },
  {
   "cell_type": "markdown",
   "metadata": {},
   "source": [
    "## Entendimiento de los Datos\n",
    "\n",
    "Con el fin de analizar y tratar de estimar las millas por galón de diferentes modelos de automóviles, se trabajó con un conjunto de datos que contiene 398 observaciones y 9 variables:\n",
    "\n",
    "- mpg (millas por galón): numérica, con un rango de 9 a 46.60.\n",
    "- cyl (cilindraje): categórica ordinal, con valores posibles de 3, 4, 5, 6 y 8.\n",
    "- disp (desplazamiento): numérica, con un rango de 68 a 455.\n",
    "- hp (caballos de fuerza): numérica, con un rango de 46 a 230 y 6 valores faltantes.\n",
    "- weight (peso): numérica, con un rango de 1613 a 5140.\n",
    "- acc (aceleración): numérica, con un rango de 8 a 24.80.\n",
    "- model year (año): categórica, con 13 valores diferentes representando el año del automóvil.\n",
    "- origin (origen): categórica, 3 valores posibles: 1, 2, 3.\n",
    "- model name (nombre del modelo): categórica, con 305 posibles valores."
   ]
  },
  {
   "cell_type": "markdown",
   "metadata": {},
   "source": [
    "## Exploración de los Datos"
   ]
  },
  {
   "cell_type": "code",
   "execution_count": 5,
   "metadata": {},
   "outputs": [
    {
     "name": "stdout",
     "output_type": "stream",
     "text": [
      "'data.frame':\t398 obs. of  6 variables:\n",
      " $ mpg   : num  18 15 18 16 17 15 14 14 14 15 ...\n",
      " $ cyl   : Factor w/ 5 levels \" 3\",\" 4\",\" 5\",..: 5 5 5 5 5 5 5 5 5 5 ...\n",
      " $ disp  : num  307 350 318 304 302 429 454 440 455 390 ...\n",
      " $ hp    : num  130 165 150 150 140 198 220 215 225 190 ...\n",
      " $ weight: num  3504 3693 3436 3433 3449 ...\n",
      " $ acc   : num  12 11.5 11 12 10.5 10 9 8.5 10 8.5 ...\n"
     ]
    }
   ],
   "source": [
    "#librerías utilizadas\n",
    "library(caTools)\n",
    "library(ggplot2)\n",
    "#Evitar mostrar warning messages\n",
    "options(warn=-1)\n",
    "\n",
    "#establezca el directorio de trabajo\n",
    "#En caso de que el sitio este en algún directorio de la maquina\n",
    "#setwd('auto-mpg.txt')\n",
    "\n",
    "#cargue el archivo a una variable que se llame autos usando la función read.table\n",
    "autos <- read.csv('auto-mpg.txt', header = F, na.strings = '?')\n",
    "autos <- data.frame(do.call('rbind', strsplit(as.character(autos$V1),'  ',fixed=TRUE)))\n",
    "\n",
    "colnames(autos) <- c('mpg', 'cyl', 'disp', 'hp', 'weight', 'acc', 'model.year', \n",
    "                     'origin', 'model.name')\n",
    "autos<-autos[,1:6]\n",
    "#cambiar las variables que corresponden a numéricas\n",
    "autos$mpg <- as.numeric(as.character(autos$mpg))\n",
    "autos$disp <- as.numeric(as.character(autos$disp))\n",
    "autos$hp <- as.numeric(as.character(autos$hp))\n",
    "autos$weight <- as.numeric(as.character(autos$weight))\n",
    "autos$acc <- as.numeric(as.character(autos$acc))\n",
    "\n",
    "#Utilice la función str() para ver la estructura del conjunto de datos:\n",
    "str(autos)\n",
    "\n",
    "#Dividir el conjunto de datos en uno de entrenamiento y otro de pruebas:\n",
    "set.seed(1376)\n",
    "splt <- sample.split(autos$mpg, SplitRatio = 0.7)\n",
    "autos.entrenamiento <- autos[splt, ]\n",
    "autos.prueba <- autos[!splt, ]\n"
   ]
  },
  {
   "cell_type": "markdown",
   "metadata": {},
   "source": [
    ">Es importante siempre validar los rangos de los conjuntos de datos creados, para evitar caer en extrapolación:"
   ]
  },
  {
   "cell_type": "code",
   "execution_count": 6,
   "metadata": {},
   "outputs": [
    {
     "name": "stdout",
     "output_type": "stream",
     "text": [
      "[1] \".................................Entrenamiento..................................\"\n"
     ]
    },
    {
     "data": {
      "text/plain": [
       "      mpg        cyl           disp             hp            weight    \n",
       " Min.   : 9.00    3:  3   Min.   : 70.0   Min.   : 46.0   Min.   :1613  \n",
       " 1st Qu.:17.50    4:155   1st Qu.: 98.0   1st Qu.: 75.0   1st Qu.:2220  \n",
       " Median :23.00    5:  2   Median :144.0   Median : 92.0   Median :2774  \n",
       " Mean   :23.88    6: 63   Mean   :188.7   Mean   :103.4   Mean   :2943  \n",
       " 3rd Qu.:29.80    8: 70   3rd Qu.:250.0   3rd Qu.:120.5   3rd Qu.:3465  \n",
       " Max.   :46.60            Max.   :455.0   Max.   :230.0   Max.   :5140  \n",
       "                                          NA's   :5                     \n",
       "      acc       \n",
       " Min.   : 8.00  \n",
       " 1st Qu.:13.90  \n",
       " Median :15.50  \n",
       " Mean   :15.65  \n",
       " 3rd Qu.:17.30  \n",
       " Max.   :24.60  \n",
       "                "
      ]
     },
     "metadata": {},
     "output_type": "display_data"
    },
    {
     "name": "stdout",
     "output_type": "stream",
     "text": [
      "[1] \".................................Pruebas........................................\"\n"
     ]
    },
    {
     "data": {
      "text/plain": [
       "      mpg       cyl          disp             hp            weight    \n",
       " Min.   :10.0    3: 1   Min.   : 68.0   Min.   : 49.0   Min.   :1649  \n",
       " 1st Qu.:16.5    4:49   1st Qu.:108.0   1st Qu.: 78.0   1st Qu.:2265  \n",
       " Median :21.5    5: 1   Median :199.0   Median : 96.5   Median :2945  \n",
       " Mean   :22.5    6:21   Mean   :206.7   Mean   :107.4   Mean   :3047  \n",
       " 3rd Qu.:28.0    8:33   3rd Qu.:302.0   3rd Qu.:130.0   3rd Qu.:3725  \n",
       " Max.   :38.0           Max.   :455.0   Max.   :225.0   Max.   :4906  \n",
       "                                        NA's   :1                     \n",
       "      acc       \n",
       " Min.   : 8.50  \n",
       " 1st Qu.:13.50  \n",
       " Median :15.10  \n",
       " Mean   :15.34  \n",
       " 3rd Qu.:16.80  \n",
       " Max.   :24.80  \n",
       "                "
      ]
     },
     "metadata": {},
     "output_type": "display_data"
    }
   ],
   "source": [
    "print(\".................................Entrenamiento..................................\")\n",
    "summary(autos.entrenamiento)\n",
    "print(\".................................Pruebas........................................\")\n",
    "summary(autos.prueba)"
   ]
  },
  {
   "cell_type": "markdown",
   "metadata": {},
   "source": [
    "De acuerdo con los resúmenes anteriores, hay algunas observaciones en el conjunto de datos de prueba cuyo rango de las variables disp y weight se extiende más allá del rango en el conjunto de datos de entrenamiento, así que vamos a eliminar esas observaciones del conjunto de datos de prueba."
   ]
  },
  {
   "cell_type": "code",
   "execution_count": 7,
   "metadata": {},
   "outputs": [
    {
     "name": "stdout",
     "output_type": "stream",
     "text": [
      "[1] \"Eliminar datos fuera de rango\"\n",
      "[1] \".................................Entrenamiento..................................\"\n"
     ]
    },
    {
     "data": {
      "text/plain": [
       "      mpg        cyl           disp             hp            weight    \n",
       " Min.   : 9.00    3:  3   Min.   : 70.0   Min.   : 46.0   Min.   :1613  \n",
       " 1st Qu.:17.50    4:155   1st Qu.: 98.0   1st Qu.: 75.0   1st Qu.:2220  \n",
       " Median :23.00    5:  2   Median :144.0   Median : 92.0   Median :2774  \n",
       " Mean   :23.88    6: 63   Mean   :188.7   Mean   :103.4   Mean   :2943  \n",
       " 3rd Qu.:29.80    8: 70   3rd Qu.:250.0   3rd Qu.:120.5   3rd Qu.:3465  \n",
       " Max.   :46.60            Max.   :455.0   Max.   :230.0   Max.   :5140  \n",
       "                                          NA's   :5                     \n",
       "      acc       \n",
       " Min.   : 8.00  \n",
       " 1st Qu.:13.90  \n",
       " Median :15.50  \n",
       " Mean   :15.65  \n",
       " 3rd Qu.:17.30  \n",
       " Max.   :24.60  \n",
       "                "
      ]
     },
     "metadata": {},
     "output_type": "display_data"
    },
    {
     "name": "stdout",
     "output_type": "stream",
     "text": [
      "[1] \".................................Pruebas........................................\"\n"
     ]
    },
    {
     "data": {
      "text/plain": [
       "      mpg        cyl          disp             hp          weight    \n",
       " Min.   :10.00    3: 1   Min.   : 71.0   Min.   : 52   Min.   :1649  \n",
       " 1st Qu.:16.38    4:48   1st Qu.:111.0   1st Qu.: 79   1st Qu.:2275  \n",
       " Median :21.25    5: 1   Median :199.5   Median : 97   Median :2945  \n",
       " Mean   :22.43    6:21   Mean   :208.0   Mean   :108   Mean   :3059  \n",
       " 3rd Qu.:27.40    8:33   3rd Qu.:302.5   3rd Qu.:130   3rd Qu.:3726  \n",
       " Max.   :38.00           Max.   :455.0   Max.   :225   Max.   :4906  \n",
       "                                         NA's   :1                   \n",
       "      acc       \n",
       " Min.   : 8.50  \n",
       " 1st Qu.:13.50  \n",
       " Median :15.10  \n",
       " Mean   :15.30  \n",
       " 3rd Qu.:16.65  \n",
       " Max.   :24.80  \n",
       "                "
      ]
     },
     "metadata": {},
     "output_type": "display_data"
    }
   ],
   "source": [
    "print(\"Eliminar datos fuera de rango\")\n",
    "autos.prueba <- autos.prueba[autos.prueba$weight >= 1649 & autos.prueba$disp >= 70, ]\n",
    "print(\".................................Entrenamiento..................................\")\n",
    "summary(autos.entrenamiento)\n",
    "print(\".................................Pruebas........................................\")\n",
    "summary(autos.prueba)"
   ]
  },
  {
   "cell_type": "markdown",
   "metadata": {},
   "source": [
    "En total, se eliminaron 2 observaciones."
   ]
  },
  {
   "cell_type": "markdown",
   "metadata": {},
   "source": [
    "Para trabajar con regresiones lineales, es importante trabajar solo con variables cuantitativas y estudiar las relaciones que hay entre ellas. Con esto en mente, podemos comenzar nuestra exploración creando gráficos de dispersión para ver cuál es la relación entre nuestra variable de interés (mpg) y el resto de las variables cuantitativas:"
   ]
  },
  {
   "cell_type": "code",
   "execution_count": 8,
   "metadata": {},
   "outputs": [
    {
     "data": {
      "image/png": "[encoded data removed]",
      "text/plain": [
       "Plot with title \" Relación entre mpg y acc\""
      ]
     },
     "metadata": {},
     "output_type": "display_data"
    }
   ],
   "source": [
    "par(mfrow = c(2,2)) #crear una cuadrícula de 2 columnas y 2 hileras para ver cuatro gráficos.\n",
    "\n",
    "plot(x = autos.entrenamiento$disp, y = autos.entrenamiento$mpg, main = 'Relación entre mpg y disp', ylab = 'mpg', xlab = 'disp')\n",
    "plot(x = autos.entrenamiento$hp, y = autos.entrenamiento$mpg, main = ' Relación entre mpg y hp', ylab = 'mpg', xlab = 'hp')\n",
    "plot(x = autos.entrenamiento$weight, y = autos.entrenamiento$mpg, main = ' Relación entre mpg y weight', ylab = 'mpg', xlab = 'weight')\n",
    "plot(x = autos.entrenamiento$acc, y = autos.entrenamiento$mpg, main = ' Relación entre mpg y acc', ylab = 'mpg', xlab = 'acc')"
   ]
  },
  {
   "cell_type": "markdown",
   "metadata": {},
   "source": [
    "En los gráficos creados anteriormente, podemos ver como si existe algún tipo de relación, aunque no sea exactamente lineal, entre mpg y las otras cuatro variables cuantitativas. De estas cuatro variables, la que parece tener menor relación es la variable acc con la variable mpg."
   ]
  },
  {
   "cell_type": "markdown",
   "metadata": {},
   "source": [
    "También es importante visualizar la relación entre las diferentes variables predictoras, para lo cual podemos crear una matriz de gráficos de dispersión:"
   ]
  },
  {
   "cell_type": "code",
   "execution_count": 9,
   "metadata": {},
   "outputs": [
    {
     "data": {
      "image/png": "[encoded data removed]",
      "text/plain": [
       "plot without title"
      ]
     },
     "metadata": {},
     "output_type": "display_data"
    }
   ],
   "source": [
    "par(mfrow = c(1,1)) #volver a solo un gráfico por visualización.\n",
    "\n",
    "pairs(autos.entrenamiento[!is.na(autos$hp), c(1,3,4,5,6)], main = 'Relación entre predictores')"
   ]
  },
  {
   "cell_type": "markdown",
   "metadata": {},
   "source": [
    "La información del gráfico anterior podemos complementarla con una matriz de correlación:"
   ]
  },
  {
   "cell_type": "code",
   "execution_count": 10,
   "metadata": {},
   "outputs": [
    {
     "data": {
      "text/html": [
       "<table>\n",
       "<thead><tr><th></th><th scope=col>mpg</th><th scope=col>disp</th><th scope=col>hp</th><th scope=col>weight</th><th scope=col>acc</th></tr></thead>\n",
       "<tbody>\n",
       "\t<tr><th scope=row>mpg</th><td> 1.0000000</td><td>-0.7933915</td><td>-0.7728878</td><td>-0.8228879</td><td> 0.4175971</td></tr>\n",
       "\t<tr><th scope=row>disp</th><td>-0.7933915</td><td> 1.0000000</td><td> 0.8970014</td><td> 0.9294049</td><td>-0.5490654</td></tr>\n",
       "\t<tr><th scope=row>hp</th><td>-0.7728878</td><td> 0.8970014</td><td> 1.0000000</td><td> 0.8613336</td><td>-0.6944240</td></tr>\n",
       "\t<tr><th scope=row>weight</th><td>-0.8228879</td><td> 0.9294049</td><td> 0.8613336</td><td> 1.0000000</td><td>-0.4197444</td></tr>\n",
       "\t<tr><th scope=row>acc</th><td> 0.4175971</td><td>-0.5490654</td><td>-0.6944240</td><td>-0.4197444</td><td> 1.0000000</td></tr>\n",
       "</tbody>\n",
       "</table>\n"
      ],
      "text/latex": [
       "\\begin{tabular}{r|lllll}\n",
       "  & mpg & disp & hp & weight & acc\\\\\n",
       "\\hline\n",
       "\tmpg &  1.0000000 & -0.7933915 & -0.7728878 & -0.8228879 &  0.4175971\\\\\n",
       "\tdisp & -0.7933915 &  1.0000000 &  0.8970014 &  0.9294049 & -0.5490654\\\\\n",
       "\thp & -0.7728878 &  0.8970014 &  1.0000000 &  0.8613336 & -0.6944240\\\\\n",
       "\tweight & -0.8228879 &  0.9294049 &  0.8613336 &  1.0000000 & -0.4197444\\\\\n",
       "\tacc &  0.4175971 & -0.5490654 & -0.6944240 & -0.4197444 &  1.0000000\\\\\n",
       "\\end{tabular}\n"
      ],
      "text/markdown": [
       "\n",
       "| <!--/--> | mpg | disp | hp | weight | acc | \n",
       "|---|---|---|---|---|\n",
       "| mpg |  1.0000000 | -0.7933915 | -0.7728878 | -0.8228879 |  0.4175971 | \n",
       "| disp | -0.7933915 |  1.0000000 |  0.8970014 |  0.9294049 | -0.5490654 | \n",
       "| hp | -0.7728878 |  0.8970014 |  1.0000000 |  0.8613336 | -0.6944240 | \n",
       "| weight | -0.8228879 |  0.9294049 |  0.8613336 |  1.0000000 | -0.4197444 | \n",
       "| acc |  0.4175971 | -0.5490654 | -0.6944240 | -0.4197444 |  1.0000000 | \n",
       "\n",
       "\n"
      ],
      "text/plain": [
       "       mpg        disp       hp         weight     acc       \n",
       "mpg     1.0000000 -0.7933915 -0.7728878 -0.8228879  0.4175971\n",
       "disp   -0.7933915  1.0000000  0.8970014  0.9294049 -0.5490654\n",
       "hp     -0.7728878  0.8970014  1.0000000  0.8613336 -0.6944240\n",
       "weight -0.8228879  0.9294049  0.8613336  1.0000000 -0.4197444\n",
       "acc     0.4175971 -0.5490654 -0.6944240 -0.4197444  1.0000000"
      ]
     },
     "metadata": {},
     "output_type": "display_data"
    }
   ],
   "source": [
    "cor(autos.entrenamiento[!is.na(autos.entrenamiento$hp),c(1,3,4,5,6)])"
   ]
  },
  {
   "cell_type": "markdown",
   "metadata": {},
   "source": [
    "Como pudimos apreciar en la matriz de gráficos de dispersión, y confirmar con la matriz de correlación, hay una correlación significativa entre los variables hp y disp, disp y weight y hp y weight. La unica variable que no tiene una correlación absoluta mayor a 0.75 es acc. Dado esto, debemos escoger una variable entre hp, disp y weight, para lo cual podemos crear una matriz de correlación entre esas tres variables y mpg para ver cuál tiene una correlación mayor con mpg:"
   ]
  },
  {
   "cell_type": "code",
   "execution_count": 11,
   "metadata": {
    "scrolled": true
   },
   "outputs": [
    {
     "data": {
      "text/html": [
       "<table>\n",
       "<thead><tr><th></th><th scope=col>mpg</th><th scope=col>disp</th><th scope=col>hp</th><th scope=col>weight</th><th scope=col>acc</th></tr></thead>\n",
       "<tbody>\n",
       "\t<tr><th scope=row>mpg</th><td> 1.0000000</td><td>-0.7933915</td><td>-0.7728878</td><td>-0.8228879</td><td> 0.4175971</td></tr>\n",
       "\t<tr><th scope=row>disp</th><td>-0.7933915</td><td> 1.0000000</td><td> 0.8970014</td><td> 0.9294049</td><td>-0.5490654</td></tr>\n",
       "\t<tr><th scope=row>hp</th><td>-0.7728878</td><td> 0.8970014</td><td> 1.0000000</td><td> 0.8613336</td><td>-0.6944240</td></tr>\n",
       "\t<tr><th scope=row>weight</th><td>-0.8228879</td><td> 0.9294049</td><td> 0.8613336</td><td> 1.0000000</td><td>-0.4197444</td></tr>\n",
       "\t<tr><th scope=row>acc</th><td> 0.4175971</td><td>-0.5490654</td><td>-0.6944240</td><td>-0.4197444</td><td> 1.0000000</td></tr>\n",
       "</tbody>\n",
       "</table>\n"
      ],
      "text/latex": [
       "\\begin{tabular}{r|lllll}\n",
       "  & mpg & disp & hp & weight & acc\\\\\n",
       "\\hline\n",
       "\tmpg &  1.0000000 & -0.7933915 & -0.7728878 & -0.8228879 &  0.4175971\\\\\n",
       "\tdisp & -0.7933915 &  1.0000000 &  0.8970014 &  0.9294049 & -0.5490654\\\\\n",
       "\thp & -0.7728878 &  0.8970014 &  1.0000000 &  0.8613336 & -0.6944240\\\\\n",
       "\tweight & -0.8228879 &  0.9294049 &  0.8613336 &  1.0000000 & -0.4197444\\\\\n",
       "\tacc &  0.4175971 & -0.5490654 & -0.6944240 & -0.4197444 &  1.0000000\\\\\n",
       "\\end{tabular}\n"
      ],
      "text/markdown": [
       "\n",
       "| <!--/--> | mpg | disp | hp | weight | acc | \n",
       "|---|---|---|---|---|\n",
       "| mpg |  1.0000000 | -0.7933915 | -0.7728878 | -0.8228879 |  0.4175971 | \n",
       "| disp | -0.7933915 |  1.0000000 |  0.8970014 |  0.9294049 | -0.5490654 | \n",
       "| hp | -0.7728878 |  0.8970014 |  1.0000000 |  0.8613336 | -0.6944240 | \n",
       "| weight | -0.8228879 |  0.9294049 |  0.8613336 |  1.0000000 | -0.4197444 | \n",
       "| acc |  0.4175971 | -0.5490654 | -0.6944240 | -0.4197444 |  1.0000000 | \n",
       "\n",
       "\n"
      ],
      "text/plain": [
       "       mpg        disp       hp         weight     acc       \n",
       "mpg     1.0000000 -0.7933915 -0.7728878 -0.8228879  0.4175971\n",
       "disp   -0.7933915  1.0000000  0.8970014  0.9294049 -0.5490654\n",
       "hp     -0.7728878  0.8970014  1.0000000  0.8613336 -0.6944240\n",
       "weight -0.8228879  0.9294049  0.8613336  1.0000000 -0.4197444\n",
       "acc     0.4175971 -0.5490654 -0.6944240 -0.4197444  1.0000000"
      ]
     },
     "metadata": {},
     "output_type": "display_data"
    }
   ],
   "source": [
    "cor(autos.entrenamiento[!is.na(autos.entrenamiento$hp),c(1,3,4,5,6)])\n"
   ]
  },
  {
   "cell_type": "markdown",
   "metadata": {},
   "source": [
    "Basándonos en la correlación absoluta, se va a escoger la variable weight para ser incluida en el modelo."
   ]
  },
  {
   "cell_type": "markdown",
   "metadata": {},
   "source": [
    "## Modelo de Minería de Datos"
   ]
  },
  {
   "cell_type": "markdown",
   "metadata": {},
   "source": [
    "Una vez seleccionadas las variables para incluir en el modelo de regresión, se procede a crearlo:"
   ]
  },
  {
   "cell_type": "code",
   "execution_count": 20,
   "metadata": {},
   "outputs": [
    {
     "data": {
      "text/plain": [
       "\n",
       "Call:\n",
       "lm(formula = mpg ~ hp + weight, data = autos.entrenamiento)\n",
       "\n",
       "Residuals:\n",
       "     Min       1Q   Median       3Q      Max \n",
       "-11.3702  -2.9224  -0.4384   2.3626  15.8358 \n",
       "\n",
       "Coefficients:\n",
       "             Estimate Std. Error t value Pr(>|t|)    \n",
       "(Intercept) 46.528888   0.981334  47.414  < 2e-16 ***\n",
       "hp          -0.052484   0.013650  -3.845 0.000149 ***\n",
       "weight      -0.005855   0.000621  -9.427  < 2e-16 ***\n",
       "---\n",
       "Signif. codes:  0 '***' 0.001 '**' 0.01 '*' 0.05 '.' 0.1 ' ' 1\n",
       "\n",
       "Residual standard error: 4.461 on 285 degrees of freedom\n",
       "  (5 observations deleted due to missingness)\n",
       "Multiple R-squared:  0.6931,\tAdjusted R-squared:  0.6909 \n",
       "F-statistic: 321.8 on 2 and 285 DF,  p-value: < 2.2e-16\n"
      ]
     },
     "metadata": {},
     "output_type": "display_data"
    }
   ],
   "source": [
    "reg.mpg <- lm(mpg ~ hp +weight , data = autos.entrenamiento)\n",
    "\n",
    "summary(reg.mpg)"
   ]
  },
  {
   "cell_type": "markdown",
   "metadata": {},
   "source": [
    "* Call: y muestra la formula con la que obtuvimos el modelo. Es útil para evitar confusiones, especialmente si estamos comparando varios modelos a la vez. Podemos saber exactamente a qué variables dependientes e independientes corresponde el sumario.\n",
    "* Residuals: y nos da 5 estadísticos sobre la distribución de los residuos del modelo: valores mínimos, 1er, 2do y 3er cuartil y valor máximo. La media de los residuos siempre es cero, así que es un parámetro de referencia que no aparece en el sumario, pero que nos resulta útil. Si los residuos se distribuyen conforme a una distribución normal deberíamos esperar que la mediana sea 0 o muy cerca de 0, y que el 1er y 3er cuartil sean simétricos. Lo mismo para lo valores mínimos o máximos. Si hay desviaciones notables de media y mediana y no hay simetría entre cuartiles es muy probable que no estemos cumpliendo con algunos de los supuestos de los modelos lineales.\n",
    "* Coefficients: y muestra los coeficientes estimados por el modelo, es decir, los parámetros ocultos β0 y β1 de la ecuación 1. Estas son la ordenada al origen (Intercept) y las pendientes estimadas para cada variable.\n",
    "* Residual se registra el error estandar para la estimación de cada variable, al que podemos interpretar como el promedio de los residuos. A partir del coeficiente estimado y el error estándar se computa un valor t, un estadístico de la divergencia entre el estimado que produce el modelo y un estimado hipotético con valor 0. Cuanto más alto es el valor t mayor la divergencia entre los coeficientes del modelo y el coeficiente igual a cero. \n",
    "* El p-value de la prueba de hipótesis del estadístico t, que indica la probabilidad de obtener un estimado como el que obtuvimos si el coeficiente real fuera 0. Si la probabilidad de este evento es muy baja podemos rechazar la hipótesis de nulidad según la cuál el verdadero estimado es cero. Esto no significa que nuestro modelo sea verdadero, simplemente que es poco verosímil que obtuviéramos estos estimados siendo verdadero que la pendiente es 0. Si el p-value es alto (digamos, mayor que 0.05) no podemos rechazar la hipótesis de nulidad y deberíamos tratar a nuestro estimado como si fuera 0: la pendiente es horizontal, no hay diferencias significativas en los valores de y a medida que varía el valor de x.\n",
    "* El error estándar de los residuos y los valores de R2, múltiple y ajustado. El R^2 de 0.6931 indica el modelo explica un 69.31% de la varianza de la variable dependiente. El resto de la varianza puede atribuirse al azar o a otras variables que no hemos incorporado al modelo.\n",
    "*El estadístico F y el p-value correspondiente. El estadístico F considera a la varianza explicada y la no explicada y es la base de una prueba de hipótesis en la que contrasta a nuestro modelo con uno hipotético en el que las variables no tienen efectos, es decir, con todos los coeficientes iguales a 0. Si el p-value del estadístico F es menor a cierto criterio –usualmente menor que 0.05– podemos rechazar esta hipótesis de nulidad."
   ]
  },
  {
   "cell_type": "markdown",
   "metadata": {},
   "source": [
    "En el resumen del modelo, podemos ver que ambas variables son significativas y que el modelo creado explica alrededor de un 69% de la variación en la variable de respuesta (mpg). Asimismo, podemos ver que el modelo es mejor que un modelo sin variables. Con este modelo, procedemos a hacer las predicciones sobre el conjunto de datos de prueba."
   ]
  },
  {
   "cell_type": "code",
   "execution_count": 14,
   "metadata": {},
   "outputs": [],
   "source": [
    "autos.prueba$Prediccion <- predict(reg.mpg, newdata = autos.prueba)"
   ]
  },
  {
   "cell_type": "markdown",
   "metadata": {},
   "source": [
    "## Evaluación"
   ]
  },
  {
   "cell_type": "markdown",
   "metadata": {},
   "source": [
    "Para determinar qué tan bueno es el modelo, vamos a calcular dos métricas: primero la raíz cuadrada del promedio de los errores cuadrados (RMSE):"
   ]
  },
  {
   "cell_type": "code",
   "execution_count": 15,
   "metadata": {},
   "outputs": [
    {
     "data": {
      "text/html": [
       "3.60834609964103"
      ],
      "text/latex": [
       "3.60834609964103"
      ],
      "text/markdown": [
       "3.60834609964103"
      ],
      "text/plain": [
       "[1] 3.608346"
      ]
     },
     "metadata": {},
     "output_type": "display_data"
    }
   ],
   "source": [
    "sqrt(mean((autos.prueba$mpg - autos.prueba$Prediccion)^2,na.rm=TRUE))"
   ]
  },
  {
   "cell_type": "markdown",
   "metadata": {},
   "source": [
    "Finalmente, procedemos a analizar la distribución de los residuos:"
   ]
  },
  {
   "cell_type": "code",
   "execution_count": 16,
   "metadata": {},
   "outputs": [
    {
     "data": {
      "image/png": "[encoded data removed]",
      "text/plain": [
       "Plot with title \"Distribución de los Residuos en Prueba\""
      ]
     },
     "metadata": {},
     "output_type": "display_data"
    }
   ],
   "source": [
    "hist(autos.prueba$mpg - autos.prueba$Prediccion, \n",
    "     breaks = 50,\n",
    "     main = 'Distribución de los Residuos en Prueba',\n",
    "     xlab = 'residuos')\n"
   ]
  },
  {
   "cell_type": "code",
   "execution_count": 17,
   "metadata": {},
   "outputs": [
    {
     "data": {
      "image/png": "[encoded data removed]",
      "text/plain": [
       "Plot with title \"Distribución de los residuos por mpg\""
      ]
     },
     "metadata": {},
     "output_type": "display_data"
    }
   ],
   "source": [
    "plot(y = autos.prueba$mpg - autos.prueba$Prediccion,\n",
    "     x = autos.prueba$mpg,\n",
    "     main = 'Distribución de los residuos por mpg',\n",
    "     xlab = 'mpg',\n",
    "     ylab = 'residuos')"
   ]
  },
  {
   "cell_type": "markdown",
   "metadata": {},
   "source": [
    "## Resultados\n",
    "De acuerdo con la evaluación hecha, el modelo inicia con muy buenos números: puede explicar cerca de un 70% de la variación de la variable mpg en el conjunto de datos de prueba, y el error promedio es de alrededor de 3 mpg para arriba o para abajo. "
   ]
  },
  {
   "cell_type": "markdown",
   "metadata": {},
   "source": [
    "http://halweb.uc3m.es/esp/Personal/personas/mwiper/docencia/Spanish/Introduction_to_Statistics/intro_regress2.pdf"
   ]
  },
  {
   "cell_type": "code",
   "execution_count": null,
   "metadata": {},
   "outputs": [],
   "source": [
    "reg.mpg <- lm(log(mpg) ~ log(weight)+log(hp) , data = autos.entrenamiento)\n",
    "\n",
    "summary(reg.mpg)"
   ]
  }
 ],
 "metadata": {
  "kernelspec": {
   "display_name": "R",
   "language": "R",
   "name": "ir"
  },
  "language_info": {
   "codemirror_mode": "r",
   "file_extension": ".r",
   "mimetype": "text/x-r-source",
   "name": "R",
   "pygments_lexer": "r",
   "version": "3.3.3"
  }
 },
 "nbformat": 4,
 "nbformat_minor": 2
}
