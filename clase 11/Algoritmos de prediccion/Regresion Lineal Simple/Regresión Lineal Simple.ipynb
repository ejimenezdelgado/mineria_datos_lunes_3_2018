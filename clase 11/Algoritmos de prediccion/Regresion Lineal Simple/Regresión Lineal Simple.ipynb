{
 "cells": [
  {
   "cell_type": "markdown",
   "metadata": {},
   "source": [
    "# Regresión Lineal Simple\n",
    "Los modelos lineales son una de las herramientas más importantes del análisis cuantitativo. Los utilizamos cuando queremos predecir –o explicar– una variable dependiente a partir de una variable independiente. El uso mismo de la terminología de variables dependientes e independientes nos da una pista del abordaje: el ajuste de modelos lineales busca encontrar una función –en el sentido matemático– que nos permite expresar a una variable a partir de otras.\n",
    "\n",
    "### Autores\n",
    "   * Efrén Jiménez"
   ]
  },
  {
   "cell_type": "markdown",
   "metadata": {},
   "source": [
    "## Análisis del Problema\n",
    "Este conjunto de datos contiene precios de venta de casas para el Condado de King, que incluye Seattle. Incluye casas vendidas entre mayo de 2014 y mayo de 2015.\n",
    "\n",
    "Es un gran conjunto de datos para evaluar modelos de regresión simples.\n",
    "\n",
    "![Proceso ROC](img/dataset-cover.jpg)"
   ]
  },
  {
   "cell_type": "markdown",
   "metadata": {},
   "source": [
    "## Entendimiento de los Datos\n",
    "\n",
    "Con el fin de analizar y tratar de predecir el precio de las casas ubicadas en el condado de King, se trabajó con un conjunto de datos que contiene 8273 observaciones y 2 variables:\n",
    "\n",
    "- price (precio): numérica, con un rango de 115000 a 1950000.\n",
    "- sqft_lot (metros cuadrados del lote): numérica, con un rango de 500 a 7730"
   ]
  },
  {
   "cell_type": "code",
   "execution_count": 65,
   "metadata": {},
   "outputs": [
    {
     "name": "stdout",
     "output_type": "stream",
     "text": [
      "[1] \"----------------------------------------------summary---------------------------------------\"\n"
     ]
    },
    {
     "data": {
      "text/plain": [
       "       id                         date          price            bedrooms     \n",
       " Min.   :1.200e+06   20140623T000000:  57   Min.   : 115000   Min.   : 0.000  \n",
       " 1st Qu.:2.155e+09   20140708T000000:  52   1st Qu.: 370000   1st Qu.: 3.000  \n",
       " Median :3.905e+09   20140826T000000:  52   Median : 495000   Median : 3.000  \n",
       " Mean   :4.604e+09   20140718T000000:  51   Mean   : 534373   Mean   : 3.414  \n",
       " 3rd Qu.:7.335e+09   20140709T000000:  50   3rd Qu.: 664963   3rd Qu.: 4.000  \n",
       " Max.   :9.900e+09   20140714T000000:  50   Max.   :1950000   Max.   :10.000  \n",
       "                     (Other)        :7960                                     \n",
       "   bathrooms     sqft_living      sqft_lot           floors     \n",
       " Min.   :0.00   Min.   : 500   Min.   :    520   Min.   :1.000  \n",
       " 1st Qu.:1.75   1st Qu.:1490   1st Qu.:   5350   1st Qu.:1.000  \n",
       " Median :2.25   Median :2010   Median :   7980   Median :1.500  \n",
       " Mean   :2.18   Mean   :2157   Mean   :  17610   Mean   :1.529  \n",
       " 3rd Qu.:2.50   3rd Qu.:2660   3rd Qu.:  11675   3rd Qu.:2.000  \n",
       " Max.   :6.00   Max.   :7730   Max.   :1164794   Max.   :3.500  \n",
       "                                                                \n",
       "   waterfront            view          condition         grade       \n",
       " Min.   :0.000000   Min.   :0.0000   Min.   :1.000   Min.   : 4.000  \n",
       " 1st Qu.:0.000000   1st Qu.:0.0000   1st Qu.:3.000   1st Qu.: 7.000  \n",
       " Median :0.000000   Median :0.0000   Median :3.000   Median : 8.000  \n",
       " Mean   :0.002176   Mean   :0.1875   Mean   :3.376   Mean   : 7.782  \n",
       " 3rd Qu.:0.000000   3rd Qu.:0.0000   3rd Qu.:4.000   3rd Qu.: 8.000  \n",
       " Max.   :1.000000   Max.   :4.0000   Max.   :5.000   Max.   :12.000  \n",
       "                                                                     \n",
       "   sqft_above   sqft_basement       yr_built     yr_renovated    \n",
       " Min.   : 500   Min.   :   0.0   Min.   :1900   Min.   :   0.00  \n",
       " 1st Qu.:1230   1st Qu.:   0.0   1st Qu.:1957   1st Qu.:   0.00  \n",
       " Median :1620   Median :   0.0   Median :1979   Median :   0.00  \n",
       " Mean   :1871   Mean   : 285.5   Mean   :1975   Mean   :  67.04  \n",
       " 3rd Qu.:2360   3rd Qu.: 570.0   3rd Qu.:1999   3rd Qu.:   0.00  \n",
       " Max.   :7420   Max.   :3260.0   Max.   :2015   Max.   :2015.00  \n",
       "                                                                 \n",
       "    zipcode           lat             long        sqft_living15 \n",
       " Min.   :98001   Min.   :47.16   Min.   :-122.5   Min.   : 399  \n",
       " 1st Qu.:98034   1st Qu.:47.53   1st Qu.:-122.3   1st Qu.:1500  \n",
       " Median :98070   Median :47.61   Median :-122.2   Median :1900  \n",
       " Mean   :98077   Mean   :47.61   Mean   :-122.2   Mean   :2051  \n",
       " 3rd Qu.:98118   3rd Qu.:47.71   3rd Qu.:-122.1   3rd Qu.:2470  \n",
       " Max.   :98199   Max.   :47.78   Max.   :-121.3   Max.   :5790  \n",
       "                                                                \n",
       "   sqft_lot15    \n",
       " Min.   :   651  \n",
       " 1st Qu.:  5400  \n",
       " Median :  7971  \n",
       " Mean   : 14875  \n",
       " 3rd Qu.: 10862  \n",
       " Max.   :858132  \n",
       "                 "
      ]
     },
     "metadata": {},
     "output_type": "display_data"
    },
    {
     "name": "stdout",
     "output_type": "stream",
     "text": [
      "[1] \"----------------------------------------------Correlación---------------------------------------\"\n"
     ]
    },
    {
     "data": {
      "text/html": [
       "<table>\n",
       "<thead><tr><th></th><th scope=col>price</th><th scope=col>bedrooms</th><th scope=col>bathrooms</th><th scope=col>sqft_living</th><th scope=col>sqft_lot</th><th scope=col>floors</th><th scope=col>waterfront</th><th scope=col>view</th><th scope=col>condition</th><th scope=col>grade</th><th scope=col>grade.1</th><th scope=col>sqft_above</th><th scope=col>sqft_basement</th><th scope=col>yr_built</th></tr></thead>\n",
       "<tbody>\n",
       "\t<tr><th scope=row>price</th><td> 1.00000000  </td><td> 0.53675314  </td><td> 0.723172051 </td><td> 0.95869475  </td><td> 0.160080479 </td><td> 0.360789982 </td><td> 0.0307858678</td><td> 0.256101647 </td><td>-0.09363403  </td><td> 0.7996554881</td><td> 0.7996554881</td><td> 0.84173621  </td><td> 0.30688518  </td><td> 0.31307036  </td></tr>\n",
       "\t<tr><th scope=row>bedrooms</th><td> 0.53675314  </td><td> 1.00000000  </td><td> 0.491650824 </td><td> 0.57251109  </td><td> 0.021942277 </td><td> 0.151468166 </td><td>-0.0197446572</td><td> 0.095430263 </td><td> 0.02223913  </td><td> 0.3796975679</td><td> 0.3796975679</td><td> 0.45294069  </td><td> 0.28199161  </td><td> 0.10388554  </td></tr>\n",
       "\t<tr><th scope=row>bathrooms</th><td> 0.72317205  </td><td> 0.49165082  </td><td> 1.000000000 </td><td> 0.74295656  </td><td> 0.097241089 </td><td> 0.509105652 </td><td>-0.0043949988</td><td> 0.147481912 </td><td>-0.17253526  </td><td> 0.6810723733</td><td> 0.6810723733</td><td> 0.66509068  </td><td> 0.21246562  </td><td> 0.52852281  </td></tr>\n",
       "\t<tr><th scope=row>sqft_living</th><td> 0.95869475  </td><td> 0.57251109  </td><td> 0.742956565 </td><td> 1.00000000  </td><td> 0.180305665 </td><td> 0.362492648 </td><td> 0.0238426330</td><td> 0.247731728 </td><td>-0.10643148  </td><td> 0.8006153524</td><td> 0.8006153524</td><td> 0.87868822  </td><td> 0.31874547  </td><td> 0.33770405  </td></tr>\n",
       "\t<tr><th scope=row>sqft_lot</th><td> 0.16008048  </td><td> 0.02194228  </td><td> 0.097241089 </td><td> 0.18030567  </td><td> 1.000000000 </td><td>-0.001045608 </td><td> 0.0060149560</td><td> 0.082977043 </td><td>-0.02216250  </td><td> 0.1280836366</td><td> 0.1280836366</td><td> 0.20377183  </td><td>-0.03254689  </td><td> 0.06136310  </td></tr>\n",
       "\t<tr><th scope=row>floors</th><td> 0.36078998  </td><td> 0.15146817  </td><td> 0.509105652 </td><td> 0.36249265  </td><td>-0.001045608 </td><td> 1.000000000 </td><td>-0.0096011497</td><td>-0.003104151 </td><td>-0.31313671  </td><td> 0.4734795613</td><td> 0.4734795613</td><td> 0.53427188  </td><td>-0.31282305  </td><td> 0.54545974  </td></tr>\n",
       "\t<tr><th scope=row>waterfront</th><td> 0.03078587  </td><td>-0.01974466  </td><td>-0.004394999 </td><td> 0.02384263  </td><td> 0.006014956 </td><td>-0.009601150 </td><td> 1.0000000000</td><td> 0.253228280 </td><td> 0.01736526  </td><td>-0.0001575991</td><td>-0.0001575991</td><td> 0.00432122  </td><td> 0.04061562  </td><td>-0.02985629  </td></tr>\n",
       "\t<tr><th scope=row>view</th><td> 0.25610165  </td><td> 0.09543026  </td><td> 0.147481912 </td><td> 0.24773173  </td><td> 0.082977043 </td><td>-0.003104151 </td><td> 0.2532282804</td><td> 1.000000000 </td><td> 0.02640667  </td><td> 0.1694502868</td><td> 0.1694502868</td><td> 0.12452806  </td><td> 0.26390869  </td><td>-0.04215694  </td></tr>\n",
       "\t<tr><th scope=row>condition</th><td>-0.09363403  </td><td> 0.02223913  </td><td>-0.172535264 </td><td>-0.10643148  </td><td>-0.022162502 </td><td>-0.313136712 </td><td> 0.0173652641</td><td> 0.026406672 </td><td> 1.00000000  </td><td>-0.2332493284</td><td>-0.2332493284</td><td>-0.21733185  </td><td> 0.21189604  </td><td>-0.39532174  </td></tr>\n",
       "\t<tr><th scope=row>grade</th><td> 0.79965549  </td><td> 0.37969757  </td><td> 0.681072373 </td><td> 0.80061535  </td><td> 0.128083637 </td><td> 0.473479561 </td><td>-0.0001575991</td><td> 0.169450287 </td><td>-0.23324933  </td><td> 1.0000000000</td><td> 1.0000000000</td><td> 0.80441695  </td><td> 0.05481084  </td><td> 0.53679071  </td></tr>\n",
       "\t<tr><th scope=row>grade.1</th><td> 0.79965549  </td><td> 0.37969757  </td><td> 0.681072373 </td><td> 0.80061535  </td><td> 0.128083637 </td><td> 0.473479561 </td><td>-0.0001575991</td><td> 0.169450287 </td><td>-0.23324933  </td><td> 1.0000000000</td><td> 1.0000000000</td><td> 0.80441695  </td><td> 0.05481084  </td><td> 0.53679071  </td></tr>\n",
       "\t<tr><th scope=row>sqft_above</th><td> 0.84173621  </td><td> 0.45294069  </td><td> 0.665090680 </td><td> 0.87868822  </td><td> 0.203771830 </td><td> 0.534271884 </td><td> 0.0043212201</td><td> 0.124528060 </td><td>-0.21733185  </td><td> 0.8044169549</td><td> 0.8044169549</td><td> 1.00000000  </td><td>-0.17241737  </td><td> 0.46330523  </td></tr>\n",
       "\t<tr><th scope=row>sqft_basement</th><td> 0.30688518  </td><td> 0.28199161  </td><td> 0.212465624 </td><td> 0.31874547  </td><td>-0.032546889 </td><td>-0.312823047 </td><td> 0.0406156221</td><td> 0.263908694 </td><td> 0.21189604  </td><td> 0.0548108385</td><td> 0.0548108385</td><td>-0.17241737  </td><td> 1.00000000  </td><td>-0.22307010  </td></tr>\n",
       "\t<tr><th scope=row>yr_built</th><td> 0.31307036  </td><td> 0.10388554  </td><td> 0.528522807 </td><td> 0.33770405  </td><td> 0.061363100 </td><td> 0.545459735 </td><td>-0.0298562950</td><td>-0.042156940 </td><td>-0.39532174  </td><td> 0.5367907085</td><td> 0.5367907085</td><td> 0.46330523  </td><td>-0.22307010  </td><td> 1.00000000  </td></tr>\n",
       "</tbody>\n",
       "</table>\n"
      ],
      "text/latex": [
       "\\begin{tabular}{r|llllllllllllll}\n",
       "  & price & bedrooms & bathrooms & sqft\\_living & sqft\\_lot & floors & waterfront & view & condition & grade & grade.1 & sqft\\_above & sqft\\_basement & yr\\_built\\\\\n",
       "\\hline\n",
       "\tprice &  1.00000000   &  0.53675314   &  0.723172051  &  0.95869475   &  0.160080479  &  0.360789982  &  0.0307858678 &  0.256101647  & -0.09363403   &  0.7996554881 &  0.7996554881 &  0.84173621   &  0.30688518   &  0.31307036  \\\\\n",
       "\tbedrooms &  0.53675314   &  1.00000000   &  0.491650824  &  0.57251109   &  0.021942277  &  0.151468166  & -0.0197446572 &  0.095430263  &  0.02223913   &  0.3796975679 &  0.3796975679 &  0.45294069   &  0.28199161   &  0.10388554  \\\\\n",
       "\tbathrooms &  0.72317205   &  0.49165082   &  1.000000000  &  0.74295656   &  0.097241089  &  0.509105652  & -0.0043949988 &  0.147481912  & -0.17253526   &  0.6810723733 &  0.6810723733 &  0.66509068   &  0.21246562   &  0.52852281  \\\\\n",
       "\tsqft\\_living &  0.95869475   &  0.57251109   &  0.742956565  &  1.00000000   &  0.180305665  &  0.362492648  &  0.0238426330 &  0.247731728  & -0.10643148   &  0.8006153524 &  0.8006153524 &  0.87868822   &  0.31874547   &  0.33770405  \\\\\n",
       "\tsqft\\_lot &  0.16008048   &  0.02194228   &  0.097241089  &  0.18030567   &  1.000000000  & -0.001045608  &  0.0060149560 &  0.082977043  & -0.02216250   &  0.1280836366 &  0.1280836366 &  0.20377183   & -0.03254689   &  0.06136310  \\\\\n",
       "\tfloors &  0.36078998   &  0.15146817   &  0.509105652  &  0.36249265   & -0.001045608  &  1.000000000  & -0.0096011497 & -0.003104151  & -0.31313671   &  0.4734795613 &  0.4734795613 &  0.53427188   & -0.31282305   &  0.54545974  \\\\\n",
       "\twaterfront &  0.03078587   & -0.01974466   & -0.004394999  &  0.02384263   &  0.006014956  & -0.009601150  &  1.0000000000 &  0.253228280  &  0.01736526   & -0.0001575991 & -0.0001575991 &  0.00432122   &  0.04061562   & -0.02985629  \\\\\n",
       "\tview &  0.25610165   &  0.09543026   &  0.147481912  &  0.24773173   &  0.082977043  & -0.003104151  &  0.2532282804 &  1.000000000  &  0.02640667   &  0.1694502868 &  0.1694502868 &  0.12452806   &  0.26390869   & -0.04215694  \\\\\n",
       "\tcondition & -0.09363403   &  0.02223913   & -0.172535264  & -0.10643148   & -0.022162502  & -0.313136712  &  0.0173652641 &  0.026406672  &  1.00000000   & -0.2332493284 & -0.2332493284 & -0.21733185   &  0.21189604   & -0.39532174  \\\\\n",
       "\tgrade &  0.79965549   &  0.37969757   &  0.681072373  &  0.80061535   &  0.128083637  &  0.473479561  & -0.0001575991 &  0.169450287  & -0.23324933   &  1.0000000000 &  1.0000000000 &  0.80441695   &  0.05481084   &  0.53679071  \\\\\n",
       "\tgrade.1 &  0.79965549   &  0.37969757   &  0.681072373  &  0.80061535   &  0.128083637  &  0.473479561  & -0.0001575991 &  0.169450287  & -0.23324933   &  1.0000000000 &  1.0000000000 &  0.80441695   &  0.05481084   &  0.53679071  \\\\\n",
       "\tsqft\\_above &  0.84173621   &  0.45294069   &  0.665090680  &  0.87868822   &  0.203771830  &  0.534271884  &  0.0043212201 &  0.124528060  & -0.21733185   &  0.8044169549 &  0.8044169549 &  1.00000000   & -0.17241737   &  0.46330523  \\\\\n",
       "\tsqft\\_basement &  0.30688518   &  0.28199161   &  0.212465624  &  0.31874547   & -0.032546889  & -0.312823047  &  0.0406156221 &  0.263908694  &  0.21189604   &  0.0548108385 &  0.0548108385 & -0.17241737   &  1.00000000   & -0.22307010  \\\\\n",
       "\tyr\\_built &  0.31307036   &  0.10388554   &  0.528522807  &  0.33770405   &  0.061363100  &  0.545459735  & -0.0298562950 & -0.042156940  & -0.39532174   &  0.5367907085 &  0.5367907085 &  0.46330523   & -0.22307010   &  1.00000000  \\\\\n",
       "\\end{tabular}\n"
      ],
      "text/markdown": [
       "\n",
       "| <!--/--> | price | bedrooms | bathrooms | sqft_living | sqft_lot | floors | waterfront | view | condition | grade | grade.1 | sqft_above | sqft_basement | yr_built | \n",
       "|---|---|---|---|---|---|---|---|---|---|---|---|---|---|\n",
       "| price |  1.00000000   |  0.53675314   |  0.723172051  |  0.95869475   |  0.160080479  |  0.360789982  |  0.0307858678 |  0.256101647  | -0.09363403   |  0.7996554881 |  0.7996554881 |  0.84173621   |  0.30688518   |  0.31307036   | \n",
       "| bedrooms |  0.53675314   |  1.00000000   |  0.491650824  |  0.57251109   |  0.021942277  |  0.151468166  | -0.0197446572 |  0.095430263  |  0.02223913   |  0.3796975679 |  0.3796975679 |  0.45294069   |  0.28199161   |  0.10388554   | \n",
       "| bathrooms |  0.72317205   |  0.49165082   |  1.000000000  |  0.74295656   |  0.097241089  |  0.509105652  | -0.0043949988 |  0.147481912  | -0.17253526   |  0.6810723733 |  0.6810723733 |  0.66509068   |  0.21246562   |  0.52852281   | \n",
       "| sqft_living |  0.95869475   |  0.57251109   |  0.742956565  |  1.00000000   |  0.180305665  |  0.362492648  |  0.0238426330 |  0.247731728  | -0.10643148   |  0.8006153524 |  0.8006153524 |  0.87868822   |  0.31874547   |  0.33770405   | \n",
       "| sqft_lot |  0.16008048   |  0.02194228   |  0.097241089  |  0.18030567   |  1.000000000  | -0.001045608  |  0.0060149560 |  0.082977043  | -0.02216250   |  0.1280836366 |  0.1280836366 |  0.20377183   | -0.03254689   |  0.06136310   | \n",
       "| floors |  0.36078998   |  0.15146817   |  0.509105652  |  0.36249265   | -0.001045608  |  1.000000000  | -0.0096011497 | -0.003104151  | -0.31313671   |  0.4734795613 |  0.4734795613 |  0.53427188   | -0.31282305   |  0.54545974   | \n",
       "| waterfront |  0.03078587   | -0.01974466   | -0.004394999  |  0.02384263   |  0.006014956  | -0.009601150  |  1.0000000000 |  0.253228280  |  0.01736526   | -0.0001575991 | -0.0001575991 |  0.00432122   |  0.04061562   | -0.02985629   | \n",
       "| view |  0.25610165   |  0.09543026   |  0.147481912  |  0.24773173   |  0.082977043  | -0.003104151  |  0.2532282804 |  1.000000000  |  0.02640667   |  0.1694502868 |  0.1694502868 |  0.12452806   |  0.26390869   | -0.04215694   | \n",
       "| condition | -0.09363403   |  0.02223913   | -0.172535264  | -0.10643148   | -0.022162502  | -0.313136712  |  0.0173652641 |  0.026406672  |  1.00000000   | -0.2332493284 | -0.2332493284 | -0.21733185   |  0.21189604   | -0.39532174   | \n",
       "| grade |  0.79965549   |  0.37969757   |  0.681072373  |  0.80061535   |  0.128083637  |  0.473479561  | -0.0001575991 |  0.169450287  | -0.23324933   |  1.0000000000 |  1.0000000000 |  0.80441695   |  0.05481084   |  0.53679071   | \n",
       "| grade.1 |  0.79965549   |  0.37969757   |  0.681072373  |  0.80061535   |  0.128083637  |  0.473479561  | -0.0001575991 |  0.169450287  | -0.23324933   |  1.0000000000 |  1.0000000000 |  0.80441695   |  0.05481084   |  0.53679071   | \n",
       "| sqft_above |  0.84173621   |  0.45294069   |  0.665090680  |  0.87868822   |  0.203771830  |  0.534271884  |  0.0043212201 |  0.124528060  | -0.21733185   |  0.8044169549 |  0.8044169549 |  1.00000000   | -0.17241737   |  0.46330523   | \n",
       "| sqft_basement |  0.30688518   |  0.28199161   |  0.212465624  |  0.31874547   | -0.032546889  | -0.312823047  |  0.0406156221 |  0.263908694  |  0.21189604   |  0.0548108385 |  0.0548108385 | -0.17241737   |  1.00000000   | -0.22307010   | \n",
       "| yr_built |  0.31307036   |  0.10388554   |  0.528522807  |  0.33770405   |  0.061363100  |  0.545459735  | -0.0298562950 | -0.042156940  | -0.39532174   |  0.5367907085 |  0.5367907085 |  0.46330523   | -0.22307010   |  1.00000000   | \n",
       "\n",
       "\n"
      ],
      "text/plain": [
       "              price       bedrooms    bathrooms    sqft_living sqft_lot    \n",
       "price          1.00000000  0.53675314  0.723172051  0.95869475  0.160080479\n",
       "bedrooms       0.53675314  1.00000000  0.491650824  0.57251109  0.021942277\n",
       "bathrooms      0.72317205  0.49165082  1.000000000  0.74295656  0.097241089\n",
       "sqft_living    0.95869475  0.57251109  0.742956565  1.00000000  0.180305665\n",
       "sqft_lot       0.16008048  0.02194228  0.097241089  0.18030567  1.000000000\n",
       "floors         0.36078998  0.15146817  0.509105652  0.36249265 -0.001045608\n",
       "waterfront     0.03078587 -0.01974466 -0.004394999  0.02384263  0.006014956\n",
       "view           0.25610165  0.09543026  0.147481912  0.24773173  0.082977043\n",
       "condition     -0.09363403  0.02223913 -0.172535264 -0.10643148 -0.022162502\n",
       "grade          0.79965549  0.37969757  0.681072373  0.80061535  0.128083637\n",
       "grade.1        0.79965549  0.37969757  0.681072373  0.80061535  0.128083637\n",
       "sqft_above     0.84173621  0.45294069  0.665090680  0.87868822  0.203771830\n",
       "sqft_basement  0.30688518  0.28199161  0.212465624  0.31874547 -0.032546889\n",
       "yr_built       0.31307036  0.10388554  0.528522807  0.33770405  0.061363100\n",
       "              floors       waterfront    view         condition   grade        \n",
       "price          0.360789982  0.0307858678  0.256101647 -0.09363403  0.7996554881\n",
       "bedrooms       0.151468166 -0.0197446572  0.095430263  0.02223913  0.3796975679\n",
       "bathrooms      0.509105652 -0.0043949988  0.147481912 -0.17253526  0.6810723733\n",
       "sqft_living    0.362492648  0.0238426330  0.247731728 -0.10643148  0.8006153524\n",
       "sqft_lot      -0.001045608  0.0060149560  0.082977043 -0.02216250  0.1280836366\n",
       "floors         1.000000000 -0.0096011497 -0.003104151 -0.31313671  0.4734795613\n",
       "waterfront    -0.009601150  1.0000000000  0.253228280  0.01736526 -0.0001575991\n",
       "view          -0.003104151  0.2532282804  1.000000000  0.02640667  0.1694502868\n",
       "condition     -0.313136712  0.0173652641  0.026406672  1.00000000 -0.2332493284\n",
       "grade          0.473479561 -0.0001575991  0.169450287 -0.23324933  1.0000000000\n",
       "grade.1        0.473479561 -0.0001575991  0.169450287 -0.23324933  1.0000000000\n",
       "sqft_above     0.534271884  0.0043212201  0.124528060 -0.21733185  0.8044169549\n",
       "sqft_basement -0.312823047  0.0406156221  0.263908694  0.21189604  0.0548108385\n",
       "yr_built       0.545459735 -0.0298562950 -0.042156940 -0.39532174  0.5367907085\n",
       "              grade.1       sqft_above  sqft_basement yr_built   \n",
       "price          0.7996554881  0.84173621  0.30688518    0.31307036\n",
       "bedrooms       0.3796975679  0.45294069  0.28199161    0.10388554\n",
       "bathrooms      0.6810723733  0.66509068  0.21246562    0.52852281\n",
       "sqft_living    0.8006153524  0.87868822  0.31874547    0.33770405\n",
       "sqft_lot       0.1280836366  0.20377183 -0.03254689    0.06136310\n",
       "floors         0.4734795613  0.53427188 -0.31282305    0.54545974\n",
       "waterfront    -0.0001575991  0.00432122  0.04061562   -0.02985629\n",
       "view           0.1694502868  0.12452806  0.26390869   -0.04215694\n",
       "condition     -0.2332493284 -0.21733185  0.21189604   -0.39532174\n",
       "grade          1.0000000000  0.80441695  0.05481084    0.53679071\n",
       "grade.1        1.0000000000  0.80441695  0.05481084    0.53679071\n",
       "sqft_above     0.8044169549  1.00000000 -0.17241737    0.46330523\n",
       "sqft_basement  0.0548108385 -0.17241737  1.00000000   -0.22307010\n",
       "yr_built       0.5367907085  0.46330523 -0.22307010    1.00000000"
      ]
     },
     "metadata": {},
     "output_type": "display_data"
    }
   ],
   "source": [
    "casas <- read.csv('kc_house_data.csv', header = T, na.strings = '?')\n",
    "\n",
    "#Utilice la función str() para ver la estructura del conjunto de datos:\n",
    "print(\"----------------------------------------------summary---------------------------------------\")\n",
    "summary(casas)\n",
    "\n",
    "print(\"----------------------------------------------Correlación---------------------------------------\")\n",
    "#Función de correlación\n",
    "cor(casas[,c(3,4,5,6,7,8,9,10,11,12,12,13,14,15)])\n"
   ]
  },
  {
   "cell_type": "markdown",
   "metadata": {},
   "source": [
    "## Exploración de los Datos"
   ]
  },
  {
   "cell_type": "code",
   "execution_count": 66,
   "metadata": {},
   "outputs": [
    {
     "data": {
      "text/plain": [
       "     price          sqft_living  \n",
       " Min.   : 115000   Min.   : 500  \n",
       " 1st Qu.: 370000   1st Qu.:1490  \n",
       " Median : 495000   Median :2010  \n",
       " Mean   : 534373   Mean   :2157  \n",
       " 3rd Qu.: 664963   3rd Qu.:2660  \n",
       " Max.   :1950000   Max.   :7730  "
      ]
     },
     "metadata": {},
     "output_type": "display_data"
    }
   ],
   "source": [
    "#librerías utilizadas\n",
    "library(caTools)\n",
    "\n",
    "#Librería de gráficos\n",
    "library(ggplot2)\n",
    "#Evitar mostrar warning messages\n",
    "options(warn=-1)\n",
    "\n",
    "#establezca el directorio de trabajo\n",
    "#cargue el archivo a una variable que se llame casas usando la función read.csv\n",
    "casas <- read.csv('kc_house_data.csv', header = T, na.strings = '?')\n",
    "\n",
    "#Selecionar \n",
    "casas<-casas[,c(3,6)]\n",
    "\n",
    "#Utilice la función str() para ver la estructura del conjunto de datos:\n",
    "summary(casas)\n",
    "\n",
    "#Dividir el conjunto de datos en uno de entrenamiento y otro de pruebas:\n",
    "set.seed(1376)\n",
    "splt <- sample.split(casas$price, SplitRatio = 0.7)\n",
    "#Entrenamiento\n",
    "casas.entrenamiento <- casas[splt, ]\n",
    "#Prueba\n",
    "casas.prueba <- casas[!splt, ]\n"
   ]
  },
  {
   "cell_type": "markdown",
   "metadata": {},
   "source": [
    ">Es importante siempre validar los rangos de los conjuntos de datos creados, para evitar caer en extrapolación:"
   ]
  },
  {
   "cell_type": "code",
   "execution_count": 67,
   "metadata": {},
   "outputs": [
    {
     "name": "stdout",
     "output_type": "stream",
     "text": [
      "[1] \".................................Entrenamiento..................................\"\n"
     ]
    },
    {
     "data": {
      "text/plain": [
       "     price          sqft_living  \n",
       " Min.   : 115000   Min.   : 500  \n",
       " 1st Qu.: 370028   1st Qu.:1500  \n",
       " Median : 499000   Median :2020  \n",
       " Mean   : 537508   Mean   :2168  \n",
       " 3rd Qu.: 669597   3rd Qu.:2670  \n",
       " Max.   :1950000   Max.   :7730  "
      ]
     },
     "metadata": {},
     "output_type": "display_data"
    },
    {
     "name": "stdout",
     "output_type": "stream",
     "text": [
      "[1] \".................................Pruebas........................................\"\n"
     ]
    },
    {
     "data": {
      "text/plain": [
       "     price          sqft_living  \n",
       " Min.   : 148000   Min.   : 630  \n",
       " 1st Qu.: 370000   1st Qu.:1480  \n",
       " Median : 489450   Median :2000  \n",
       " Mean   : 525654   Mean   :2125  \n",
       " 3rd Qu.: 650000   3rd Qu.:2620  \n",
       " Max.   :1680000   Max.   :7620  "
      ]
     },
     "metadata": {},
     "output_type": "display_data"
    }
   ],
   "source": [
    "print(\".................................Entrenamiento..................................\")\n",
    "summary(casas.entrenamiento)\n",
    "print(\".................................Pruebas........................................\")\n",
    "summary(casas.prueba)"
   ]
  },
  {
   "cell_type": "markdown",
   "metadata": {},
   "source": [
    "De acuerdo con los resúmenes anteriores, las observaciones estan en el rango esperado.\n",
    "###### Se realizara un diagrama de dispersión"
   ]
  },
  {
   "cell_type": "code",
   "execution_count": 68,
   "metadata": {},
   "outputs": [
    {
     "data": {
      "image/png": "[encoded data removed]",
      "text/plain": [
       "Plot with title \"Relación entre Precio y Metros cuadrados\""
      ]
     },
     "metadata": {},
     "output_type": "display_data"
    }
   ],
   "source": [
    "plot(y = casas.entrenamiento$price,x = casas.entrenamiento$sqft_living, main = 'Relación entre Precio y Metros cuadrados', ylab = 'price', xlab = 'sqft_lot')"
   ]
  },
  {
   "cell_type": "markdown",
   "metadata": {},
   "source": [
    "La información del gráfico anterior podemos complementarla con una matriz de correlación:"
   ]
  },
  {
   "cell_type": "code",
   "execution_count": 69,
   "metadata": {},
   "outputs": [
    {
     "data": {
      "text/html": [
       "<table>\n",
       "<thead><tr><th></th><th scope=col>price</th><th scope=col>sqft_living</th></tr></thead>\n",
       "<tbody>\n",
       "\t<tr><th scope=row>price</th><td>1.0000000</td><td>0.9598279</td></tr>\n",
       "\t<tr><th scope=row>sqft_living</th><td>0.9598279</td><td>1.0000000</td></tr>\n",
       "</tbody>\n",
       "</table>\n"
      ],
      "text/latex": [
       "\\begin{tabular}{r|ll}\n",
       "  & price & sqft\\_living\\\\\n",
       "\\hline\n",
       "\tprice & 1.0000000 & 0.9598279\\\\\n",
       "\tsqft\\_living & 0.9598279 & 1.0000000\\\\\n",
       "\\end{tabular}\n"
      ],
      "text/markdown": [
       "\n",
       "| <!--/--> | price | sqft_living | \n",
       "|---|---|\n",
       "| price | 1.0000000 | 0.9598279 | \n",
       "| sqft_living | 0.9598279 | 1.0000000 | \n",
       "\n",
       "\n"
      ],
      "text/plain": [
       "            price     sqft_living\n",
       "price       1.0000000 0.9598279  \n",
       "sqft_living 0.9598279 1.0000000  "
      ]
     },
     "metadata": {},
     "output_type": "display_data"
    }
   ],
   "source": [
    "cor(casas.entrenamiento)"
   ]
  },
  {
   "cell_type": "markdown",
   "metadata": {},
   "source": [
    "### Tipos de relación\n",
    "- -1,00 = Correlación negativa perfecta\n",
    "- -0,90 = Correlación negativa muy fuerte\n",
    "- -0,75 = Correlación negativa considerable\n",
    "- -0,50 = Correlación negativa media\n",
    "- -0,10 = Correlación negativa débil\n",
    "- 0,00  = No existe correlación lineal alguna entre las variables\n",
    "- 0,10  = Correlación positiva débil\n",
    "- 0,50  = Correlación positiva media\n",
    "- 0,75 = Correlación positiva considerable\n",
    "- 0,90  = Correlación positiva muy fuerte\n",
    "- 1,00  = Correlación positiva perfecta"
   ]
  },
  {
   "cell_type": "markdown",
   "metadata": {},
   "source": [
    "### Exiten varios metodos de correlación\n",
    "#### Coeficiente de Pearson"
   ]
  },
  {
   "cell_type": "code",
   "execution_count": 70,
   "metadata": {},
   "outputs": [
    {
     "data": {
      "text/plain": [
       "\n",
       "\tPearson's product-moment correlation\n",
       "\n",
       "data:  casas$price and casas$sqft_living\n",
       "t = 306.51, df = 8270, p-value < 2.2e-16\n",
       "alternative hypothesis: true correlation is not equal to 0\n",
       "95 percent confidence interval:\n",
       " 0.9569145 0.9604030\n",
       "sample estimates:\n",
       "      cor \n",
       "0.9586948 \n"
      ]
     },
     "metadata": {},
     "output_type": "display_data"
    }
   ],
   "source": [
    "cor.test(casas$price,casas$sqft_living, method = \"pearson\")"
   ]
  },
  {
   "cell_type": "markdown",
   "metadata": {},
   "source": [
    "#### Coeficiente de Spearman"
   ]
  },
  {
   "cell_type": "code",
   "execution_count": 71,
   "metadata": {},
   "outputs": [
    {
     "data": {
      "text/plain": [
       "\n",
       "\tSpearman's rank correlation rho\n",
       "\n",
       "data:  casas$price and casas$sqft_living\n",
       "S = 3837400000, p-value < 2.2e-16\n",
       "alternative hypothesis: true rho is not equal to 0\n",
       "sample estimates:\n",
       "      rho \n",
       "0.9593223 \n"
      ]
     },
     "metadata": {},
     "output_type": "display_data"
    }
   ],
   "source": [
    "cor.test(casas$price,casas$sqft_living, method =  \"spearman\")"
   ]
  },
  {
   "cell_type": "markdown",
   "metadata": {},
   "source": [
    "Como se puede apreciar en la matriz de gráficos de dispersión, y confirmar con la matriz de correlación, hay una correlación significativa entre los variables price y sqft_lot"
   ]
  },
  {
   "cell_type": "markdown",
   "metadata": {},
   "source": [
    "## Modelo de Minería de Datos"
   ]
  },
  {
   "cell_type": "markdown",
   "metadata": {},
   "source": [
    "Una vez seleccionadas las variables para incluir en el modelo de regresión, se procede a crearlo:"
   ]
  },
  {
   "cell_type": "code",
   "execution_count": 72,
   "metadata": {},
   "outputs": [
    {
     "data": {
      "text/plain": [
       "\n",
       "Call:\n",
       "lm(formula = price ~ sqft_living, data = casas.entrenamiento)\n",
       "\n",
       "Residuals:\n",
       "    Min      1Q  Median      3Q     Max \n",
       "-259470  -44972   -1142   44278  299118 \n",
       "\n",
       "Coefficients:\n",
       "             Estimate Std. Error t value Pr(>|t|)    \n",
       "(Intercept) 1207.6319  2176.3057   0.555    0.579    \n",
       "sqft_living  247.3847     0.9273 266.775   <2e-16 ***\n",
       "---\n",
       "Signif. codes:  0 '***' 0.001 '**' 0.01 '*' 0.05 '.' 0.1 ' ' 1\n",
       "\n",
       "Residual standard error: 65020 on 6082 degrees of freedom\n",
       "Multiple R-squared:  0.9213,\tAdjusted R-squared:  0.9213 \n",
       "F-statistic: 7.117e+04 on 1 and 6082 DF,  p-value: < 2.2e-16\n"
      ]
     },
     "metadata": {},
     "output_type": "display_data"
    }
   ],
   "source": [
    "#Generar el modelo de regresión lineal\n",
    "reg.price <- lm(price ~ sqft_living, data = casas.entrenamiento)\n",
    "\n",
    "summary(reg.price)\n"
   ]
  },
  {
   "cell_type": "markdown",
   "metadata": {},
   "source": [
    "#### Nota:\n",
    "\n",
    "Al realizar este análisis los parámetros de la ecuación de la recta de mínimos cuadrados que relaciona el número de metros de construcción con respecto al precio, para ello, se obtiene la recta Y = 247.3847 * X + 1207.6319"
   ]
  },
  {
   "cell_type": "markdown",
   "metadata": {},
   "source": [
    "### Notas importantes"
   ]
  },
  {
   "cell_type": "markdown",
   "metadata": {},
   "source": [
    "![Summaryregresión lineal simple](img/summary_lm.png)"
   ]
  },
  {
   "cell_type": "markdown",
   "metadata": {},
   "source": [
    "* Call: y muestra la formula con la que obtuvimos el modelo. Es útil para evitar confusiones, especialmente si estamos comparando varios modelos a la vez. Podemos saber exactamente a qué variables dependientes e independientes corresponde el sumario.\n",
    "* Residuals: y nos da 5 estadísticos sobre la distribución de los residuos del modelo: valores mínimos, 1er, 2do y 3er cuartil y valor máximo. La media de los residuos siempre es cero, así que es un parámetro de referencia que no aparece en el sumario, pero que nos resulta útil. Si los residuos se distribuyen conforme a una distribución normal deberíamos esperar que la mediana sea 0 o muy cerca de 0, y que el 1er y 3er cuartil sean simétricos. Lo mismo para lo valores mínimos o máximos. Si hay desviaciones notables de media y mediana y no hay simetría entre cuartiles es muy probable que no estemos cumpliendo con algunos de los supuestos de los modelos lineales.\n",
    "* Coefficients: y muestra los coeficientes estimados por el modelo, es decir, los parámetros ocultos β0 y β1 de la ecuación 1. Estas son la ordenada al origen (Intercept) y las pendientes estimadas para cada variable.\n",
    "* Residual se registra el error estandar para la estimación de cada variable, al que podemos interpretar como el promedio de los residuos. A partir del coeficiente estimado y el error estándar se computa un valor t, un estadístico de la divergencia entre el estimado que produce el modelo y un estimado hipotético con valor 0. Cuanto más alto es el valor t mayor la divergencia entre los coeficientes del modelo y el coeficiente igual a cero. \n",
    "* El p-value de la prueba de hipótesis del estadístico t, que indica la probabilidad de obtener un estimado como el que obtuvimos si el coeficiente real fuera 0. Si la probabilidad de este evento es muy baja podemos rechazar la hipótesis de nulidad según la cuál el verdadero estimado es cero. Esto no significa que nuestro modelo sea verdadero, simplemente que es poco verosímil que obtuviéramos estos estimados siendo verdadero que la pendiente es 0. Si el p-value es alto (digamos, mayor que 0.05) no podemos rechazar la hipótesis de nulidad y deberíamos tratar a nuestro estimado como si fuera 0: la pendiente es horizontal, no hay diferencias significativas en los valores de y a medida que varía el valor de x.\n",
    "* El error estándar de los residuos y los valores de R2, múltiple y ajustado. El R^2 de 0.9213 indica el modelo explica un 92.13% de la varianza de la variable dependiente. El resto de la varianza puede atribuirse al azar o a otras variables que no hemos incorporado al modelo.\n",
    "*El estadístico F y el p-value correspondiente. El estadístico F considera a la varianza explicada y la no explicada y es la base de una prueba de hipótesis en la que contrasta a nuestro modelo con uno hipotético en el que las variables no tienen efectos, es decir, con todos los coeficientes iguales a 0. Si el p-value del estadístico F es menor a cierto criterio –usualmente menor que 0.05– podemos rechazar esta hipótesis de nulidad."
   ]
  },
  {
   "cell_type": "markdown",
   "metadata": {},
   "source": [
    "## Evaluación"
   ]
  },
  {
   "cell_type": "markdown",
   "metadata": {},
   "source": [
    "Se realiza una evaluación de los residuos de la regresión lineal."
   ]
  },
  {
   "cell_type": "markdown",
   "metadata": {},
   "source": [
    "### Residuos normales\n",
    "![Residuos normales](img/summary_resi.png)\n",
    "### Residuos anormales\n",
    "![Residuos anormales](img/summary_resi_ano.png)"
   ]
  },
  {
   "cell_type": "code",
   "execution_count": 40,
   "metadata": {},
   "outputs": [
    {
     "data": {
      "image/png": "[encoded data removed]",
      "text/plain": [
       "Plot with title \"Normal Q-Q Plot\""
      ]
     },
     "metadata": {},
     "output_type": "display_data"
    }
   ],
   "source": [
    "residuos<-rstandard(reg.price) # residuos estándares del modelo ajustado (completo) \n",
    "par(mfrow=c(1,3)) # divide la ventana en una fila y tres columnas \n",
    "hist(residuos) # histograma de los residuos estandarizados \n",
    "boxplot(residuos) # diagrama de cajas de los residuos estandarizados \n",
    "qqnorm(residuos) # gráfico de cuantiles de los residuos estandarizados \n",
    "qqline(residuos)  \n",
    "par(mfrow=c(1,1)) # devuelve la pantalla a su estado original"
   ]
  },
  {
   "cell_type": "markdown",
   "metadata": {},
   "source": [
    "Se realizará un gráfico para observar la línea del modelo de regresión lineal"
   ]
  },
  {
   "cell_type": "code",
   "execution_count": 73,
   "metadata": {},
   "outputs": [
    {
     "data": {
      "image/png": "[encoded data removed]",
      "text/plain": [
       "plot without title"
      ]
     },
     "metadata": {},
     "output_type": "display_data"
    }
   ],
   "source": [
    "y<-casas.entrenamiento$price\n",
    "x<-casas.entrenamiento$sqft_living\n",
    "fit<-lm(y ~ x)\n",
    "plot(x,y,ylab = 'price', xlab = 'sqft_lot')\n",
    "abline(fit,col=\"red\")"
   ]
  },
  {
   "cell_type": "markdown",
   "metadata": {},
   "source": [
    "En el siguiente gráfico, se muestra la línea del modelo de regresión lineal y los coeficientes que se generaron en color rojo para reflejar la distancia correspondiente entre la línea de predicción y el valor real de la observación."
   ]
  },
  {
   "cell_type": "code",
   "execution_count": 51,
   "metadata": {},
   "outputs": [
    {
     "data": {
      "image/png": "[encoded data removed]",
      "text/plain": [
       "plot without title"
      ]
     },
     "metadata": {},
     "output_type": "display_data"
    }
   ],
   "source": [
    "predt <- function(fit, x) {  # hand-made prediction function\n",
    "  return (fit$coefficients[[1]] + x * fit$coefficients[[2]])\n",
    "}\n",
    "y<-casas.entrenamiento$price\n",
    "x<-casas.entrenamiento$sqft_living\n",
    "plot(x,y,pch=16)\n",
    "abline(fit,col=\"red\")\n",
    "segments(x,predt(fit,x),x,y,col=\"red\",lty=2)"
   ]
  },
  {
   "cell_type": "markdown",
   "metadata": {},
   "source": [
    "En el siguiente gráfico, se muestra la línea del modelo de regresión lineal y los coeficientes que se generaron en color rojo para reflejar la distancia correspondiente entre la línea de predicción y el valor real de la observación. Los puntos azules muestran el valor de predicción que brindo el modelo regresión con respecto a la observación o valor real."
   ]
  },
  {
   "cell_type": "code",
   "execution_count": 60,
   "metadata": {},
   "outputs": [
    {
     "data": {
      "image/png": "[encoded data removed]",
      "text/plain": [
       "plot without title"
      ]
     },
     "metadata": {},
     "output_type": "display_data"
    }
   ],
   "source": [
    "prediccion <-predict(reg.price, casas.prueba)\n",
    "y<-casas.prueba$price\n",
    "x<-casas.prueba$sqft_living\n",
    "plot(x,y,ylab = 'price', xlab = 'sqft_lot')\n",
    "segments(x,y,x,prediccion, col=\"darkgreen\", lwd = 2)\n",
    "abline(fit,col=\"red\")\n",
    "points(x,prediccion,col=\"blue\",pch=3)"
   ]
  },
  {
   "cell_type": "markdown",
   "metadata": {},
   "source": [
    "Se realizará el proceso para obtener valores de predicción a partir del modelo de regresión lineal simple generado."
   ]
  },
  {
   "cell_type": "markdown",
   "metadata": {},
   "source": [
    "Se utiliza los datos de prueba para la prediccion "
   ]
  },
  {
   "cell_type": "code",
   "execution_count": 86,
   "metadata": {},
   "outputs": [],
   "source": [
    "casas.prueba$prediccion <- predict(reg.price, newdata = casas.prueba)"
   ]
  },
  {
   "cell_type": "markdown",
   "metadata": {},
   "source": [
    "Para una casa de 3000 metros el valor a predecir es de 743361.789 dólares"
   ]
  },
  {
   "cell_type": "code",
   "execution_count": 87,
   "metadata": {},
   "outputs": [
    {
     "data": {
      "text/html": [
       "<strong>1:</strong> 743361.789085731"
      ],
      "text/latex": [
       "\\textbf{1:} 743361.789085731"
      ],
      "text/markdown": [
       "**1:** 743361.789085731"
      ],
      "text/plain": [
       "       1 \n",
       "743361.8 "
      ]
     },
     "metadata": {},
     "output_type": "display_data"
    }
   ],
   "source": [
    "precio_casa <- data.frame(sqft_living = 3000)\n",
    "precio_casa.prediccion <-predict(reg.price, newdata = precio_casa)\n",
    "precio_casa.prediccion"
   ]
  },
  {
   "cell_type": "markdown",
   "metadata": {},
   "source": [
    "Los valores de la predicion de los datos de prueba"
   ]
  },
  {
   "cell_type": "code",
   "execution_count": 88,
   "metadata": {},
   "outputs": [
    {
     "data": {
      "text/html": [
       "<table>\n",
       "<thead><tr><th></th><th scope=col>price</th><th scope=col>sqft_living</th><th scope=col>Prediccion</th><th scope=col>prediccion</th></tr></thead>\n",
       "<tbody>\n",
       "\t<tr><th scope=row>6</th><td> 400000  </td><td>1370     </td><td> 340124.7</td><td> 340124.7</td></tr>\n",
       "\t<tr><th scope=row>7</th><td> 530000  </td><td>1810     </td><td> 448974.0</td><td> 448974.0</td></tr>\n",
       "\t<tr><th scope=row>9</th><td> 395000  </td><td>1890     </td><td> 468764.8</td><td> 468764.8</td></tr>\n",
       "\t<tr><th scope=row>13</th><td> 719000  </td><td>2570     </td><td> 636986.4</td><td> 636986.4</td></tr>\n",
       "\t<tr><th scope=row>16</th><td> 687500  </td><td>2330     </td><td> 577614.0</td><td> 577614.0</td></tr>\n",
       "\t<tr><th scope=row>17</th><td> 640000  </td><td>2360     </td><td> 585035.6</td><td> 585035.6</td></tr>\n",
       "\t<tr><th scope=row>18</th><td> 605000  </td><td>2620     </td><td> 649355.6</td><td> 649355.6</td></tr>\n",
       "\t<tr><th scope=row>30</th><td>1040000  </td><td>4770     </td><td>1181232.7</td><td>1181232.7</td></tr>\n",
       "\t<tr><th scope=row>32</th><td> 571000  </td><td>2750     </td><td> 681515.6</td><td> 681515.6</td></tr>\n",
       "\t<tr><th scope=row>33</th><td> 832500  </td><td>3430     </td><td> 849737.2</td><td> 849737.2</td></tr>\n",
       "\t<tr><th scope=row>42</th><td> 460000  </td><td>1670     </td><td> 414340.1</td><td> 414340.1</td></tr>\n",
       "\t<tr><th scope=row>47</th><td> 660000  </td><td>2400     </td><td> 594931.0</td><td> 594931.0</td></tr>\n",
       "\t<tr><th scope=row>49</th><td> 445000  </td><td>2100     </td><td> 520715.5</td><td> 520715.5</td></tr>\n",
       "\t<tr><th scope=row>52</th><td> 430000  </td><td>2070     </td><td> 513294.0</td><td> 513294.0</td></tr>\n",
       "\t<tr><th scope=row>60</th><td> 441000  </td><td>1910     </td><td> 473712.4</td><td> 473712.4</td></tr>\n",
       "\t<tr><th scope=row>62</th><td> 370000  </td><td>1580     </td><td> 392075.5</td><td> 392075.5</td></tr>\n",
       "\t<tr><th scope=row>65</th><td> 371500  </td><td>1370     </td><td> 340124.7</td><td> 340124.7</td></tr>\n",
       "\t<tr><th scope=row>69</th><td> 399950  </td><td>1970     </td><td> 488555.5</td><td> 488555.5</td></tr>\n",
       "\t<tr><th scope=row>71</th><td> 589000  </td><td>2440     </td><td> 604826.3</td><td> 604826.3</td></tr>\n",
       "\t<tr><th scope=row>73</th><td>1095000  </td><td>4090     </td><td>1013011.1</td><td>1013011.1</td></tr>\n",
       "\t<tr><th scope=row>80</th><td> 385000  </td><td>1350     </td><td> 335177.0</td><td> 335177.0</td></tr>\n",
       "\t<tr><th scope=row>91</th><td> 500000  </td><td>2280     </td><td> 565244.8</td><td> 565244.8</td></tr>\n",
       "\t<tr><th scope=row>92</th><td> 213000  </td><td>1000     </td><td> 248592.4</td><td> 248592.4</td></tr>\n",
       "\t<tr><th scope=row>99</th><td> 349500  </td><td>1400     </td><td> 347546.2</td><td> 347546.2</td></tr>\n",
       "\t<tr><th scope=row>100</th><td> 255000  </td><td>1230     </td><td> 305490.8</td><td> 305490.8</td></tr>\n",
       "\t<tr><th scope=row>101</th><td> 693000  </td><td>2460     </td><td> 609774.0</td><td> 609774.0</td></tr>\n",
       "\t<tr><th scope=row>102</th><td> 525000  </td><td>2100     </td><td> 520715.5</td><td> 520715.5</td></tr>\n",
       "\t<tr><th scope=row>107</th><td> 780000  </td><td>3500     </td><td> 867054.1</td><td> 867054.1</td></tr>\n",
       "\t<tr><th scope=row>110</th><td> 389999  </td><td>1890     </td><td> 468764.8</td><td> 468764.8</td></tr>\n",
       "\t<tr><th scope=row>113</th><td> 879000  </td><td>3360     </td><td> 832420.3</td><td> 832420.3</td></tr>\n",
       "\t<tr><th scope=row>...</th><td>...</td><td>...</td><td>...</td><td>...</td></tr>\n",
       "\t<tr><th scope=row>8162</th><td> 680000  </td><td>2570     </td><td> 636986.4</td><td> 636986.4</td></tr>\n",
       "\t<tr><th scope=row>8173</th><td> 370000  </td><td>1390     </td><td> 345072.4</td><td> 345072.4</td></tr>\n",
       "\t<tr><th scope=row>8176</th><td> 705000  </td><td>3250     </td><td> 805208.0</td><td> 805208.0</td></tr>\n",
       "\t<tr><th scope=row>8178</th><td> 365000  </td><td>1310     </td><td> 325281.6</td><td> 325281.6</td></tr>\n",
       "\t<tr><th scope=row>8186</th><td> 350000  </td><td>1660     </td><td> 411866.3</td><td> 411866.3</td></tr>\n",
       "\t<tr><th scope=row>8188</th><td> 830000  </td><td>3080     </td><td> 763152.6</td><td> 763152.6</td></tr>\n",
       "\t<tr><th scope=row>8189</th><td> 460000  </td><td>2200     </td><td> 545454.0</td><td> 545454.0</td></tr>\n",
       "\t<tr><th scope=row>8190</th><td> 370000  </td><td>1360     </td><td> 337650.8</td><td> 337650.8</td></tr>\n",
       "\t<tr><th scope=row>8195</th><td> 374950  </td><td>1390     </td><td> 345072.4</td><td> 345072.4</td></tr>\n",
       "\t<tr><th scope=row>8200</th><td> 530000  </td><td>1970     </td><td> 488555.5</td><td> 488555.5</td></tr>\n",
       "\t<tr><th scope=row>8204</th><td> 410000  </td><td>1420     </td><td> 352493.9</td><td> 352493.9</td></tr>\n",
       "\t<tr><th scope=row>8205</th><td> 358000  </td><td>1400     </td><td> 347546.2</td><td> 347546.2</td></tr>\n",
       "\t<tr><th scope=row>8207</th><td> 650000  </td><td>2210     </td><td> 547927.9</td><td> 547927.9</td></tr>\n",
       "\t<tr><th scope=row>8209</th><td> 315000  </td><td>1480     </td><td> 367337.0</td><td> 367337.0</td></tr>\n",
       "\t<tr><th scope=row>8210</th><td> 375000  </td><td>1290     </td><td> 320333.9</td><td> 320333.9</td></tr>\n",
       "\t<tr><th scope=row>8215</th><td>1020000  </td><td>3770     </td><td> 933848.0</td><td> 933848.0</td></tr>\n",
       "\t<tr><th scope=row>8216</th><td> 875000  </td><td>2960     </td><td> 733466.4</td><td> 733466.4</td></tr>\n",
       "\t<tr><th scope=row>8224</th><td> 407500  </td><td>1522     </td><td> 377727.2</td><td> 377727.2</td></tr>\n",
       "\t<tr><th scope=row>8228</th><td> 484000  </td><td>1620     </td><td> 401970.9</td><td> 401970.9</td></tr>\n",
       "\t<tr><th scope=row>8230</th><td> 649950  </td><td>2420     </td><td> 599878.7</td><td> 599878.7</td></tr>\n",
       "\t<tr><th scope=row>8234</th><td> 850000  </td><td>4200     </td><td>1040223.5</td><td>1040223.5</td></tr>\n",
       "\t<tr><th scope=row>8246</th><td> 535000  </td><td>2610     </td><td> 646881.7</td><td> 646881.7</td></tr>\n",
       "\t<tr><th scope=row>8247</th><td> 670000  </td><td>3310     </td><td> 820051.1</td><td> 820051.1</td></tr>\n",
       "\t<tr><th scope=row>8248</th><td>1325000  </td><td>4420     </td><td>1094648.1</td><td>1094648.1</td></tr>\n",
       "\t<tr><th scope=row>8250</th><td> 338500  </td><td>1333     </td><td> 330971.5</td><td> 330971.5</td></tr>\n",
       "\t<tr><th scope=row>8255</th><td> 465000  </td><td>2050     </td><td> 508346.3</td><td> 508346.3</td></tr>\n",
       "\t<tr><th scope=row>8256</th><td> 330000  </td><td>1450     </td><td> 359915.5</td><td> 359915.5</td></tr>\n",
       "\t<tr><th scope=row>8259</th><td> 785000  </td><td>3070     </td><td> 760678.7</td><td> 760678.7</td></tr>\n",
       "\t<tr><th scope=row>8268</th><td> 429000  </td><td>1490     </td><td> 369810.9</td><td> 369810.9</td></tr>\n",
       "\t<tr><th scope=row>8272</th><td> 400000  </td><td>1600     </td><td> 397023.2</td><td> 397023.2</td></tr>\n",
       "</tbody>\n",
       "</table>\n"
      ],
      "text/latex": [
       "\\begin{tabular}{r|llll}\n",
       "  & price & sqft\\_living & Prediccion & prediccion\\\\\n",
       "\\hline\n",
       "\t6 &  400000   & 1370      &  340124.7 &  340124.7\\\\\n",
       "\t7 &  530000   & 1810      &  448974.0 &  448974.0\\\\\n",
       "\t9 &  395000   & 1890      &  468764.8 &  468764.8\\\\\n",
       "\t13 &  719000   & 2570      &  636986.4 &  636986.4\\\\\n",
       "\t16 &  687500   & 2330      &  577614.0 &  577614.0\\\\\n",
       "\t17 &  640000   & 2360      &  585035.6 &  585035.6\\\\\n",
       "\t18 &  605000   & 2620      &  649355.6 &  649355.6\\\\\n",
       "\t30 & 1040000   & 4770      & 1181232.7 & 1181232.7\\\\\n",
       "\t32 &  571000   & 2750      &  681515.6 &  681515.6\\\\\n",
       "\t33 &  832500   & 3430      &  849737.2 &  849737.2\\\\\n",
       "\t42 &  460000   & 1670      &  414340.1 &  414340.1\\\\\n",
       "\t47 &  660000   & 2400      &  594931.0 &  594931.0\\\\\n",
       "\t49 &  445000   & 2100      &  520715.5 &  520715.5\\\\\n",
       "\t52 &  430000   & 2070      &  513294.0 &  513294.0\\\\\n",
       "\t60 &  441000   & 1910      &  473712.4 &  473712.4\\\\\n",
       "\t62 &  370000   & 1580      &  392075.5 &  392075.5\\\\\n",
       "\t65 &  371500   & 1370      &  340124.7 &  340124.7\\\\\n",
       "\t69 &  399950   & 1970      &  488555.5 &  488555.5\\\\\n",
       "\t71 &  589000   & 2440      &  604826.3 &  604826.3\\\\\n",
       "\t73 & 1095000   & 4090      & 1013011.1 & 1013011.1\\\\\n",
       "\t80 &  385000   & 1350      &  335177.0 &  335177.0\\\\\n",
       "\t91 &  500000   & 2280      &  565244.8 &  565244.8\\\\\n",
       "\t92 &  213000   & 1000      &  248592.4 &  248592.4\\\\\n",
       "\t99 &  349500   & 1400      &  347546.2 &  347546.2\\\\\n",
       "\t100 &  255000   & 1230      &  305490.8 &  305490.8\\\\\n",
       "\t101 &  693000   & 2460      &  609774.0 &  609774.0\\\\\n",
       "\t102 &  525000   & 2100      &  520715.5 &  520715.5\\\\\n",
       "\t107 &  780000   & 3500      &  867054.1 &  867054.1\\\\\n",
       "\t110 &  389999   & 1890      &  468764.8 &  468764.8\\\\\n",
       "\t113 &  879000   & 3360      &  832420.3 &  832420.3\\\\\n",
       "\t... & ... & ... & ... & ...\\\\\n",
       "\t8162 &  680000   & 2570      &  636986.4 &  636986.4\\\\\n",
       "\t8173 &  370000   & 1390      &  345072.4 &  345072.4\\\\\n",
       "\t8176 &  705000   & 3250      &  805208.0 &  805208.0\\\\\n",
       "\t8178 &  365000   & 1310      &  325281.6 &  325281.6\\\\\n",
       "\t8186 &  350000   & 1660      &  411866.3 &  411866.3\\\\\n",
       "\t8188 &  830000   & 3080      &  763152.6 &  763152.6\\\\\n",
       "\t8189 &  460000   & 2200      &  545454.0 &  545454.0\\\\\n",
       "\t8190 &  370000   & 1360      &  337650.8 &  337650.8\\\\\n",
       "\t8195 &  374950   & 1390      &  345072.4 &  345072.4\\\\\n",
       "\t8200 &  530000   & 1970      &  488555.5 &  488555.5\\\\\n",
       "\t8204 &  410000   & 1420      &  352493.9 &  352493.9\\\\\n",
       "\t8205 &  358000   & 1400      &  347546.2 &  347546.2\\\\\n",
       "\t8207 &  650000   & 2210      &  547927.9 &  547927.9\\\\\n",
       "\t8209 &  315000   & 1480      &  367337.0 &  367337.0\\\\\n",
       "\t8210 &  375000   & 1290      &  320333.9 &  320333.9\\\\\n",
       "\t8215 & 1020000   & 3770      &  933848.0 &  933848.0\\\\\n",
       "\t8216 &  875000   & 2960      &  733466.4 &  733466.4\\\\\n",
       "\t8224 &  407500   & 1522      &  377727.2 &  377727.2\\\\\n",
       "\t8228 &  484000   & 1620      &  401970.9 &  401970.9\\\\\n",
       "\t8230 &  649950   & 2420      &  599878.7 &  599878.7\\\\\n",
       "\t8234 &  850000   & 4200      & 1040223.5 & 1040223.5\\\\\n",
       "\t8246 &  535000   & 2610      &  646881.7 &  646881.7\\\\\n",
       "\t8247 &  670000   & 3310      &  820051.1 &  820051.1\\\\\n",
       "\t8248 & 1325000   & 4420      & 1094648.1 & 1094648.1\\\\\n",
       "\t8250 &  338500   & 1333      &  330971.5 &  330971.5\\\\\n",
       "\t8255 &  465000   & 2050      &  508346.3 &  508346.3\\\\\n",
       "\t8256 &  330000   & 1450      &  359915.5 &  359915.5\\\\\n",
       "\t8259 &  785000   & 3070      &  760678.7 &  760678.7\\\\\n",
       "\t8268 &  429000   & 1490      &  369810.9 &  369810.9\\\\\n",
       "\t8272 &  400000   & 1600      &  397023.2 &  397023.2\\\\\n",
       "\\end{tabular}\n"
      ],
      "text/markdown": [
       "\n",
       "| <!--/--> | price | sqft_living | Prediccion | prediccion | \n",
       "|---|---|---|---|---|---|---|---|---|---|---|---|---|---|---|---|---|---|---|---|---|---|---|---|---|---|---|---|---|---|---|---|---|---|---|---|---|---|---|---|---|---|---|---|---|---|---|---|---|---|---|---|---|---|---|---|---|---|---|---|---|\n",
       "| 6 |  400000   | 1370      |  340124.7 |  340124.7 | \n",
       "| 7 |  530000   | 1810      |  448974.0 |  448974.0 | \n",
       "| 9 |  395000   | 1890      |  468764.8 |  468764.8 | \n",
       "| 13 |  719000   | 2570      |  636986.4 |  636986.4 | \n",
       "| 16 |  687500   | 2330      |  577614.0 |  577614.0 | \n",
       "| 17 |  640000   | 2360      |  585035.6 |  585035.6 | \n",
       "| 18 |  605000   | 2620      |  649355.6 |  649355.6 | \n",
       "| 30 | 1040000   | 4770      | 1181232.7 | 1181232.7 | \n",
       "| 32 |  571000   | 2750      |  681515.6 |  681515.6 | \n",
       "| 33 |  832500   | 3430      |  849737.2 |  849737.2 | \n",
       "| 42 |  460000   | 1670      |  414340.1 |  414340.1 | \n",
       "| 47 |  660000   | 2400      |  594931.0 |  594931.0 | \n",
       "| 49 |  445000   | 2100      |  520715.5 |  520715.5 | \n",
       "| 52 |  430000   | 2070      |  513294.0 |  513294.0 | \n",
       "| 60 |  441000   | 1910      |  473712.4 |  473712.4 | \n",
       "| 62 |  370000   | 1580      |  392075.5 |  392075.5 | \n",
       "| 65 |  371500   | 1370      |  340124.7 |  340124.7 | \n",
       "| 69 |  399950   | 1970      |  488555.5 |  488555.5 | \n",
       "| 71 |  589000   | 2440      |  604826.3 |  604826.3 | \n",
       "| 73 | 1095000   | 4090      | 1013011.1 | 1013011.1 | \n",
       "| 80 |  385000   | 1350      |  335177.0 |  335177.0 | \n",
       "| 91 |  500000   | 2280      |  565244.8 |  565244.8 | \n",
       "| 92 |  213000   | 1000      |  248592.4 |  248592.4 | \n",
       "| 99 |  349500   | 1400      |  347546.2 |  347546.2 | \n",
       "| 100 |  255000   | 1230      |  305490.8 |  305490.8 | \n",
       "| 101 |  693000   | 2460      |  609774.0 |  609774.0 | \n",
       "| 102 |  525000   | 2100      |  520715.5 |  520715.5 | \n",
       "| 107 |  780000   | 3500      |  867054.1 |  867054.1 | \n",
       "| 110 |  389999   | 1890      |  468764.8 |  468764.8 | \n",
       "| 113 |  879000   | 3360      |  832420.3 |  832420.3 | \n",
       "| ... | ... | ... | ... | ... | \n",
       "| 8162 |  680000   | 2570      |  636986.4 |  636986.4 | \n",
       "| 8173 |  370000   | 1390      |  345072.4 |  345072.4 | \n",
       "| 8176 |  705000   | 3250      |  805208.0 |  805208.0 | \n",
       "| 8178 |  365000   | 1310      |  325281.6 |  325281.6 | \n",
       "| 8186 |  350000   | 1660      |  411866.3 |  411866.3 | \n",
       "| 8188 |  830000   | 3080      |  763152.6 |  763152.6 | \n",
       "| 8189 |  460000   | 2200      |  545454.0 |  545454.0 | \n",
       "| 8190 |  370000   | 1360      |  337650.8 |  337650.8 | \n",
       "| 8195 |  374950   | 1390      |  345072.4 |  345072.4 | \n",
       "| 8200 |  530000   | 1970      |  488555.5 |  488555.5 | \n",
       "| 8204 |  410000   | 1420      |  352493.9 |  352493.9 | \n",
       "| 8205 |  358000   | 1400      |  347546.2 |  347546.2 | \n",
       "| 8207 |  650000   | 2210      |  547927.9 |  547927.9 | \n",
       "| 8209 |  315000   | 1480      |  367337.0 |  367337.0 | \n",
       "| 8210 |  375000   | 1290      |  320333.9 |  320333.9 | \n",
       "| 8215 | 1020000   | 3770      |  933848.0 |  933848.0 | \n",
       "| 8216 |  875000   | 2960      |  733466.4 |  733466.4 | \n",
       "| 8224 |  407500   | 1522      |  377727.2 |  377727.2 | \n",
       "| 8228 |  484000   | 1620      |  401970.9 |  401970.9 | \n",
       "| 8230 |  649950   | 2420      |  599878.7 |  599878.7 | \n",
       "| 8234 |  850000   | 4200      | 1040223.5 | 1040223.5 | \n",
       "| 8246 |  535000   | 2610      |  646881.7 |  646881.7 | \n",
       "| 8247 |  670000   | 3310      |  820051.1 |  820051.1 | \n",
       "| 8248 | 1325000   | 4420      | 1094648.1 | 1094648.1 | \n",
       "| 8250 |  338500   | 1333      |  330971.5 |  330971.5 | \n",
       "| 8255 |  465000   | 2050      |  508346.3 |  508346.3 | \n",
       "| 8256 |  330000   | 1450      |  359915.5 |  359915.5 | \n",
       "| 8259 |  785000   | 3070      |  760678.7 |  760678.7 | \n",
       "| 8268 |  429000   | 1490      |  369810.9 |  369810.9 | \n",
       "| 8272 |  400000   | 1600      |  397023.2 |  397023.2 | \n",
       "\n",
       "\n"
      ],
      "text/plain": [
       "     price   sqft_living Prediccion prediccion\n",
       "6     400000 1370         340124.7   340124.7 \n",
       "7     530000 1810         448974.0   448974.0 \n",
       "9     395000 1890         468764.8   468764.8 \n",
       "13    719000 2570         636986.4   636986.4 \n",
       "16    687500 2330         577614.0   577614.0 \n",
       "17    640000 2360         585035.6   585035.6 \n",
       "18    605000 2620         649355.6   649355.6 \n",
       "30   1040000 4770        1181232.7  1181232.7 \n",
       "32    571000 2750         681515.6   681515.6 \n",
       "33    832500 3430         849737.2   849737.2 \n",
       "42    460000 1670         414340.1   414340.1 \n",
       "47    660000 2400         594931.0   594931.0 \n",
       "49    445000 2100         520715.5   520715.5 \n",
       "52    430000 2070         513294.0   513294.0 \n",
       "60    441000 1910         473712.4   473712.4 \n",
       "62    370000 1580         392075.5   392075.5 \n",
       "65    371500 1370         340124.7   340124.7 \n",
       "69    399950 1970         488555.5   488555.5 \n",
       "71    589000 2440         604826.3   604826.3 \n",
       "73   1095000 4090        1013011.1  1013011.1 \n",
       "80    385000 1350         335177.0   335177.0 \n",
       "91    500000 2280         565244.8   565244.8 \n",
       "92    213000 1000         248592.4   248592.4 \n",
       "99    349500 1400         347546.2   347546.2 \n",
       "100   255000 1230         305490.8   305490.8 \n",
       "101   693000 2460         609774.0   609774.0 \n",
       "102   525000 2100         520715.5   520715.5 \n",
       "107   780000 3500         867054.1   867054.1 \n",
       "110   389999 1890         468764.8   468764.8 \n",
       "113   879000 3360         832420.3   832420.3 \n",
       "...  ...     ...         ...        ...       \n",
       "8162  680000 2570         636986.4   636986.4 \n",
       "8173  370000 1390         345072.4   345072.4 \n",
       "8176  705000 3250         805208.0   805208.0 \n",
       "8178  365000 1310         325281.6   325281.6 \n",
       "8186  350000 1660         411866.3   411866.3 \n",
       "8188  830000 3080         763152.6   763152.6 \n",
       "8189  460000 2200         545454.0   545454.0 \n",
       "8190  370000 1360         337650.8   337650.8 \n",
       "8195  374950 1390         345072.4   345072.4 \n",
       "8200  530000 1970         488555.5   488555.5 \n",
       "8204  410000 1420         352493.9   352493.9 \n",
       "8205  358000 1400         347546.2   347546.2 \n",
       "8207  650000 2210         547927.9   547927.9 \n",
       "8209  315000 1480         367337.0   367337.0 \n",
       "8210  375000 1290         320333.9   320333.9 \n",
       "8215 1020000 3770         933848.0   933848.0 \n",
       "8216  875000 2960         733466.4   733466.4 \n",
       "8224  407500 1522         377727.2   377727.2 \n",
       "8228  484000 1620         401970.9   401970.9 \n",
       "8230  649950 2420         599878.7   599878.7 \n",
       "8234  850000 4200        1040223.5  1040223.5 \n",
       "8246  535000 2610         646881.7   646881.7 \n",
       "8247  670000 3310         820051.1   820051.1 \n",
       "8248 1325000 4420        1094648.1  1094648.1 \n",
       "8250  338500 1333         330971.5   330971.5 \n",
       "8255  465000 2050         508346.3   508346.3 \n",
       "8256  330000 1450         359915.5   359915.5 \n",
       "8259  785000 3070         760678.7   760678.7 \n",
       "8268  429000 1490         369810.9   369810.9 \n",
       "8272  400000 1600         397023.2   397023.2 "
      ]
     },
     "metadata": {},
     "output_type": "display_data"
    }
   ],
   "source": [
    "casas.prueba"
   ]
  },
  {
   "cell_type": "markdown",
   "metadata": {},
   "source": [
    "## Resultados"
   ]
  },
  {
   "cell_type": "markdown",
   "metadata": {},
   "source": [
    "En conclusión, los valores obtenidos por la modelación de regresión lineal simple en los datos se estudiaron pueden establecerse como muy buenos, debido a que el total de las observaciones que puede predecir correctamente es de alrededor del 93 por ciento y solo un 7 por ciento con margen de error. Por lo que se recomienda utilizar el modelo generado para predecir el precio a partir de los metros cuadrados de construcción en el condado de King."
   ]
  },
  {
   "cell_type": "code",
   "execution_count": null,
   "metadata": {},
   "outputs": [],
   "source": []
  }
 ],
 "metadata": {
  "kernelspec": {
   "display_name": "R",
   "language": "R",
   "name": "ir"
  },
  "language_info": {
   "codemirror_mode": "r",
   "file_extension": ".r",
   "mimetype": "text/x-r-source",
   "name": "R",
   "pygments_lexer": "r",
   "version": "3.3.3"
  }
 },
 "nbformat": 4,
 "nbformat_minor": 2
}
